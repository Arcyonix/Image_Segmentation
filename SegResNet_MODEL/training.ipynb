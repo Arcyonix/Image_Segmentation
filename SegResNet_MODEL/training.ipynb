{
 "cells": [
  {
   "cell_type": "markdown",
   "id": "664a04ae-7a19-47e1-b711-ddc7e988d372",
   "metadata": {},
   "source": [
    "This Main jupyter file is where the training of the main models occur. This is done with references to the MONAI tutorial on 3d_segmentation\n",
    "\n",
    "    1)Transforms for dictionary format data.\n",
    "    2)Define a new transform according to MONAI transform API.\n",
    "    3)Load NRRD image with metadata, load a list of images and stack them.\n",
    "    4)Randomly adjust intensity for data augmentation.\n",
    "    5)Cache IO and transforms to accelerate training and validation.\n",
    "    6)3D UNETR model, DiceCE loss function, Mean Dice metric and HausdorffDistanceMetric\n",
    "    7)Saves all the loss graph plot and dice plot\n",
    "    8)Saves plot of final predicted label vs baseline label\n",
    "    \n",
    "    \n",
    "\n",
    "\n",
    "[1]: Hatamizadeh, A., Tang, Y., Nath, V., Yang, D., Myronenko, A., Landman, B., Roth, H.R. and Xu, D., 2022. Unetr: Transformers for 3d medical image segmentation. In Proceedings of the IEEE/CVF Winter Conference on Applications of Computer Vision (pp. 574-584)."
   ]
  },
  {
   "cell_type": "code",
   "execution_count": 1,
   "id": "574c552b-4d52-4498-9321-05b7aa08ef0b",
   "metadata": {},
   "outputs": [
    {
     "name": "stderr",
     "output_type": "stream",
     "text": [
      "/usr/lib/python3/dist-packages/scipy/__init__.py:146: UserWarning: A NumPy version >=1.17.3 and <1.25.0 is required for this version of SciPy (detected version 1.26.4\n",
      "  warnings.warn(f\"A NumPy version >={np_minversion} and <{np_maxversion}\"\n"
     ]
    },
    {
     "name": "stdout",
     "output_type": "stream",
     "text": [
      "MONAI version: 1.3.0\n",
      "Numpy version: 1.26.4\n",
      "Pytorch version: 2.3.0+cu121\n",
      "MONAI flags: HAS_EXT = False, USE_COMPILED = False, USE_META_DICT = False\n",
      "MONAI rev id: 865972f7a791bf7b42efbcd87c8402bd865b329e\n",
      "MONAI __file__: /home/<username>/.local/lib/python3.10/site-packages/monai/__init__.py\n",
      "\n",
      "Optional dependencies:\n",
      "Pytorch Ignite version: 0.4.11\n",
      "ITK version: 5.3.0\n",
      "Nibabel version: 5.2.1\n",
      "scikit-image version: 0.21.0\n",
      "scipy version: 1.8.0\n",
      "Pillow version: 9.0.1\n",
      "Tensorboard version: 2.16.2\n",
      "gdown version: 4.7.3\n",
      "TorchVision version: 0.18.0+cu121\n",
      "tqdm version: 4.66.2\n",
      "lmdb version: 1.4.1\n",
      "psutil version: 5.9.5\n",
      "pandas version: 1.3.5\n",
      "einops version: 0.7.0\n",
      "transformers version: 4.21.3\n",
      "mlflow version: 2.11.3\n",
      "pynrrd version: 1.0.0\n",
      "clearml version: 1.15.1\n",
      "\n",
      "For details about installing the optional dependencies, please visit:\n",
      "    https://docs.monai.io/en/latest/installation.html#installing-the-recommended-dependencies\n",
      "\n"
     ]
    }
   ],
   "source": [
    "import os\n",
    "import shutil\n",
    "import tempfile\n",
    "import torch\n",
    "\n",
    "import matplotlib.pyplot as plt\n",
    "from tqdm import tqdm\n",
    "\n",
    "import nrrd\n",
    "\n",
    "import numpy as np\n",
    "import SimpleITK as sitk\n",
    "\n",
    "from monai.losses import DiceCELoss\n",
    "from monai.inferers import sliding_window_inference\n",
    "from monai.transforms import (\n",
    "    AsDiscrete,\n",
    "    EnsureChannelFirstd,\n",
    "    Compose,\n",
    "    CropForegroundd,\n",
    "    LoadImaged,\n",
    "    Orientationd,\n",
    "    RandFlipd,\n",
    "    RandCropByPosNegLabeld,\n",
    "    RandShiftIntensityd,\n",
    "    ScaleIntensityRanged,\n",
    "    Spacingd,\n",
    "    RandRotate90d,\n",
    "    Resized,\n",
    "    SaveImage,\n",
    ")\n",
    "from monai.config import print_config\n",
    "from monai.metrics import DiceMetric\n",
    "\n",
    "from monai.networks.nets import SegResNet\n",
    "\n",
    "from monai.data import (\n",
    "    DataLoader,\n",
    "    CacheDataset,\n",
    "    load_decathlon_datalist,\n",
    "    decollate_batch,\n",
    ")\n",
    "print_config()"
   ]
  },
  {
   "cell_type": "markdown",
   "id": "28fd8929-6555-4852-9f89-2069af3c3f64",
   "metadata": {},
   "source": [
    "## Setup data directory (For saving and loading of data)\n",
    "## If not specified a temporary directory will be used."
   ]
  },
  {
   "cell_type": "code",
   "execution_count": 2,
   "id": "24749074-5624-48a3-b07e-81e8875d312f",
   "metadata": {},
   "outputs": [
    {
     "name": "stdout",
     "output_type": "stream",
     "text": [
      "/home/katan/\n"
     ]
    }
   ],
   "source": [
    "directory = '/home/katan/'\n",
    "root_dir = tempfile.mkdtemp() if directory is None else directory\n",
    "print(root_dir)"
   ]
  },
  {
   "cell_type": "markdown",
   "id": "cd2bb710-e622-4498-be68-9c66a54692d4",
   "metadata": {},
   "source": [
    "## Setup Transformer\n"
   ]
  },
  {
   "cell_type": "code",
   "execution_count": 3,
   "id": "ec2af753-6830-4d47-9dec-3d35b66d8380",
   "metadata": {},
   "outputs": [
    {
     "name": "stderr",
     "output_type": "stream",
     "text": [
      "monai.transforms.croppad.dictionary CropForegroundd.__init__:allow_smaller: Current default value of argument `allow_smaller=True` has been deprecated since version 1.2. It will be changed to `allow_smaller=False` in version 1.5.\n"
     ]
    }
   ],
   "source": [
    "train_transforms = Compose(\n",
    "    [\n",
    "\n",
    "        # Loads images and corresponding labels from the specified keys.\n",
    "        LoadImaged(keys=[\"image\", \"label\"]),\n",
    "                         \n",
    "        #Ensures that the channel dimension is the first dimension in both the image and label arrays.\n",
    "        EnsureChannelFirstd(keys=[\"image\", \"label\"]),\n",
    "        #Reshapes the image and label arrays according to the provided orientation codes (\"RAS\" in this case),\n",
    "        #ensuring consistent orientation across different images.\n",
    "        Orientationd(keys=[\"image\", \"label\"], axcodes=\"RAS\"),\n",
    "        #’RAS’ represents 3D orientation: (Left, Right), (Posterior, Anterior), (Inferior, Superior).\n",
    "          Spacingd(\n",
    "            keys=[\"image\", \"label\"],\n",
    "            pixdim=(1.5, 1.5, 1.0),  # Adjusted for the new volume sizes\n",
    "            mode=(\"bilinear\", \"nearest\"),\n",
    "        ),\n",
    "        \n",
    "        #Scales the intensity values of the images within a specified range (a_min to a_max) to a new range (b_min to b_max). \n",
    "        #It's commonly used for normalization.\n",
    "        ScaleIntensityRanged(\n",
    "            keys=[\"image\"],\n",
    "            a_min=-175,\n",
    "            a_max=250,\n",
    "            b_min=0.0,\n",
    "            b_max=1.0,\n",
    "            clip=True,\n",
    "        ),\n",
    "\n",
    "        #Crops the foreground (non-zero intensity regions) of the images and corresponding labels.\n",
    "        #It uses the source key \"image\" to determine the foreground region.\n",
    "        #good when the valid part is small in the image\n",
    "        CropForegroundd(keys=[\"image\", \"label\"], source_key=\"image\"),\n",
    "\n",
    "\n",
    "        #Performs random cropping based on positive and negative labels. \n",
    "        #It selects random spatial locations based on the specified spatial size and the number of positive and negative samples.\n",
    "                         \n",
    "        RandCropByPosNegLabeld(\n",
    "            keys=[\"image\", \"label\"],\n",
    "            label_key=\"label\",\n",
    "            spatial_size=(96, 96, 96),\n",
    "            pos=1,\n",
    "            neg=1,\n",
    "            num_samples=4,\n",
    "            image_key=\"image\",\n",
    "            image_threshold=0,\n",
    "        ),\n",
    "        #Randomly flips the images and labels along the specified spatial axis with a given probability.\n",
    "        RandFlipd(\n",
    "            keys=[\"image\", \"label\"],\n",
    "            spatial_axis=[0],\n",
    "            prob=0.10,\n",
    "        ),\n",
    "        RandFlipd(\n",
    "            keys=[\"image\", \"label\"],\n",
    "            spatial_axis=[1],\n",
    "            prob=0.10,\n",
    "        ),\n",
    "        RandFlipd(\n",
    "            keys=[\"image\", \"label\"],\n",
    "            spatial_axis=[2],\n",
    "            prob=0.10,\n",
    "        ),\n",
    "        # Randomly rotates the images and labels by 90 degrees multiples, with a specified probability (prob) and maximum number of rotations (max_k=3).\n",
    "        RandRotate90d(\n",
    "            keys=[\"image\", \"label\"],\n",
    "            prob=0.10,\n",
    "            max_k=3,\n",
    "        ),\n",
    "        # Randomly shifts the intensity values of the images within a specified offset range (offsets) with a given probability.\n",
    "        RandShiftIntensityd(\n",
    "            keys=[\"image\"],\n",
    "            offsets=0.10,\n",
    "            prob=0.50,\n",
    "        ),\n",
    "    ]\n",
    ")\n",
    "val_transforms = Compose(\n",
    "    [\n",
    "        LoadImaged(keys=[\"image\", \"label\"]),\n",
    "        EnsureChannelFirstd(keys=[\"image\", \"label\"]),\n",
    "        Orientationd(keys=[\"image\", \"label\"], axcodes=\"RAS\"),\n",
    "      Spacingd(\n",
    "            keys=[\"image\", \"label\"],\n",
    "            pixdim=(1.5, 1.5, 0),  # Adjusted for the new volume sizes\n",
    "            mode=(\"bilinear\", \"nearest\"),\n",
    "        ),\n",
    "        ScaleIntensityRanged(keys=[\"image\"], a_min=-175, a_max=250, b_min=0.0, b_max=1.0, clip=True),\n",
    "        CropForegroundd(keys=[\"image\", \"label\"], source_key=\"image\"),\n",
    "    ]\n",
    ")"
   ]
  },
  {
   "cell_type": "markdown",
   "id": "97d64d04-ec36-4d02-9847-3bfcfcef6b69",
   "metadata": {},
   "source": [
    "# Set up data directory"
   ]
  },
  {
   "cell_type": "code",
   "execution_count": 4,
   "id": "4eacbb57-e5e1-4fcb-961f-d126852b47c1",
   "metadata": {},
   "outputs": [
    {
     "name": "stderr",
     "output_type": "stream",
     "text": [
      "Loading dataset: 100%|█████████████████████████████████████████████████████████████████████████████████████████████████████████████████████████████| 32/32 [03:13<00:00,  6.05s/it]\n",
      "Loading dataset: 100%|███████████████████████████████████████████████████████████████████████████████████████████████████████████████████████████████| 8/8 [00:48<00:00,  6.06s/it]\n"
     ]
    }
   ],
   "source": [
    "data_dir = '/home/katan/Dataset/'\n",
    "split_json = \"dataset_0.json\"\n",
    "\n",
    "datasets = data_dir + split_json\n",
    "datalist = load_decathlon_datalist(datasets, True, \"training\")\n",
    "val_files = load_decathlon_datalist(datasets, True, \"validation\")\n",
    "train_ds = CacheDataset(\n",
    "    data=datalist,\n",
    "    transform=train_transforms,\n",
    "    cache_num=32,\n",
    "    cache_rate=1.0,\n",
    "    num_workers=8,\n",
    ")\n",
    "train_loader = DataLoader(train_ds, batch_size=1, shuffle=True, num_workers=8, pin_memory=True)\n",
    "val_ds = CacheDataset(data=val_files, transform=val_transforms, cache_num=8, cache_rate=1.0, num_workers=4)\n",
    "val_loader = DataLoader(val_ds, batch_size=1, shuffle=False, num_workers=4, pin_memory=True)\n"
   ]
  },
  {
   "cell_type": "markdown",
   "id": "f27cdd7c-4854-4888-b00a-a56bff1cb170",
   "metadata": {},
   "source": [
    "# Check data shape and visualize\n"
   ]
  },
  {
   "cell_type": "code",
   "execution_count": 5,
   "id": "0493982a-9e42-4c62-9e3e-8de79bf58b3d",
   "metadata": {},
   "outputs": [
    {
     "name": "stdout",
     "output_type": "stream",
     "text": [
      "image shape: torch.Size([1, 135, 131, 224]), label shape: torch.Size([1, 135, 131, 224])\n"
     ]
    },
    {
     "data": {
      "image/png": "[encoded data removed]",
      "text/plain": [
       "<Figure size 1800x600 with 2 Axes>"
      ]
     },
     "metadata": {},
     "output_type": "display_data"
    }
   ],
   "source": [
    "slice_map = {\n",
    "    \"Diseased_1.nrrd\": 45,\n",
    "    \"Diseased_2.nrrd\": 23,\n",
    "    \"Diseased_17.nrrd\": 112,\n",
    "    \"Normal_1.nrrd\": 79,\n",
    "    \"Normal_4.nrrd\": 23,\n",
    "    \"Normal_6.nrrd\": 64,\n",
    "    \n",
    "}\n",
    "case_num = 0\n",
    "\n",
    "#Validation Set\n",
    "img_name = os.path.split(val_ds[case_num][\"image\"].meta[\"filename_or_obj\"])[1]\n",
    "img = val_ds[case_num][\"image\"]\n",
    "label = val_ds[case_num][\"label\"]\n",
    "img_shape = img.shape\n",
    "label_shape = label.shape\n",
    "print(f\"image shape: {img_shape}, label shape: {label_shape}\")\n",
    "plt.figure(\"image\", (18, 6))\n",
    "plt.subplot(1, 2, 1)\n",
    "plt.title(\"image\")\n",
    "plt.imshow(img[0, :, :, slice_map[img_name]].detach().cpu(), cmap=\"gray\")\n",
    "plt.subplot(1, 2, 2)\n",
    "plt.title(\"label\")\n",
    "plt.imshow(label[0, :, :, slice_map[img_name]].detach().cpu())\n",
    "# Save the plot\n",
    "plt.savefig('plot0_25k.png') \n",
    "plt.show()\n",
    "\n"
   ]
  },
  {
   "cell_type": "markdown",
   "id": "bda8b90d-51e6-40f8-8ef3-68bd8db1afcf",
   "metadata": {},
   "source": [
    "# Create Model, Loss, Optimizer\n",
    "\n"
   ]
  },
  {
   "cell_type": "code",
   "execution_count": 8,
   "id": "0b4e37c4-45a5-46d3-a034-780a5ec69e5c",
   "metadata": {},
   "outputs": [],
   "source": [
    "os.environ[\"CUDA_DEVICE_ORDER\"] = \"PCI_BUS_ID\"\n",
    "device = torch.device(\"cuda\" if torch.cuda.is_available() else \"cpu\")\n",
    "\n",
    "\n",
    "model = SegResNet(\n",
    "    blocks_down=[1, 2, 2, 4],\n",
    "    blocks_up=[1, 1, 1],\n",
    "    init_filters=16,\n",
    "    in_channels=1,\n",
    "    out_channels=14,\n",
    "    dropout_prob=0.2,\n",
    ").to(device)\n",
    "loss_function = DiceCELoss(to_onehot_y=True, softmax=True)\n",
    "torch.backends.cudnn.benchmark = True\n",
    "optimizer = torch.optim.AdamW(model.parameters(), lr=1e-4, weight_decay=1e-5)\n"
   ]
  },
  {
   "cell_type": "markdown",
   "id": "8f844ed7-3eda-4c8f-835f-f56850f48238",
   "metadata": {},
   "source": [
    "# Training Functions"
   ]
  },
  {
   "cell_type": "code",
   "execution_count": 9,
   "id": "556c8545-d8f2-4988-b486-74ea3098b6c5",
   "metadata": {},
   "outputs": [],
   "source": [
    "\n",
    "def validation(epoch_iterator_val):\n",
    "    model.eval()\n",
    "    with torch.no_grad():\n",
    "        for batch in epoch_iterator_val:\n",
    "            val_inputs, val_labels = (batch[\"image\"].cuda(), batch[\"label\"].cuda())\n",
    "            val_outputs = sliding_window_inference(val_inputs, (96, 96, 96), 4, model)\n",
    "            val_labels_list = decollate_batch(val_labels)\n",
    "            val_labels_convert = [post_label(val_label_tensor) for val_label_tensor in val_labels_list]\n",
    "            val_outputs_list = decollate_batch(val_outputs)\n",
    "            val_output_convert = [post_pred(val_pred_tensor) for val_pred_tensor in val_outputs_list]\n",
    "            dice_metric(y_pred=val_output_convert, y=val_labels_convert)\n",
    "            \n",
    "            epoch_iterator_val.set_description(\"Validate (%d / %d Steps)\" % (global_step, 10.0))  # noqa: B038\n",
    "        mean_dice_val = dice_metric.aggregate().item()\n",
    "        dice_metric.reset()\n",
    "\n",
    "    return mean_dice_val\n",
    "\n",
    "\n",
    "def train(global_step, train_loader, dice_val_best, global_step_best):\n",
    "    model.train()\n",
    "    epoch_loss = 0\n",
    "    step = 0\n",
    "    epoch_iterator = tqdm(train_loader, desc=\"Training (X / X Steps) (loss=X.X)\", dynamic_ncols=True)\n",
    "    for step, batch in enumerate(epoch_iterator):\n",
    "        step += 1\n",
    "        x, y = (batch[\"image\"].cuda(), batch[\"label\"].cuda())\n",
    "        logit_map = model(x)\n",
    "        loss = loss_function(logit_map, y)\n",
    "        loss.backward()\n",
    "        epoch_loss += loss.item()\n",
    "        optimizer.step()\n",
    "        optimizer.zero_grad()\n",
    "        epoch_iterator.set_description(  # noqa: B038\n",
    "            \"Training (%d / %d Steps) (loss=%2.5f)\" % (global_step, max_iterations, loss)\n",
    "        )\n",
    "        if (global_step % eval_num == 0 and global_step != 0) or global_step == max_iterations:\n",
    "            epoch_iterator_val = tqdm(val_loader, desc=\"Validate (X / X Steps) (dice=X.X)\", dynamic_ncols=True)\n",
    "            dice_val = validation(epoch_iterator_val)\n",
    "            epoch_loss /= step\n",
    "            epoch_loss_values.append(epoch_loss)\n",
    "            metric_values.append(dice_val)\n",
    "            if dice_val > dice_val_best:\n",
    "                dice_val_best = dice_val\n",
    "                global_step_best = global_step\n",
    "                torch.save(model.state_dict(), os.path.join(root_dir, \"SegResNet.pth\"))\n",
    "                print(\n",
    "                    \"Model Was Saved ! Current Best Avg. Dice: {} Current Avg. Dice: {}\".format(dice_val_best, dice_val)\n",
    "                )\n",
    "            else:\n",
    "                print(\n",
    "                    \"Model Was Not Saved ! Current Best Avg. Dice: {} Current Avg. Dice: {}\".format(\n",
    "                        dice_val_best, dice_val\n",
    "                    )\n",
    "                )\n",
    "        global_step += 1\n",
    "    return global_step, dice_val_best, global_step_best\n"
   ]
  },
  {
   "cell_type": "markdown",
   "id": "10802da5-6f11-45e8-b451-2fd073519c25",
   "metadata": {},
   "source": [
    "# PyTorch training process\n"
   ]
  },
  {
   "cell_type": "code",
   "execution_count": 15,
   "id": "9a4890f2-be24-48a0-b495-602c3be5be86",
   "metadata": {},
   "outputs": [
    {
     "name": "stderr",
     "output_type": "stream",
     "text": [
      "Training (31 / 10000 Steps) (loss=2.69034): 100%|██████████████████████████████████████████████████████████████████████████████████████████████████| 32/32 [00:05<00:00,  5.90it/s]\n",
      "Training (63 / 10000 Steps) (loss=2.63980): 100%|██████████████████████████████████████████████████████████████████████████████████████████████████| 32/32 [00:05<00:00,  5.59it/s]\n",
      "Training (95 / 10000 Steps) (loss=2.57963): 100%|██████████████████████████████████████████████████████████████████████████████████████████████████| 32/32 [00:05<00:00,  5.66it/s]\n",
      "Training (127 / 10000 Steps) (loss=2.52766): 100%|█████████████████████████████████████████████████████████████████████████████████████████████████| 32/32 [00:05<00:00,  5.92it/s]\n",
      "Training (159 / 10000 Steps) (loss=2.47887): 100%|█████████████████████████████████████████████████████████████████████████████████████████████████| 32/32 [00:05<00:00,  5.53it/s]\n",
      "Training (191 / 10000 Steps) (loss=2.44186): 100%|█████████████████████████████████████████████████████████████████████████████████████████████████| 32/32 [00:05<00:00,  5.92it/s]\n",
      "Training (223 / 10000 Steps) (loss=2.39120): 100%|█████████████████████████████████████████████████████████████████████████████████████████████████| 32/32 [00:05<00:00,  5.53it/s]\n",
      "Training (250 / 10000 Steps) (loss=2.34908):  81%|██████████████████████████████████████████████████████████████████████████████▊                  | 26/32 [00:04<00:00,  6.21it/s]\n",
      "Validate (X / X Steps) (dice=X.X):   0%|                                                                                                                     | 0/8 [00:00<?, ?it/s]\u001b[A\n",
      "Validate (224 / 10 Steps):   0%|                                                                                                                             | 0/8 [00:00<?, ?it/s]\u001b[A\n",
      "Validate (224 / 10 Steps):  12%|██████████████▋                                                                                                      | 1/8 [00:00<00:02,  3.23it/s]\u001b[A\n",
      "Validate (224 / 10 Steps):  12%|██████████████▋                                                                                                      | 1/8 [00:00<00:02,  3.23it/s]\u001b[A\n",
      "Validate (224 / 10 Steps):  25%|█████████████████████████████▎                                                                                       | 2/8 [00:00<00:01,  5.31it/s]\u001b[A\n",
      "Validate (224 / 10 Steps):  25%|█████████████████████████████▎                                                                                       | 2/8 [00:00<00:01,  5.31it/s]\u001b[A\n",
      "Validate (224 / 10 Steps):  25%|█████████████████████████████▎                                                                                       | 2/8 [00:00<00:01,  5.31it/s]\u001b[A\n",
      "Validate (224 / 10 Steps):  50%|██████████████████████████████████████████████████████████▌                                                          | 4/8 [00:00<00:00,  8.00it/s]\u001b[A\n",
      "Validate (224 / 10 Steps):  50%|██████████████████████████████████████████████████████████▌                                                          | 4/8 [00:00<00:00,  8.00it/s]\u001b[A\n",
      "Validate (224 / 10 Steps):  62%|█████████████████████████████████████████████████████████████████████████▏                                           | 5/8 [00:00<00:00,  8.46it/s]\u001b[A\n",
      "Validate (224 / 10 Steps):  62%|█████████████████████████████████████████████████████████████████████████▏                                           | 5/8 [00:00<00:00,  8.46it/s]\u001b[A\n",
      "Validate (224 / 10 Steps):  62%|█████████████████████████████████████████████████████████████████████████▏                                           | 5/8 [00:00<00:00,  8.46it/s]\u001b[A\n",
      "Validate (224 / 10 Steps):  88%|██████████████████████████████████████████████████████████████████████████████████████████████████████▍              | 7/8 [00:00<00:00,  9.70it/s]\u001b[A\n",
      "Validate (224 / 10 Steps): 100%|█████████████████████████████████████████████████████████████████████████████████████████████████████████████████████| 8/8 [00:01<00:00,  7.84it/s]\u001b[A\n",
      "Training (251 / 10000 Steps) (loss=2.34690):  88%|████████████████████████████████████████████████████████████████████████████████████▉            | 28/32 [00:07<00:02,  1.40it/s]"
     ]
    },
    {
     "name": "stdout",
     "output_type": "stream",
     "text": [
      "Model Was Saved ! Current Best Avg. Dice: 0.4998551607131958 Current Avg. Dice: 0.4998551607131958\n"
     ]
    },
    {
     "name": "stderr",
     "output_type": "stream",
     "text": [
      "Training (255 / 10000 Steps) (loss=2.34039): 100%|█████████████████████████████████████████████████████████████████████████████████████████████████| 32/32 [00:08<00:00,  3.82it/s]\n",
      "Training (287 / 10000 Steps) (loss=2.30352): 100%|█████████████████████████████████████████████████████████████████████████████████████████████████| 32/32 [00:05<00:00,  5.61it/s]\n",
      "Training (319 / 10000 Steps) (loss=2.25517): 100%|█████████████████████████████████████████████████████████████████████████████████████████████████| 32/32 [00:05<00:00,  5.68it/s]\n",
      "Training (351 / 10000 Steps) (loss=2.21292): 100%|█████████████████████████████████████████████████████████████████████████████████████████████████| 32/32 [00:05<00:00,  5.78it/s]\n",
      "Training (383 / 10000 Steps) (loss=2.17054): 100%|█████████████████████████████████████████████████████████████████████████████████████████████████| 32/32 [00:05<00:00,  5.62it/s]\n",
      "Training (415 / 10000 Steps) (loss=2.14947): 100%|█████████████████████████████████████████████████████████████████████████████████████████████████| 32/32 [00:05<00:00,  5.84it/s]\n",
      "Training (447 / 10000 Steps) (loss=2.08841): 100%|█████████████████████████████████████████████████████████████████████████████████████████████████| 32/32 [00:05<00:00,  5.60it/s]\n",
      "Training (479 / 10000 Steps) (loss=2.05465): 100%|█████████████████████████████████████████████████████████████████████████████████████████████████| 32/32 [00:05<00:00,  5.76it/s]\n",
      "Training (500 / 10000 Steps) (loss=2.02440):  62%|████████████████████████████████████████████████████████████▋                                    | 20/32 [00:03<00:01,  6.78it/s]\n",
      "Validate (X / X Steps) (dice=X.X):   0%|                                                                                                                     | 0/8 [00:00<?, ?it/s]\u001b[A\n",
      "Validate (480 / 10 Steps):   0%|                                                                                                                             | 0/8 [00:00<?, ?it/s]\u001b[A\n",
      "Validate (480 / 10 Steps):  12%|██████████████▋                                                                                                      | 1/8 [00:00<00:02,  3.47it/s]\u001b[A\n",
      "Validate (480 / 10 Steps):  12%|██████████████▋                                                                                                      | 1/8 [00:00<00:02,  3.47it/s]\u001b[A\n",
      "Validate (480 / 10 Steps):  25%|█████████████████████████████▎                                                                                       | 2/8 [00:00<00:01,  5.56it/s]\u001b[A\n",
      "Validate (480 / 10 Steps):  25%|█████████████████████████████▎                                                                                       | 2/8 [00:00<00:01,  5.56it/s]\u001b[A\n",
      "Validate (480 / 10 Steps):  25%|█████████████████████████████▎                                                                                       | 2/8 [00:00<00:01,  5.56it/s]\u001b[A\n",
      "Validate (480 / 10 Steps):  50%|██████████████████████████████████████████████████████████▌                                                          | 4/8 [00:00<00:00,  8.19it/s]\u001b[A\n",
      "Validate (480 / 10 Steps):  50%|██████████████████████████████████████████████████████████▌                                                          | 4/8 [00:00<00:00,  8.19it/s]\u001b[A\n",
      "Validate (480 / 10 Steps):  62%|█████████████████████████████████████████████████████████████████████████▏                                           | 5/8 [00:00<00:00,  7.26it/s]\u001b[A\n",
      "Validate (480 / 10 Steps):  62%|█████████████████████████████████████████████████████████████████████████▏                                           | 5/8 [00:00<00:00,  7.26it/s]\u001b[A\n",
      "Validate (480 / 10 Steps):  75%|███████████████████████████████████████████████████████████████████████████████████████▊                             | 6/8 [00:00<00:00,  6.41it/s]\u001b[A\n",
      "Validate (480 / 10 Steps):  75%|███████████████████████████████████████████████████████████████████████████████████████▊                             | 6/8 [00:01<00:00,  6.41it/s]\u001b[A\n",
      "Validate (480 / 10 Steps):  88%|██████████████████████████████████████████████████████████████████████████████████████████████████████▍              | 7/8 [00:01<00:00,  6.03it/s]\u001b[A\n",
      "Validate (480 / 10 Steps):  88%|██████████████████████████████████████████████████████████████████████████████████████████████████████▍              | 7/8 [00:01<00:00,  6.03it/s]\u001b[A\n",
      "Validate (480 / 10 Steps): 100%|█████████████████████████████████████████████████████████████████████████████████████████████████████████████████████| 8/8 [00:01<00:00,  6.16it/s]\u001b[A\n",
      "Training (501 / 10000 Steps) (loss=2.02212):  69%|██████████████████████████████████████████████████████████████████▋                              | 22/32 [00:04<00:04,  2.38it/s]"
     ]
    },
    {
     "name": "stdout",
     "output_type": "stream",
     "text": [
      "Model Was Not Saved ! Current Best Avg. Dice: 0.4998551607131958 Current Avg. Dice: 0.4998551607131958\n"
     ]
    },
    {
     "name": "stderr",
     "output_type": "stream",
     "text": [
      "Training (511 / 10000 Steps) (loss=2.01041): 100%|█████████████████████████████████████████████████████████████████████████████████████████████████| 32/32 [00:06<00:00,  4.92it/s]\n",
      "Training (543 / 10000 Steps) (loss=1.97160): 100%|█████████████████████████████████████████████████████████████████████████████████████████████████| 32/32 [00:05<00:00,  5.56it/s]\n",
      "Training (575 / 10000 Steps) (loss=1.93457): 100%|█████████████████████████████████████████████████████████████████████████████████████████████████| 32/32 [00:05<00:00,  6.09it/s]\n",
      "Training (607 / 10000 Steps) (loss=1.89685): 100%|█████████████████████████████████████████████████████████████████████████████████████████████████| 32/32 [00:05<00:00,  5.51it/s]\n",
      "Training (639 / 10000 Steps) (loss=1.86207): 100%|█████████████████████████████████████████████████████████████████████████████████████████████████| 32/32 [00:05<00:00,  6.01it/s]\n",
      "Training (671 / 10000 Steps) (loss=1.82797): 100%|█████████████████████████████████████████████████████████████████████████████████████████████████| 32/32 [00:05<00:00,  5.93it/s]\n",
      "Training (703 / 10000 Steps) (loss=1.79335): 100%|█████████████████████████████████████████████████████████████████████████████████████████████████| 32/32 [00:05<00:00,  5.34it/s]\n",
      "Training (735 / 10000 Steps) (loss=1.76014): 100%|█████████████████████████████████████████████████████████████████████████████████████████████████| 32/32 [00:05<00:00,  6.15it/s]\n",
      "Training (750 / 10000 Steps) (loss=1.74614):  44%|██████████████████████████████████████████▍                                                      | 14/32 [00:02<00:02,  6.64it/s]\n",
      "Validate (X / X Steps) (dice=X.X):   0%|                                                                                                                     | 0/8 [00:00<?, ?it/s]\u001b[A\n",
      "Validate (736 / 10 Steps):   0%|                                                                                                                             | 0/8 [00:00<?, ?it/s]\u001b[A\n",
      "Validate (736 / 10 Steps):  12%|██████████████▋                                                                                                      | 1/8 [00:00<00:01,  3.50it/s]\u001b[A\n",
      "Validate (736 / 10 Steps):  12%|██████████████▋                                                                                                      | 1/8 [00:00<00:01,  3.50it/s]\u001b[A\n",
      "Validate (736 / 10 Steps):  25%|█████████████████████████████▎                                                                                       | 2/8 [00:00<00:01,  3.67it/s]\u001b[A\n",
      "Validate (736 / 10 Steps):  25%|█████████████████████████████▎                                                                                       | 2/8 [00:00<00:01,  3.67it/s]\u001b[A\n",
      "Validate (736 / 10 Steps):  38%|███████████████████████████████████████████▉                                                                         | 3/8 [00:00<00:01,  4.25it/s]\u001b[A\n",
      "Validate (736 / 10 Steps):  38%|███████████████████████████████████████████▉                                                                         | 3/8 [00:00<00:01,  4.25it/s]\u001b[A\n",
      "Validate (736 / 10 Steps):  50%|██████████████████████████████████████████████████████████▌                                                          | 4/8 [00:00<00:00,  5.26it/s]\u001b[A\n",
      "Validate (736 / 10 Steps):  50%|██████████████████████████████████████████████████████████▌                                                          | 4/8 [00:00<00:00,  5.26it/s]\u001b[A\n",
      "Validate (736 / 10 Steps):  62%|█████████████████████████████████████████████████████████████████████████▏                                           | 5/8 [00:00<00:00,  6.31it/s]\u001b[A\n",
      "Validate (736 / 10 Steps):  62%|█████████████████████████████████████████████████████████████████████████▏                                           | 5/8 [00:01<00:00,  6.31it/s]\u001b[A\n",
      "Validate (736 / 10 Steps):  62%|█████████████████████████████████████████████████████████████████████████▏                                           | 5/8 [00:01<00:00,  6.31it/s]\u001b[A\n",
      "Validate (736 / 10 Steps):  88%|██████████████████████████████████████████████████████████████████████████████████████████████████████▍              | 7/8 [00:01<00:00,  8.18it/s]\u001b[A\n",
      "Validate (736 / 10 Steps):  88%|██████████████████████████████████████████████████████████████████████████████████████████████████████▍              | 7/8 [00:01<00:00,  8.18it/s]\u001b[A\n",
      "Validate (736 / 10 Steps): 100%|█████████████████████████████████████████████████████████████████████████████████████████████████████████████████████| 8/8 [00:01<00:00,  6.09it/s]\u001b[A\n",
      "Training (751 / 10000 Steps) (loss=1.74401):  50%|████████████████████████████████████████████████▌                                                | 16/32 [00:04<00:06,  2.35it/s]"
     ]
    },
    {
     "name": "stdout",
     "output_type": "stream",
     "text": [
      "Model Was Not Saved ! Current Best Avg. Dice: 0.4998551607131958 Current Avg. Dice: 0.4998551607131958\n"
     ]
    },
    {
     "name": "stderr",
     "output_type": "stream",
     "text": [
      "Training (767 / 10000 Steps) (loss=1.72884): 100%|█████████████████████████████████████████████████████████████████████████████████████████████████| 32/32 [00:07<00:00,  4.50it/s]\n",
      "Training (799 / 10000 Steps) (loss=1.69780): 100%|█████████████████████████████████████████████████████████████████████████████████████████████████| 32/32 [00:05<00:00,  5.87it/s]\n",
      "Training (831 / 10000 Steps) (loss=1.66796): 100%|█████████████████████████████████████████████████████████████████████████████████████████████████| 32/32 [00:05<00:00,  5.48it/s]\n",
      "Training (863 / 10000 Steps) (loss=1.63833): 100%|█████████████████████████████████████████████████████████████████████████████████████████████████| 32/32 [00:05<00:00,  5.73it/s]\n",
      "Training (895 / 10000 Steps) (loss=1.61016): 100%|█████████████████████████████████████████████████████████████████████████████████████████████████| 32/32 [00:05<00:00,  5.75it/s]\n",
      "Training (927 / 10000 Steps) (loss=1.58317): 100%|█████████████████████████████████████████████████████████████████████████████████████████████████| 32/32 [00:05<00:00,  5.55it/s]\n",
      "Training (959 / 10000 Steps) (loss=1.55681): 100%|█████████████████████████████████████████████████████████████████████████████████████████████████| 32/32 [00:05<00:00,  5.90it/s]\n",
      "Training (991 / 10000 Steps) (loss=1.53335): 100%|█████████████████████████████████████████████████████████████████████████████████████████████████| 32/32 [00:05<00:00,  5.56it/s]\n",
      "Training (1000 / 10000 Steps) (loss=1.52631):  25%|████████████████████████▎                                                                        | 8/32 [00:01<00:04,  5.09it/s]\n",
      "Validate (X / X Steps) (dice=X.X):   0%|                                                                                                                     | 0/8 [00:00<?, ?it/s]\u001b[A\n",
      "Validate (992 / 10 Steps):   0%|                                                                                                                             | 0/8 [00:00<?, ?it/s]\u001b[A\n",
      "Validate (992 / 10 Steps):  12%|██████████████▋                                                                                                      | 1/8 [00:00<00:01,  4.15it/s]\u001b[A\n",
      "Validate (992 / 10 Steps):  12%|██████████████▋                                                                                                      | 1/8 [00:00<00:01,  4.15it/s]\u001b[A\n",
      "Validate (992 / 10 Steps):  25%|█████████████████████████████▎                                                                                       | 2/8 [00:00<00:00,  6.23it/s]\u001b[A\n",
      "Validate (992 / 10 Steps):  25%|█████████████████████████████▎                                                                                       | 2/8 [00:00<00:00,  6.23it/s]\u001b[A\n",
      "Validate (992 / 10 Steps):  25%|█████████████████████████████▎                                                                                       | 2/8 [00:00<00:00,  6.23it/s]\u001b[A\n",
      "Validate (992 / 10 Steps):  50%|██████████████████████████████████████████████████████████▌                                                          | 4/8 [00:00<00:00,  8.71it/s]\u001b[A\n",
      "Validate (992 / 10 Steps):  50%|██████████████████████████████████████████████████████████▌                                                          | 4/8 [00:00<00:00,  8.71it/s]\u001b[A\n",
      "Validate (992 / 10 Steps):  62%|█████████████████████████████████████████████████████████████████████████▏                                           | 5/8 [00:00<00:00,  9.00it/s]\u001b[A\n",
      "Validate (992 / 10 Steps):  62%|█████████████████████████████████████████████████████████████████████████▏                                           | 5/8 [00:00<00:00,  9.00it/s]\u001b[A\n",
      "Validate (992 / 10 Steps):  62%|█████████████████████████████████████████████████████████████████████████▏                                           | 5/8 [00:00<00:00,  9.00it/s]\u001b[A\n",
      "Validate (992 / 10 Steps):  88%|██████████████████████████████████████████████████████████████████████████████████████████████████████▍              | 7/8 [00:00<00:00, 10.05it/s]\u001b[A\n",
      "Validate (992 / 10 Steps): 100%|█████████████████████████████████████████████████████████████████████████████████████████████████████████████████████| 8/8 [00:00<00:00,  8.19it/s]\u001b[A\n",
      "Training (1001 / 10000 Steps) (loss=1.52534):  31%|██████████████████████████████                                                                  | 10/32 [00:03<00:08,  2.62it/s]"
     ]
    },
    {
     "name": "stdout",
     "output_type": "stream",
     "text": [
      "Model Was Not Saved ! Current Best Avg. Dice: 0.4998551607131958 Current Avg. Dice: 0.4998551607131958\n"
     ]
    },
    {
     "name": "stderr",
     "output_type": "stream",
     "text": [
      "Training (1023 / 10000 Steps) (loss=1.50872): 100%|████████████████████████████████████████████████████████████████████████████████████████████████| 32/32 [00:06<00:00,  4.84it/s]\n",
      "Training (1055 / 10000 Steps) (loss=1.48583): 100%|████████████████████████████████████████████████████████████████████████████████████████████████| 32/32 [00:05<00:00,  5.86it/s]\n",
      "Training (1087 / 10000 Steps) (loss=1.46284): 100%|████████████████████████████████████████████████████████████████████████████████████████████████| 32/32 [00:05<00:00,  5.66it/s]\n",
      "Training (1119 / 10000 Steps) (loss=1.44242): 100%|████████████████████████████████████████████████████████████████████████████████████████████████| 32/32 [00:05<00:00,  6.06it/s]\n",
      "Training (1151 / 10000 Steps) (loss=1.42154): 100%|████████████████████████████████████████████████████████████████████████████████████████████████| 32/32 [00:05<00:00,  5.39it/s]\n",
      "Training (1183 / 10000 Steps) (loss=1.40195): 100%|████████████████████████████████████████████████████████████████████████████████████████████████| 32/32 [00:05<00:00,  5.83it/s]\n",
      "Training (1215 / 10000 Steps) (loss=1.38272): 100%|████████████████████████████████████████████████████████████████████████████████████████████████| 32/32 [00:05<00:00,  5.57it/s]\n",
      "Training (1247 / 10000 Steps) (loss=1.36459): 100%|████████████████████████████████████████████████████████████████████████████████████████████████| 32/32 [00:05<00:00,  5.59it/s]\n",
      "Training (1250 / 10000 Steps) (loss=1.36406):   6%|██████                                                                                           | 2/32 [00:00<00:08,  3.35it/s]\n",
      "Validate (X / X Steps) (dice=X.X):   0%|                                                                                                                     | 0/8 [00:00<?, ?it/s]\u001b[A\n",
      "Validate (1248 / 10 Steps):   0%|                                                                                                                            | 0/8 [00:00<?, ?it/s]\u001b[A\n",
      "Validate (1248 / 10 Steps):  12%|██████████████▌                                                                                                     | 1/8 [00:00<00:02,  3.28it/s]\u001b[A\n",
      "Validate (1248 / 10 Steps):  12%|██████████████▌                                                                                                     | 1/8 [00:00<00:02,  3.28it/s]\u001b[A\n",
      "Validate (1248 / 10 Steps):  25%|█████████████████████████████                                                                                       | 2/8 [00:00<00:01,  5.34it/s]\u001b[A\n",
      "Validate (1248 / 10 Steps):  25%|█████████████████████████████                                                                                       | 2/8 [00:00<00:01,  5.34it/s]\u001b[A\n",
      "Validate (1248 / 10 Steps):  25%|█████████████████████████████                                                                                       | 2/8 [00:00<00:01,  5.34it/s]\u001b[A\n",
      "Validate (1248 / 10 Steps):  50%|██████████████████████████████████████████████████████████                                                          | 4/8 [00:00<00:00,  7.99it/s]\u001b[A\n",
      "Validate (1248 / 10 Steps):  50%|██████████████████████████████████████████████████████████                                                          | 4/8 [00:00<00:00,  7.99it/s]\u001b[A\n",
      "Validate (1248 / 10 Steps):  62%|████████████████████████████████████████████████████████████████████████▌                                           | 5/8 [00:00<00:00,  8.44it/s]\u001b[A\n",
      "Validate (1248 / 10 Steps):  62%|████████████████████████████████████████████████████████████████████████▌                                           | 5/8 [00:00<00:00,  8.44it/s]\u001b[A\n",
      "Validate (1248 / 10 Steps):  62%|████████████████████████████████████████████████████████████████████████▌                                           | 5/8 [00:00<00:00,  8.44it/s]\u001b[A\n",
      "Validate (1248 / 10 Steps):  88%|█████████████████████████████████████████████████████████████████████████████████████████████████████▌              | 7/8 [00:00<00:00,  9.62it/s]\u001b[A\n",
      "Validate (1248 / 10 Steps): 100%|████████████████████████████████████████████████████████████████████████████████████████████████████████████████████| 8/8 [00:01<00:00,  7.78it/s]\u001b[A\n",
      "Training (1251 / 10000 Steps) (loss=1.36237):  12%|████████████▏                                                                                    | 4/32 [00:01<00:13,  2.08it/s]"
     ]
    },
    {
     "name": "stdout",
     "output_type": "stream",
     "text": [
      "Model Was Not Saved ! Current Best Avg. Dice: 0.4998551607131958 Current Avg. Dice: 0.4998551607131958\n"
     ]
    },
    {
     "name": "stderr",
     "output_type": "stream",
     "text": [
      "Training (1279 / 10000 Steps) (loss=1.34728): 100%|████████████████████████████████████████████████████████████████████████████████████████████████| 32/32 [00:06<00:00,  4.92it/s]\n",
      "Training (1311 / 10000 Steps) (loss=1.33093): 100%|████████████████████████████████████████████████████████████████████████████████████████████████| 32/32 [00:05<00:00,  5.58it/s]\n",
      "Training (1343 / 10000 Steps) (loss=1.31525): 100%|████████████████████████████████████████████████████████████████████████████████████████████████| 32/32 [00:05<00:00,  5.92it/s]\n",
      "Training (1375 / 10000 Steps) (loss=1.29983): 100%|████████████████████████████████████████████████████████████████████████████████████████████████| 32/32 [00:05<00:00,  5.60it/s]\n",
      "Training (1407 / 10000 Steps) (loss=1.28501): 100%|████████████████████████████████████████████████████████████████████████████████████████████████| 32/32 [00:05<00:00,  5.67it/s]\n",
      "Training (1439 / 10000 Steps) (loss=1.27048): 100%|████████████████████████████████████████████████████████████████████████████████████████████████| 32/32 [00:05<00:00,  5.80it/s]\n",
      "Training (1471 / 10000 Steps) (loss=1.25806): 100%|████████████████████████████████████████████████████████████████████████████████████████████████| 32/32 [00:05<00:00,  5.53it/s]\n",
      "Training (1500 / 10000 Steps) (loss=1.24742):  88%|████████████████████████████████████████████████████████████████████████████████████            | 28/32 [00:04<00:00,  6.68it/s]\n",
      "Validate (X / X Steps) (dice=X.X):   0%|                                                                                                                     | 0/8 [00:00<?, ?it/s]\u001b[A\n",
      "Validate (1472 / 10 Steps):   0%|                                                                                                                            | 0/8 [00:00<?, ?it/s]\u001b[A\n",
      "Validate (1472 / 10 Steps):  12%|██████████████▌                                                                                                     | 1/8 [00:00<00:01,  3.90it/s]\u001b[A\n",
      "Validate (1472 / 10 Steps):  12%|██████████████▌                                                                                                     | 1/8 [00:00<00:01,  3.90it/s]\u001b[A\n",
      "Validate (1472 / 10 Steps):  25%|█████████████████████████████                                                                                       | 2/8 [00:00<00:01,  5.99it/s]\u001b[A\n",
      "Validate (1472 / 10 Steps):  25%|█████████████████████████████                                                                                       | 2/8 [00:00<00:01,  5.99it/s]\u001b[A\n",
      "Validate (1472 / 10 Steps):  25%|█████████████████████████████                                                                                       | 2/8 [00:00<00:01,  5.99it/s]\u001b[A\n",
      "Validate (1472 / 10 Steps):  50%|██████████████████████████████████████████████████████████                                                          | 4/8 [00:00<00:00,  8.52it/s]\u001b[A\n",
      "Validate (1472 / 10 Steps):  50%|██████████████████████████████████████████████████████████                                                          | 4/8 [00:00<00:00,  8.52it/s]\u001b[A\n",
      "Validate (1472 / 10 Steps):  62%|████████████████████████████████████████████████████████████████████████▌                                           | 5/8 [00:00<00:00,  8.85it/s]\u001b[A\n",
      "Validate (1472 / 10 Steps):  62%|████████████████████████████████████████████████████████████████████████▌                                           | 5/8 [00:00<00:00,  8.85it/s]\u001b[A\n",
      "Validate (1472 / 10 Steps):  62%|████████████████████████████████████████████████████████████████████████▌                                           | 5/8 [00:00<00:00,  8.85it/s]\u001b[A\n",
      "Validate (1472 / 10 Steps):  88%|█████████████████████████████████████████████████████████████████████████████████████████████████████▌              | 7/8 [00:00<00:00,  9.95it/s]\u001b[A\n",
      "Validate (1472 / 10 Steps): 100%|████████████████████████████████████████████████████████████████████████████████████████████████████████████████████| 8/8 [00:00<00:00,  8.08it/s]\u001b[A\n",
      "Training (1501 / 10000 Steps) (loss=1.24594):  94%|██████████████████████████████████████████████████████████████████████████████████████████      | 30/32 [00:05<00:00,  2.80it/s]"
     ]
    },
    {
     "name": "stdout",
     "output_type": "stream",
     "text": [
      "Model Was Not Saved ! Current Best Avg. Dice: 0.4998551607131958 Current Avg. Dice: 0.4998551607131958\n"
     ]
    },
    {
     "name": "stderr",
     "output_type": "stream",
     "text": [
      "Training (1503 / 10000 Steps) (loss=1.24605): 100%|████████████████████████████████████████████████████████████████████████████████████████████████| 32/32 [00:06<00:00,  5.04it/s]\n",
      "Training (1535 / 10000 Steps) (loss=1.23364): 100%|████████████████████████████████████████████████████████████████████████████████████████████████| 32/32 [00:05<00:00,  5.51it/s]\n",
      "Training (1567 / 10000 Steps) (loss=1.22194): 100%|████████████████████████████████████████████████████████████████████████████████████████████████| 32/32 [00:05<00:00,  5.92it/s]\n",
      "Training (1599 / 10000 Steps) (loss=1.21146): 100%|████████████████████████████████████████████████████████████████████████████████████████████████| 32/32 [00:05<00:00,  5.98it/s]\n",
      "Training (1631 / 10000 Steps) (loss=1.20086): 100%|████████████████████████████████████████████████████████████████████████████████████████████████| 32/32 [00:05<00:00,  5.37it/s]\n",
      "Training (1663 / 10000 Steps) (loss=1.19180): 100%|████████████████████████████████████████████████████████████████████████████████████████████████| 32/32 [00:05<00:00,  6.13it/s]\n",
      "Training (1695 / 10000 Steps) (loss=1.18355): 100%|████████████████████████████████████████████████████████████████████████████████████████████████| 32/32 [00:05<00:00,  5.58it/s]\n",
      "Training (1727 / 10000 Steps) (loss=1.17203): 100%|████████████████████████████████████████████████████████████████████████████████████████████████| 32/32 [00:05<00:00,  5.93it/s]\n",
      "Training (1750 / 10000 Steps) (loss=1.16746):  69%|██████████████████████████████████████████████████████████████████                              | 22/32 [00:04<00:02,  4.89it/s]\n",
      "Validate (X / X Steps) (dice=X.X):   0%|                                                                                                                     | 0/8 [00:00<?, ?it/s]\u001b[A\n",
      "Validate (1728 / 10 Steps):   0%|                                                                                                                            | 0/8 [00:00<?, ?it/s]\u001b[A\n",
      "Validate (1728 / 10 Steps):  12%|██████████████▌                                                                                                     | 1/8 [00:00<00:04,  1.49it/s]\u001b[A\n",
      "Validate (1728 / 10 Steps):  12%|██████████████▌                                                                                                     | 1/8 [00:00<00:04,  1.49it/s]\u001b[A\n",
      "Validate (1728 / 10 Steps):  25%|█████████████████████████████                                                                                       | 2/8 [00:00<00:02,  2.96it/s]\u001b[A\n",
      "Validate (1728 / 10 Steps):  25%|█████████████████████████████                                                                                       | 2/8 [00:00<00:02,  2.96it/s]\u001b[A\n",
      "Validate (1728 / 10 Steps):  25%|█████████████████████████████                                                                                       | 2/8 [00:00<00:02,  2.96it/s]\u001b[A\n",
      "Validate (1728 / 10 Steps):  50%|██████████████████████████████████████████████████████████                                                          | 4/8 [00:00<00:00,  5.53it/s]\u001b[A\n",
      "Validate (1728 / 10 Steps):  50%|██████████████████████████████████████████████████████████                                                          | 4/8 [00:01<00:00,  5.53it/s]\u001b[A\n",
      "Validate (1728 / 10 Steps):  62%|████████████████████████████████████████████████████████████████████████▌                                           | 5/8 [00:01<00:00,  6.37it/s]\u001b[A\n",
      "Validate (1728 / 10 Steps):  62%|████████████████████████████████████████████████████████████████████████▌                                           | 5/8 [00:01<00:00,  6.37it/s]\u001b[A\n",
      "Validate (1728 / 10 Steps):  62%|████████████████████████████████████████████████████████████████████████▌                                           | 5/8 [00:01<00:00,  6.37it/s]\u001b[A\n",
      "Validate (1728 / 10 Steps):  88%|█████████████████████████████████████████████████████████████████████████████████████████████████████▌              | 7/8 [00:01<00:00,  8.06it/s]\u001b[A\n",
      "Validate (1728 / 10 Steps):  88%|█████████████████████████████████████████████████████████████████████████████████████████████████████▌              | 7/8 [00:01<00:00,  8.06it/s]\u001b[A\n",
      "Validate (1728 / 10 Steps): 100%|████████████████████████████████████████████████████████████████████████████████████████████████████████████████████| 8/8 [00:01<00:00,  5.63it/s]\u001b[A\n",
      "Training (1751 / 10000 Steps) (loss=1.16470):  75%|████████████████████████████████████████████████████████████████████████                        | 24/32 [00:05<00:03,  2.03it/s]"
     ]
    },
    {
     "name": "stdout",
     "output_type": "stream",
     "text": [
      "Model Was Not Saved ! Current Best Avg. Dice: 0.4998551607131958 Current Avg. Dice: 0.4998551607131958\n"
     ]
    },
    {
     "name": "stderr",
     "output_type": "stream",
     "text": [
      "Training (1759 / 10000 Steps) (loss=1.16479): 100%|████████████████████████████████████████████████████████████████████████████████████████████████| 32/32 [00:07<00:00,  4.47it/s]\n",
      "Training (1791 / 10000 Steps) (loss=1.15702): 100%|████████████████████████████████████████████████████████████████████████████████████████████████| 32/32 [00:05<00:00,  5.61it/s]\n",
      "Training (1823 / 10000 Steps) (loss=1.14845): 100%|████████████████████████████████████████████████████████████████████████████████████████████████| 32/32 [00:05<00:00,  5.78it/s]\n",
      "Training (1855 / 10000 Steps) (loss=1.13982): 100%|████████████████████████████████████████████████████████████████████████████████████████████████| 32/32 [00:05<00:00,  5.54it/s]\n",
      "Training (1887 / 10000 Steps) (loss=1.13333): 100%|████████████████████████████████████████████████████████████████████████████████████████████████| 32/32 [00:05<00:00,  5.90it/s]\n",
      "Training (1919 / 10000 Steps) (loss=1.12479): 100%|████████████████████████████████████████████████████████████████████████████████████████████████| 32/32 [00:05<00:00,  5.58it/s]\n",
      "Training (1951 / 10000 Steps) (loss=1.11891): 100%|████████████████████████████████████████████████████████████████████████████████████████████████| 32/32 [00:05<00:00,  5.68it/s]\n",
      "Training (1983 / 10000 Steps) (loss=1.11166): 100%|████████████████████████████████████████████████████████████████████████████████████████████████| 32/32 [00:05<00:00,  5.74it/s]\n",
      "Training (2000 / 10000 Steps) (loss=1.10747):  50%|████████████████████████████████████████████████                                                | 16/32 [00:03<00:02,  6.41it/s]\n",
      "Validate (X / X Steps) (dice=X.X):   0%|                                                                                                                     | 0/8 [00:00<?, ?it/s]\u001b[A\n",
      "Validate (1984 / 10 Steps):   0%|                                                                                                                            | 0/8 [00:00<?, ?it/s]\u001b[A\n",
      "Validate (1984 / 10 Steps):  12%|██████████████▌                                                                                                     | 1/8 [00:00<00:01,  3.67it/s]\u001b[A\n",
      "Validate (1984 / 10 Steps):  12%|██████████████▌                                                                                                     | 1/8 [00:00<00:01,  3.67it/s]\u001b[A\n",
      "Validate (1984 / 10 Steps):  25%|█████████████████████████████                                                                                       | 2/8 [00:00<00:01,  5.75it/s]\u001b[A\n",
      "Validate (1984 / 10 Steps):  25%|█████████████████████████████                                                                                       | 2/8 [00:00<00:01,  5.75it/s]\u001b[A\n",
      "Validate (1984 / 10 Steps):  25%|█████████████████████████████                                                                                       | 2/8 [00:00<00:01,  5.75it/s]\u001b[A\n",
      "Validate (1984 / 10 Steps):  50%|██████████████████████████████████████████████████████████                                                          | 4/8 [00:00<00:00,  8.32it/s]\u001b[A\n",
      "Validate (1984 / 10 Steps):  50%|██████████████████████████████████████████████████████████                                                          | 4/8 [00:00<00:00,  8.32it/s]\u001b[A\n",
      "Validate (1984 / 10 Steps):  62%|████████████████████████████████████████████████████████████████████████▌                                           | 5/8 [00:00<00:00,  8.68it/s]\u001b[A\n",
      "Validate (1984 / 10 Steps):  62%|████████████████████████████████████████████████████████████████████████▌                                           | 5/8 [00:00<00:00,  8.68it/s]\u001b[A\n",
      "Validate (1984 / 10 Steps):  62%|████████████████████████████████████████████████████████████████████████▌                                           | 5/8 [00:00<00:00,  8.68it/s]\u001b[A\n",
      "Validate (1984 / 10 Steps):  88%|█████████████████████████████████████████████████████████████████████████████████████████████████████▌              | 7/8 [00:00<00:00,  9.78it/s]\u001b[A\n",
      "Validate (1984 / 10 Steps): 100%|████████████████████████████████████████████████████████████████████████████████████████████████████████████████████| 8/8 [00:01<00:00,  7.55it/s]\u001b[A\n",
      "Training (2000 / 10000 Steps) (loss=1.10747):  53%|███████████████████████████████████████████████████                                             | 17/32 [00:04<00:07,  2.11it/s]"
     ]
    },
    {
     "name": "stdout",
     "output_type": "stream",
     "text": [
      "Model Was Not Saved ! Current Best Avg. Dice: 0.4998551607131958 Current Avg. Dice: 0.4998551607131958\n"
     ]
    },
    {
     "name": "stderr",
     "output_type": "stream",
     "text": [
      "Training (2015 / 10000 Steps) (loss=1.10570): 100%|████████████████████████████████████████████████████████████████████████████████████████████████| 32/32 [00:06<00:00,  4.61it/s]\n",
      "Training (2047 / 10000 Steps) (loss=1.10232): 100%|████████████████████████████████████████████████████████████████████████████████████████████████| 32/32 [00:05<00:00,  6.16it/s]\n",
      "Training (2079 / 10000 Steps) (loss=1.09432): 100%|████████████████████████████████████████████████████████████████████████████████████████████████| 32/32 [00:05<00:00,  5.48it/s]\n",
      "Training (2111 / 10000 Steps) (loss=1.08812): 100%|████████████████████████████████████████████████████████████████████████████████████████████████| 32/32 [00:05<00:00,  5.97it/s]\n",
      "Training (2143 / 10000 Steps) (loss=1.08438): 100%|████████████████████████████████████████████████████████████████████████████████████████████████| 32/32 [00:05<00:00,  5.90it/s]\n",
      "Training (2175 / 10000 Steps) (loss=1.08006): 100%|████████████████████████████████████████████████████████████████████████████████████████████████| 32/32 [00:05<00:00,  5.44it/s]\n",
      "Training (2207 / 10000 Steps) (loss=1.07285): 100%|████████████████████████████████████████████████████████████████████████████████████████████████| 32/32 [00:05<00:00,  6.19it/s]\n",
      "Training (2239 / 10000 Steps) (loss=1.07087): 100%|████████████████████████████████████████████████████████████████████████████████████████████████| 32/32 [00:05<00:00,  5.50it/s]\n",
      "Training (2250 / 10000 Steps) (loss=1.06759):  31%|██████████████████████████████                                                                  | 10/32 [00:01<00:03,  6.63it/s]\n",
      "Validate (X / X Steps) (dice=X.X):   0%|                                                                                                                     | 0/8 [00:00<?, ?it/s]\u001b[A\n",
      "Validate (2240 / 10 Steps):   0%|                                                                                                                            | 0/8 [00:00<?, ?it/s]\u001b[A\n",
      "Validate (2240 / 10 Steps):  12%|██████████████▌                                                                                                     | 1/8 [00:00<00:01,  4.42it/s]\u001b[A\n",
      "Validate (2240 / 10 Steps):  12%|██████████████▌                                                                                                     | 1/8 [00:00<00:01,  4.42it/s]\u001b[A\n",
      "Validate (2240 / 10 Steps):  25%|█████████████████████████████                                                                                       | 2/8 [00:00<00:00,  6.50it/s]\u001b[A\n",
      "Validate (2240 / 10 Steps):  25%|█████████████████████████████                                                                                       | 2/8 [00:00<00:00,  6.50it/s]\u001b[A\n",
      "Validate (2240 / 10 Steps):  25%|█████████████████████████████                                                                                       | 2/8 [00:00<00:00,  6.50it/s]\u001b[A\n",
      "Validate (2240 / 10 Steps):  50%|██████████████████████████████████████████████████████████                                                          | 4/8 [00:00<00:00,  8.94it/s]\u001b[A\n",
      "Validate (2240 / 10 Steps):  50%|██████████████████████████████████████████████████████████                                                          | 4/8 [00:00<00:00,  8.94it/s]\u001b[A\n",
      "Validate (2240 / 10 Steps):  62%|████████████████████████████████████████████████████████████████████████▌                                           | 5/8 [00:00<00:00,  6.52it/s]\u001b[A\n",
      "Validate (2240 / 10 Steps):  62%|████████████████████████████████████████████████████████████████████████▌                                           | 5/8 [00:00<00:00,  6.52it/s]\u001b[A\n",
      "Validate (2240 / 10 Steps):  75%|███████████████████████████████████████████████████████████████████████████████████████                             | 6/8 [00:00<00:00,  6.71it/s]\u001b[A\n",
      "Validate (2240 / 10 Steps):  75%|███████████████████████████████████████████████████████████████████████████████████████                             | 6/8 [00:00<00:00,  6.71it/s]\u001b[A\n",
      "Validate (2240 / 10 Steps):  88%|█████████████████████████████████████████████████████████████████████████████████████████████████████▌              | 7/8 [00:00<00:00,  7.39it/s]\u001b[A\n",
      "Validate (2240 / 10 Steps):  88%|█████████████████████████████████████████████████████████████████████████████████████████████████████▌              | 7/8 [00:01<00:00,  7.39it/s]\u001b[A\n",
      "Validate (2240 / 10 Steps): 100%|████████████████████████████████████████████████████████████████████████████████████████████████████████████████████| 8/8 [00:01<00:00,  6.88it/s]\u001b[A\n",
      "Training (2251 / 10000 Steps) (loss=1.06889):  38%|████████████████████████████████████                                                            | 12/32 [00:03<00:07,  2.52it/s]"
     ]
    },
    {
     "name": "stdout",
     "output_type": "stream",
     "text": [
      "Model Was Not Saved ! Current Best Avg. Dice: 0.4998551607131958 Current Avg. Dice: 0.4998551607131958\n"
     ]
    },
    {
     "name": "stderr",
     "output_type": "stream",
     "text": [
      "Training (2271 / 10000 Steps) (loss=1.06574): 100%|████████████████████████████████████████████████████████████████████████████████████████████████| 32/32 [00:06<00:00,  5.06it/s]\n",
      "Training (2303 / 10000 Steps) (loss=1.06070): 100%|████████████████████████████████████████████████████████████████████████████████████████████████| 32/32 [00:05<00:00,  5.55it/s]\n",
      "Training (2335 / 10000 Steps) (loss=1.05696): 100%|████████████████████████████████████████████████████████████████████████████████████████████████| 32/32 [00:05<00:00,  5.68it/s]\n",
      "Training (2367 / 10000 Steps) (loss=1.05219): 100%|████████████████████████████████████████████████████████████████████████████████████████████████| 32/32 [00:05<00:00,  5.83it/s]\n",
      "Training (2399 / 10000 Steps) (loss=1.04952): 100%|████████████████████████████████████████████████████████████████████████████████████████████████| 32/32 [00:05<00:00,  5.57it/s]\n",
      "Training (2431 / 10000 Steps) (loss=1.04617): 100%|████████████████████████████████████████████████████████████████████████████████████████████████| 32/32 [00:05<00:00,  5.82it/s]\n",
      "Training (2463 / 10000 Steps) (loss=1.04403): 100%|████████████████████████████████████████████████████████████████████████████████████████████████| 32/32 [00:05<00:00,  5.59it/s]\n",
      "Training (2495 / 10000 Steps) (loss=1.03782): 100%|████████████████████████████████████████████████████████████████████████████████████████████████| 32/32 [00:05<00:00,  5.66it/s]\n",
      "Training (2500 / 10000 Steps) (loss=1.03874):  12%|████████████▏                                                                                    | 4/32 [00:01<00:05,  4.78it/s]\n",
      "Validate (X / X Steps) (dice=X.X):   0%|                                                                                                                     | 0/8 [00:00<?, ?it/s]\u001b[A\n",
      "Validate (2496 / 10 Steps):   0%|                                                                                                                            | 0/8 [00:00<?, ?it/s]\u001b[A\n",
      "Validate (2496 / 10 Steps):  12%|██████████████▌                                                                                                     | 1/8 [00:00<00:02,  3.03it/s]\u001b[A\n",
      "Validate (2496 / 10 Steps):  12%|██████████████▌                                                                                                     | 1/8 [00:00<00:02,  3.03it/s]\u001b[A\n",
      "Validate (2496 / 10 Steps):  25%|█████████████████████████████                                                                                       | 2/8 [00:00<00:01,  5.07it/s]\u001b[A\n",
      "Validate (2496 / 10 Steps):  25%|█████████████████████████████                                                                                       | 2/8 [00:00<00:01,  5.07it/s]\u001b[A\n",
      "Validate (2496 / 10 Steps):  25%|█████████████████████████████                                                                                       | 2/8 [00:00<00:01,  5.07it/s]\u001b[A\n",
      "Validate (2496 / 10 Steps):  50%|██████████████████████████████████████████████████████████                                                          | 4/8 [00:00<00:00,  7.82it/s]\u001b[A\n",
      "Validate (2496 / 10 Steps):  50%|██████████████████████████████████████████████████████████                                                          | 4/8 [00:00<00:00,  7.82it/s]\u001b[A\n",
      "Validate (2496 / 10 Steps):  62%|████████████████████████████████████████████████████████████████████████▌                                           | 5/8 [00:00<00:00,  8.34it/s]\u001b[A\n",
      "Validate (2496 / 10 Steps):  62%|████████████████████████████████████████████████████████████████████████▌                                           | 5/8 [00:00<00:00,  8.34it/s]\u001b[A\n",
      "Validate (2496 / 10 Steps):  62%|████████████████████████████████████████████████████████████████████████▌                                           | 5/8 [00:00<00:00,  8.34it/s]\u001b[A\n",
      "Validate (2496 / 10 Steps):  88%|█████████████████████████████████████████████████████████████████████████████████████████████████████▌              | 7/8 [00:00<00:00,  9.61it/s]\u001b[A\n",
      "Validate (2496 / 10 Steps): 100%|████████████████████████████████████████████████████████████████████████████████████████████████████████████████████| 8/8 [00:01<00:00,  7.62it/s]\u001b[A\n",
      "Training (2501 / 10000 Steps) (loss=1.03890):  19%|██████████████████▏                                                                              | 6/32 [00:02<00:11,  2.36it/s]"
     ]
    },
    {
     "name": "stdout",
     "output_type": "stream",
     "text": [
      "Model Was Not Saved ! Current Best Avg. Dice: 0.4998551607131958 Current Avg. Dice: 0.4998551607131958\n"
     ]
    },
    {
     "name": "stderr",
     "output_type": "stream",
     "text": [
      "Training (2527 / 10000 Steps) (loss=1.03802): 100%|████████████████████████████████████████████████████████████████████████████████████████████████| 32/32 [00:06<00:00,  4.89it/s]\n",
      "Training (2559 / 10000 Steps) (loss=1.03333): 100%|████████████████████████████████████████████████████████████████████████████████████████████████| 32/32 [00:05<00:00,  5.37it/s]\n",
      "Training (2591 / 10000 Steps) (loss=1.03187): 100%|████████████████████████████████████████████████████████████████████████████████████████████████| 32/32 [00:05<00:00,  6.17it/s]\n",
      "Training (2623 / 10000 Steps) (loss=1.02684): 100%|████████████████████████████████████████████████████████████████████████████████████████████████| 32/32 [00:05<00:00,  5.58it/s]\n",
      "Training (2655 / 10000 Steps) (loss=1.02375): 100%|████████████████████████████████████████████████████████████████████████████████████████████████| 32/32 [00:05<00:00,  5.80it/s]\n",
      "Training (2687 / 10000 Steps) (loss=1.01961): 100%|████████████████████████████████████████████████████████████████████████████████████████████████| 32/32 [00:05<00:00,  5.81it/s]\n",
      "Training (2719 / 10000 Steps) (loss=1.01948): 100%|████████████████████████████████████████████████████████████████████████████████████████████████| 32/32 [00:05<00:00,  5.42it/s]\n",
      "Training (2750 / 10000 Steps) (loss=1.01531):  94%|██████████████████████████████████████████████████████████████████████████████████████████      | 30/32 [00:04<00:00,  6.77it/s]\n",
      "Validate (X / X Steps) (dice=X.X):   0%|                                                                                                                     | 0/8 [00:00<?, ?it/s]\u001b[A\n",
      "Validate (2720 / 10 Steps):   0%|                                                                                                                            | 0/8 [00:00<?, ?it/s]\u001b[A\n",
      "Validate (2720 / 10 Steps):  12%|██████████████▌                                                                                                     | 1/8 [00:00<00:01,  3.80it/s]\u001b[A\n",
      "Validate (2720 / 10 Steps):  12%|██████████████▌                                                                                                     | 1/8 [00:00<00:01,  3.80it/s]\u001b[A\n",
      "Validate (2720 / 10 Steps):  25%|█████████████████████████████                                                                                       | 2/8 [00:00<00:01,  5.89it/s]\u001b[A\n",
      "Validate (2720 / 10 Steps):  25%|█████████████████████████████                                                                                       | 2/8 [00:00<00:01,  5.89it/s]\u001b[A\n",
      "Validate (2720 / 10 Steps):  25%|█████████████████████████████                                                                                       | 2/8 [00:00<00:01,  5.89it/s]\u001b[A\n",
      "Validate (2720 / 10 Steps):  50%|██████████████████████████████████████████████████████████                                                          | 4/8 [00:00<00:00,  8.38it/s]\u001b[A\n",
      "Validate (2720 / 10 Steps):  50%|██████████████████████████████████████████████████████████                                                          | 4/8 [00:00<00:00,  8.38it/s]\u001b[A\n",
      "Validate (2720 / 10 Steps):  62%|████████████████████████████████████████████████████████████████████████▌                                           | 5/8 [00:00<00:00,  8.73it/s]\u001b[A\n",
      "Validate (2720 / 10 Steps):  62%|████████████████████████████████████████████████████████████████████████▌                                           | 5/8 [00:00<00:00,  8.73it/s]\u001b[A\n",
      "Validate (2720 / 10 Steps):  62%|████████████████████████████████████████████████████████████████████████▌                                           | 5/8 [00:00<00:00,  8.73it/s]\u001b[A\n",
      "Validate (2720 / 10 Steps):  88%|█████████████████████████████████████████████████████████████████████████████████████████████████████▌              | 7/8 [00:00<00:00,  8.45it/s]\u001b[A\n",
      "Validate (2720 / 10 Steps):  88%|█████████████████████████████████████████████████████████████████████████████████████████████████████▌              | 7/8 [00:01<00:00,  8.45it/s]\u001b[A\n",
      "Validate (2720 / 10 Steps): 100%|████████████████████████████████████████████████████████████████████████████████████████████████████████████████████| 8/8 [00:01<00:00,  6.65it/s]\u001b[A\n",
      "Training (2751 / 10000 Steps) (loss=1.01712): 100%|████████████████████████████████████████████████████████████████████████████████████████████████| 32/32 [00:06<00:00,  2.49it/s]"
     ]
    },
    {
     "name": "stdout",
     "output_type": "stream",
     "text": [
      "Model Was Not Saved ! Current Best Avg. Dice: 0.4998551607131958 Current Avg. Dice: 0.4998551607131958\n"
     ]
    },
    {
     "name": "stderr",
     "output_type": "stream",
     "text": [
      "Training (2751 / 10000 Steps) (loss=1.01712): 100%|████████████████████████████████████████████████████████████████████████████████████████████████| 32/32 [00:06<00:00,  4.98it/s]\n",
      "Training (2783 / 10000 Steps) (loss=1.01436): 100%|████████████████████████████████████████████████████████████████████████████████████████████████| 32/32 [00:05<00:00,  5.53it/s]\n",
      "Training (2815 / 10000 Steps) (loss=1.01269): 100%|████████████████████████████████████████████████████████████████████████████████████████████████| 32/32 [00:05<00:00,  5.81it/s]\n",
      "Training (2847 / 10000 Steps) (loss=1.00821): 100%|████████████████████████████████████████████████████████████████████████████████████████████████| 32/32 [00:05<00:00,  5.62it/s]\n",
      "Training (2879 / 10000 Steps) (loss=1.00956): 100%|████████████████████████████████████████████████████████████████████████████████████████████████| 32/32 [00:05<00:00,  5.64it/s]\n",
      "Training (2911 / 10000 Steps) (loss=1.00631): 100%|████████████████████████████████████████████████████████████████████████████████████████████████| 32/32 [00:05<00:00,  5.78it/s]\n",
      "Training (2943 / 10000 Steps) (loss=1.00282): 100%|████████████████████████████████████████████████████████████████████████████████████████████████| 32/32 [00:05<00:00,  5.57it/s]\n",
      "Training (2975 / 10000 Steps) (loss=1.00168): 100%|████████████████████████████████████████████████████████████████████████████████████████████████| 32/32 [00:05<00:00,  5.91it/s]\n",
      "Training (3000 / 10000 Steps) (loss=0.99848):  75%|████████████████████████████████████████████████████████████████████████                        | 24/32 [00:04<00:01,  4.89it/s]\n",
      "Validate (X / X Steps) (dice=X.X):   0%|                                                                                                                     | 0/8 [00:00<?, ?it/s]\u001b[A\n",
      "Validate (2976 / 10 Steps):   0%|                                                                                                                            | 0/8 [00:00<?, ?it/s]\u001b[A\n",
      "Validate (2976 / 10 Steps):  12%|██████████████▌                                                                                                     | 1/8 [00:00<00:02,  3.26it/s]\u001b[A\n",
      "Validate (2976 / 10 Steps):  12%|██████████████▌                                                                                                     | 1/8 [00:00<00:02,  3.26it/s]\u001b[A\n",
      "Validate (2976 / 10 Steps):  25%|█████████████████████████████                                                                                       | 2/8 [00:00<00:01,  5.33it/s]\u001b[A\n",
      "Validate (2976 / 10 Steps):  25%|█████████████████████████████                                                                                       | 2/8 [00:00<00:01,  5.33it/s]\u001b[A\n",
      "Validate (2976 / 10 Steps):  25%|█████████████████████████████                                                                                       | 2/8 [00:00<00:01,  5.33it/s]\u001b[A\n",
      "Validate (2976 / 10 Steps):  50%|██████████████████████████████████████████████████████████                                                          | 4/8 [00:00<00:00,  7.97it/s]\u001b[A\n",
      "Validate (2976 / 10 Steps):  50%|██████████████████████████████████████████████████████████                                                          | 4/8 [00:00<00:00,  7.97it/s]\u001b[A\n",
      "Validate (2976 / 10 Steps):  62%|████████████████████████████████████████████████████████████████████████▌                                           | 5/8 [00:00<00:00,  8.42it/s]\u001b[A\n",
      "Validate (2976 / 10 Steps):  62%|████████████████████████████████████████████████████████████████████████▌                                           | 5/8 [00:00<00:00,  8.42it/s]\u001b[A\n",
      "Validate (2976 / 10 Steps):  62%|████████████████████████████████████████████████████████████████████████▌                                           | 5/8 [00:00<00:00,  8.42it/s]\u001b[A\n",
      "Validate (2976 / 10 Steps):  88%|█████████████████████████████████████████████████████████████████████████████████████████████████████▌              | 7/8 [00:00<00:00,  9.63it/s]\u001b[A\n",
      "Validate (2976 / 10 Steps): 100%|████████████████████████████████████████████████████████████████████████████████████████████████████████████████████| 8/8 [00:01<00:00,  7.73it/s]\u001b[A\n",
      "Training (3000 / 10000 Steps) (loss=0.99848):  78%|███████████████████████████████████████████████████████████████████████████                     | 25/32 [00:05<00:03,  2.01it/s]"
     ]
    },
    {
     "name": "stdout",
     "output_type": "stream",
     "text": [
      "Model Was Not Saved ! Current Best Avg. Dice: 0.4998551607131958 Current Avg. Dice: 0.4998551607131958\n"
     ]
    },
    {
     "name": "stderr",
     "output_type": "stream",
     "text": [
      "Training (3007 / 10000 Steps) (loss=0.99869): 100%|████████████████████████████████████████████████████████████████████████████████████████████████| 32/32 [00:06<00:00,  4.62it/s]\n",
      "Training (3039 / 10000 Steps) (loss=0.99842): 100%|████████████████████████████████████████████████████████████████████████████████████████████████| 32/32 [00:05<00:00,  5.92it/s]\n",
      "Training (3071 / 10000 Steps) (loss=0.99646): 100%|████████████████████████████████████████████████████████████████████████████████████████████████| 32/32 [00:05<00:00,  5.88it/s]\n",
      "Training (3103 / 10000 Steps) (loss=0.99513): 100%|████████████████████████████████████████████████████████████████████████████████████████████████| 32/32 [00:05<00:00,  5.72it/s]\n",
      "Training (3135 / 10000 Steps) (loss=0.99095): 100%|████████████████████████████████████████████████████████████████████████████████████████████████| 32/32 [00:05<00:00,  6.12it/s]\n",
      "Training (3167 / 10000 Steps) (loss=0.98952): 100%|████████████████████████████████████████████████████████████████████████████████████████████████| 32/32 [00:05<00:00,  5.44it/s]\n",
      "Training (3199 / 10000 Steps) (loss=0.98806): 100%|████████████████████████████████████████████████████████████████████████████████████████████████| 32/32 [00:05<00:00,  5.98it/s]\n",
      "Training (3231 / 10000 Steps) (loss=0.98680): 100%|████████████████████████████████████████████████████████████████████████████████████████████████| 32/32 [00:05<00:00,  5.94it/s]\n",
      "Training (3250 / 10000 Steps) (loss=0.98431):  56%|██████████████████████████████████████████████████████                                          | 18/32 [00:03<00:02,  5.71it/s]\n",
      "Validate (X / X Steps) (dice=X.X):   0%|                                                                                                                     | 0/8 [00:00<?, ?it/s]\u001b[A\n",
      "Validate (3232 / 10 Steps):   0%|                                                                                                                            | 0/8 [00:00<?, ?it/s]\u001b[A\n",
      "Validate (3232 / 10 Steps):  12%|██████████████▌                                                                                                     | 1/8 [00:00<00:01,  3.82it/s]\u001b[A\n",
      "Validate (3232 / 10 Steps):  12%|██████████████▌                                                                                                     | 1/8 [00:00<00:01,  3.82it/s]\u001b[A\n",
      "Validate (3232 / 10 Steps):  25%|█████████████████████████████                                                                                       | 2/8 [00:00<00:01,  5.92it/s]\u001b[A\n",
      "Validate (3232 / 10 Steps):  25%|█████████████████████████████                                                                                       | 2/8 [00:00<00:01,  5.92it/s]\u001b[A\n",
      "Validate (3232 / 10 Steps):  38%|███████████████████████████████████████████▌                                                                        | 3/8 [00:00<00:00,  6.41it/s]\u001b[A\n",
      "Validate (3232 / 10 Steps):  38%|███████████████████████████████████████████▌                                                                        | 3/8 [00:00<00:00,  6.41it/s]\u001b[A\n",
      "Validate (3232 / 10 Steps):  50%|██████████████████████████████████████████████████████████                                                          | 4/8 [00:00<00:00,  7.39it/s]\u001b[A\n",
      "Validate (3232 / 10 Steps):  50%|██████████████████████████████████████████████████████████                                                          | 4/8 [00:00<00:00,  7.39it/s]\u001b[A\n",
      "Validate (3232 / 10 Steps):  62%|████████████████████████████████████████████████████████████████████████▌                                           | 5/8 [00:00<00:00,  8.12it/s]\u001b[A\n",
      "Validate (3232 / 10 Steps):  62%|████████████████████████████████████████████████████████████████████████▌                                           | 5/8 [00:00<00:00,  8.12it/s]\u001b[A\n",
      "Validate (3232 / 10 Steps):  62%|████████████████████████████████████████████████████████████████████████▌                                           | 5/8 [00:00<00:00,  8.12it/s]\u001b[A\n",
      "Validate (3232 / 10 Steps):  88%|█████████████████████████████████████████████████████████████████████████████████████████████████████▌              | 7/8 [00:00<00:00,  9.62it/s]\u001b[A\n",
      "Validate (3232 / 10 Steps):  88%|█████████████████████████████████████████████████████████████████████████████████████████████████████▌              | 7/8 [00:00<00:00,  9.62it/s]\u001b[A\n",
      "Validate (3232 / 10 Steps): 100%|████████████████████████████████████████████████████████████████████████████████████████████████████████████████████| 8/8 [00:01<00:00,  7.69it/s]\u001b[A\n",
      "Training (3251 / 10000 Steps) (loss=0.98691):  62%|████████████████████████████████████████████████████████████                                    | 20/32 [00:06<00:09,  1.32it/s]"
     ]
    },
    {
     "name": "stdout",
     "output_type": "stream",
     "text": [
      "Model Was Saved ! Current Best Avg. Dice: 0.5825052261352539 Current Avg. Dice: 0.5825052261352539\n"
     ]
    },
    {
     "name": "stderr",
     "output_type": "stream",
     "text": [
      "Training (3263 / 10000 Steps) (loss=0.98072): 100%|████████████████████████████████████████████████████████████████████████████████████████████████| 32/32 [00:08<00:00,  3.85it/s]\n",
      "Training (3295 / 10000 Steps) (loss=0.97665): 100%|████████████████████████████████████████████████████████████████████████████████████████████████| 32/32 [00:05<00:00,  5.90it/s]\n",
      "Training (3327 / 10000 Steps) (loss=0.97542): 100%|████████████████████████████████████████████████████████████████████████████████████████████████| 32/32 [00:05<00:00,  5.38it/s]\n",
      "Training (3359 / 10000 Steps) (loss=0.96863): 100%|████████████████████████████████████████████████████████████████████████████████████████████████| 32/32 [00:05<00:00,  6.16it/s]\n",
      "Training (3391 / 10000 Steps) (loss=0.97138): 100%|████████████████████████████████████████████████████████████████████████████████████████████████| 32/32 [00:05<00:00,  5.48it/s]\n",
      "Training (3423 / 10000 Steps) (loss=0.96879): 100%|████████████████████████████████████████████████████████████████████████████████████████████████| 32/32 [00:05<00:00,  5.94it/s]\n",
      "Training (3455 / 10000 Steps) (loss=0.96566): 100%|████████████████████████████████████████████████████████████████████████████████████████████████| 32/32 [00:05<00:00,  5.90it/s]\n",
      "Training (3487 / 10000 Steps) (loss=0.96235): 100%|████████████████████████████████████████████████████████████████████████████████████████████████| 32/32 [00:05<00:00,  5.35it/s]\n",
      "Training (3500 / 10000 Steps) (loss=0.96580):  38%|████████████████████████████████████                                                            | 12/32 [00:02<00:02,  6.67it/s]\n",
      "Validate (X / X Steps) (dice=X.X):   0%|                                                                                                                     | 0/8 [00:00<?, ?it/s]\u001b[A\n",
      "Validate (3488 / 10 Steps):   0%|                                                                                                                            | 0/8 [00:00<?, ?it/s]\u001b[A\n",
      "Validate (3488 / 10 Steps):  12%|██████████████▌                                                                                                     | 1/8 [00:00<00:01,  3.84it/s]\u001b[A\n",
      "Validate (3488 / 10 Steps):  12%|██████████████▌                                                                                                     | 1/8 [00:00<00:01,  3.84it/s]\u001b[A\n",
      "Validate (3488 / 10 Steps):  25%|█████████████████████████████                                                                                       | 2/8 [00:00<00:01,  5.93it/s]\u001b[A\n",
      "Validate (3488 / 10 Steps):  25%|█████████████████████████████                                                                                       | 2/8 [00:00<00:01,  5.93it/s]\u001b[A\n",
      "Validate (3488 / 10 Steps):  38%|███████████████████████████████████████████▌                                                                        | 3/8 [00:00<00:00,  6.29it/s]\u001b[A\n",
      "Validate (3488 / 10 Steps):  38%|███████████████████████████████████████████▌                                                                        | 3/8 [00:00<00:00,  6.29it/s]\u001b[A\n",
      "Validate (3488 / 10 Steps):  50%|██████████████████████████████████████████████████████████                                                          | 4/8 [00:00<00:00,  7.27it/s]\u001b[A\n",
      "Validate (3488 / 10 Steps):  50%|██████████████████████████████████████████████████████████                                                          | 4/8 [00:00<00:00,  7.27it/s]\u001b[A\n",
      "Validate (3488 / 10 Steps):  62%|████████████████████████████████████████████████████████████████████████▌                                           | 5/8 [00:00<00:00,  8.01it/s]\u001b[A\n",
      "Validate (3488 / 10 Steps):  62%|████████████████████████████████████████████████████████████████████████▌                                           | 5/8 [00:00<00:00,  8.01it/s]\u001b[A\n",
      "Validate (3488 / 10 Steps):  62%|████████████████████████████████████████████████████████████████████████▌                                           | 5/8 [00:00<00:00,  8.01it/s]\u001b[A\n",
      "Validate (3488 / 10 Steps):  88%|█████████████████████████████████████████████████████████████████████████████████████████████████████▌              | 7/8 [00:00<00:00,  9.52it/s]\u001b[A\n",
      "Validate (3488 / 10 Steps):  88%|█████████████████████████████████████████████████████████████████████████████████████████████████████▌              | 7/8 [00:00<00:00,  9.52it/s]\u001b[A\n",
      "Validate (3488 / 10 Steps): 100%|████████████████████████████████████████████████████████████████████████████████████████████████████████████████████| 8/8 [00:01<00:00,  7.56it/s]\u001b[A\n",
      "Training (3501 / 10000 Steps) (loss=0.96294):  44%|██████████████████████████████████████████                                                      | 14/32 [00:05<00:12,  1.39it/s]"
     ]
    },
    {
     "name": "stdout",
     "output_type": "stream",
     "text": [
      "Model Was Saved ! Current Best Avg. Dice: 0.8126457929611206 Current Avg. Dice: 0.8126457929611206\n"
     ]
    },
    {
     "name": "stderr",
     "output_type": "stream",
     "text": [
      "Training (3519 / 10000 Steps) (loss=0.96098): 100%|████████████████████████████████████████████████████████████████████████████████████████████████| 32/32 [00:08<00:00,  3.92it/s]\n",
      "Training (3551 / 10000 Steps) (loss=0.96072): 100%|████████████████████████████████████████████████████████████████████████████████████████████████| 32/32 [00:05<00:00,  5.60it/s]\n",
      "Training (3583 / 10000 Steps) (loss=0.96027): 100%|████████████████████████████████████████████████████████████████████████████████████████████████| 32/32 [00:05<00:00,  6.12it/s]\n",
      "Training (3615 / 10000 Steps) (loss=0.95410): 100%|████████████████████████████████████████████████████████████████████████████████████████████████| 32/32 [00:05<00:00,  5.60it/s]\n",
      "Training (3647 / 10000 Steps) (loss=0.95111): 100%|████████████████████████████████████████████████████████████████████████████████████████████████| 32/32 [00:05<00:00,  5.87it/s]\n",
      "Training (3679 / 10000 Steps) (loss=0.94665): 100%|████████████████████████████████████████████████████████████████████████████████████████████████| 32/32 [00:05<00:00,  5.79it/s]\n",
      "Training (3711 / 10000 Steps) (loss=0.95134): 100%|████████████████████████████████████████████████████████████████████████████████████████████████| 32/32 [00:06<00:00,  5.25it/s]\n",
      "Training (3743 / 10000 Steps) (loss=0.95136): 100%|████████████████████████████████████████████████████████████████████████████████████████████████| 32/32 [00:05<00:00,  6.16it/s]\n",
      "Training (3750 / 10000 Steps) (loss=0.94558):  19%|██████████████████▏                                                                              | 6/32 [00:01<00:05,  4.58it/s]\n",
      "Validate (X / X Steps) (dice=X.X):   0%|                                                                                                                     | 0/8 [00:00<?, ?it/s]\u001b[A\n",
      "Validate (3744 / 10 Steps):   0%|                                                                                                                            | 0/8 [00:00<?, ?it/s]\u001b[A\n",
      "Validate (3744 / 10 Steps):  12%|██████████████▌                                                                                                     | 1/8 [00:00<00:01,  4.10it/s]\u001b[A\n",
      "Validate (3744 / 10 Steps):  12%|██████████████▌                                                                                                     | 1/8 [00:00<00:01,  4.10it/s]\u001b[A\n",
      "Validate (3744 / 10 Steps):  25%|█████████████████████████████                                                                                       | 2/8 [00:00<00:00,  6.18it/s]\u001b[A\n",
      "Validate (3744 / 10 Steps):  25%|█████████████████████████████                                                                                       | 2/8 [00:00<00:00,  6.18it/s]\u001b[A\n",
      "Validate (3744 / 10 Steps):  25%|█████████████████████████████                                                                                       | 2/8 [00:00<00:00,  6.18it/s]\u001b[A\n",
      "Validate (3744 / 10 Steps):  50%|██████████████████████████████████████████████████████████                                                          | 4/8 [00:00<00:00,  8.67it/s]\u001b[A\n",
      "Validate (3744 / 10 Steps):  50%|██████████████████████████████████████████████████████████                                                          | 4/8 [00:00<00:00,  8.67it/s]\u001b[A\n",
      "Validate (3744 / 10 Steps):  62%|████████████████████████████████████████████████████████████████████████▌                                           | 5/8 [00:00<00:00,  8.97it/s]\u001b[A\n",
      "Validate (3744 / 10 Steps):  62%|████████████████████████████████████████████████████████████████████████▌                                           | 5/8 [00:00<00:00,  8.97it/s]\u001b[A\n",
      "Validate (3744 / 10 Steps):  62%|████████████████████████████████████████████████████████████████████████▌                                           | 5/8 [00:00<00:00,  8.97it/s]\u001b[A\n",
      "Validate (3744 / 10 Steps):  88%|█████████████████████████████████████████████████████████████████████████████████████████████████████▌              | 7/8 [00:00<00:00, 10.03it/s]\u001b[A\n",
      "Validate (3744 / 10 Steps): 100%|████████████████████████████████████████████████████████████████████████████████████████████████████████████████████| 8/8 [00:00<00:00,  8.30it/s]\u001b[A\n",
      "Training (3751 / 10000 Steps) (loss=0.94578):  25%|████████████████████████▎                                                                        | 8/32 [00:04<00:18,  1.31it/s]"
     ]
    },
    {
     "name": "stdout",
     "output_type": "stream",
     "text": [
      "Model Was Saved ! Current Best Avg. Dice: 0.8201966285705566 Current Avg. Dice: 0.8201966285705566\n"
     ]
    },
    {
     "name": "stderr",
     "output_type": "stream",
     "text": [
      "Training (3775 / 10000 Steps) (loss=0.93897): 100%|████████████████████████████████████████████████████████████████████████████████████████████████| 32/32 [00:08<00:00,  3.72it/s]\n",
      "Training (3807 / 10000 Steps) (loss=0.94376): 100%|████████████████████████████████████████████████████████████████████████████████████████████████| 32/32 [00:05<00:00,  6.05it/s]\n",
      "Training (3839 / 10000 Steps) (loss=0.94255): 100%|████████████████████████████████████████████████████████████████████████████████████████████████| 32/32 [00:05<00:00,  5.34it/s]\n",
      "Training (3871 / 10000 Steps) (loss=0.93901): 100%|████████████████████████████████████████████████████████████████████████████████████████████████| 32/32 [00:05<00:00,  5.81it/s]\n",
      "Training (3903 / 10000 Steps) (loss=0.93255): 100%|████████████████████████████████████████████████████████████████████████████████████████████████| 32/32 [00:05<00:00,  5.78it/s]\n",
      "Training (3935 / 10000 Steps) (loss=0.94197): 100%|████████████████████████████████████████████████████████████████████████████████████████████████| 32/32 [00:05<00:00,  5.60it/s]\n",
      "Training (3967 / 10000 Steps) (loss=0.93402): 100%|████████████████████████████████████████████████████████████████████████████████████████████████| 32/32 [00:05<00:00,  6.00it/s]\n",
      "Training (3999 / 10000 Steps) (loss=0.93467): 100%|████████████████████████████████████████████████████████████████████████████████████████████████| 32/32 [00:05<00:00,  5.43it/s]\n",
      "Training (4000 / 10000 Steps) (loss=0.92889):   0%|                                                                                                         | 0/32 [00:00<?, ?it/s]\n",
      "Validate (X / X Steps) (dice=X.X):   0%|                                                                                                                     | 0/8 [00:00<?, ?it/s]\u001b[A\n",
      "Validate (4000 / 10 Steps):   0%|                                                                                                                            | 0/8 [00:00<?, ?it/s]\u001b[A\n",
      "Validate (4000 / 10 Steps):  12%|██████████████▌                                                                                                     | 1/8 [00:00<00:01,  4.17it/s]\u001b[A\n",
      "Validate (4000 / 10 Steps):  12%|██████████████▌                                                                                                     | 1/8 [00:00<00:01,  4.17it/s]\u001b[A\n",
      "Validate (4000 / 10 Steps):  25%|█████████████████████████████                                                                                       | 2/8 [00:00<00:00,  6.25it/s]\u001b[A\n",
      "Validate (4000 / 10 Steps):  25%|█████████████████████████████                                                                                       | 2/8 [00:00<00:00,  6.25it/s]\u001b[A\n",
      "Validate (4000 / 10 Steps):  25%|█████████████████████████████                                                                                       | 2/8 [00:00<00:00,  6.25it/s]\u001b[A\n",
      "Validate (4000 / 10 Steps):  50%|██████████████████████████████████████████████████████████                                                          | 4/8 [00:00<00:00,  8.71it/s]\u001b[A\n",
      "Validate (4000 / 10 Steps):  50%|██████████████████████████████████████████████████████████                                                          | 4/8 [00:00<00:00,  8.71it/s]\u001b[A\n",
      "Validate (4000 / 10 Steps):  62%|████████████████████████████████████████████████████████████████████████▌                                           | 5/8 [00:00<00:00,  9.02it/s]\u001b[A\n",
      "Validate (4000 / 10 Steps):  62%|████████████████████████████████████████████████████████████████████████▌                                           | 5/8 [00:00<00:00,  9.02it/s]\u001b[A\n",
      "Validate (4000 / 10 Steps):  62%|████████████████████████████████████████████████████████████████████████▌                                           | 5/8 [00:00<00:00,  9.02it/s]\u001b[A\n",
      "Validate (4000 / 10 Steps):  88%|█████████████████████████████████████████████████████████████████████████████████████████████████████▌              | 7/8 [00:00<00:00, 10.10it/s]\u001b[A\n",
      "Validate (4000 / 10 Steps): 100%|████████████████████████████████████████████████████████████████████████████████████████████████████████████████████| 8/8 [00:00<00:00,  8.18it/s]\u001b[A\n",
      "Training (4001 / 10000 Steps) (loss=0.92680):   6%|██████                                                                                           | 2/32 [00:03<00:41,  1.38s/it]"
     ]
    },
    {
     "name": "stdout",
     "output_type": "stream",
     "text": [
      "Model Was Saved ! Current Best Avg. Dice: 0.8413541316986084 Current Avg. Dice: 0.8413541316986084\n"
     ]
    },
    {
     "name": "stderr",
     "output_type": "stream",
     "text": [
      "Training (4031 / 10000 Steps) (loss=0.93182): 100%|████████████████████████████████████████████████████████████████████████████████████████████████| 32/32 [00:07<00:00,  4.05it/s]\n",
      "Training (4063 / 10000 Steps) (loss=0.93258): 100%|████████████████████████████████████████████████████████████████████████████████████████████████| 32/32 [00:05<00:00,  5.59it/s]\n",
      "Training (4095 / 10000 Steps) (loss=0.92997): 100%|████████████████████████████████████████████████████████████████████████████████████████████████| 32/32 [00:05<00:00,  5.73it/s]\n",
      "Training (4127 / 10000 Steps) (loss=0.92417): 100%|████████████████████████████████████████████████████████████████████████████████████████████████| 32/32 [00:05<00:00,  5.54it/s]\n",
      "Training (4159 / 10000 Steps) (loss=0.92930): 100%|████████████████████████████████████████████████████████████████████████████████████████████████| 32/32 [00:05<00:00,  5.62it/s]\n",
      "Training (4191 / 10000 Steps) (loss=0.91791): 100%|████████████████████████████████████████████████████████████████████████████████████████████████| 32/32 [00:05<00:00,  5.99it/s]\n",
      "Training (4223 / 10000 Steps) (loss=0.92849): 100%|████████████████████████████████████████████████████████████████████████████████████████████████| 32/32 [00:05<00:00,  5.58it/s]\n",
      "Training (4250 / 10000 Steps) (loss=0.92902):  81%|██████████████████████████████████████████████████████████████████████████████                  | 26/32 [00:04<00:00,  6.78it/s]\n",
      "Validate (X / X Steps) (dice=X.X):   0%|                                                                                                                     | 0/8 [00:00<?, ?it/s]\u001b[A\n",
      "Validate (4224 / 10 Steps):   0%|                                                                                                                            | 0/8 [00:00<?, ?it/s]\u001b[A\n",
      "Validate (4224 / 10 Steps):  12%|██████████████▌                                                                                                     | 1/8 [00:00<00:01,  3.58it/s]\u001b[A\n",
      "Validate (4224 / 10 Steps):  12%|██████████████▌                                                                                                     | 1/8 [00:00<00:01,  3.58it/s]\u001b[A\n",
      "Validate (4224 / 10 Steps):  25%|█████████████████████████████                                                                                       | 2/8 [00:00<00:01,  4.52it/s]\u001b[A\n",
      "Validate (4224 / 10 Steps):  25%|█████████████████████████████                                                                                       | 2/8 [00:00<00:01,  4.52it/s]\u001b[A\n",
      "Validate (4224 / 10 Steps):  25%|█████████████████████████████                                                                                       | 2/8 [00:00<00:01,  4.52it/s]\u001b[A\n",
      "Validate (4224 / 10 Steps):  50%|██████████████████████████████████████████████████████████                                                          | 4/8 [00:00<00:00,  7.29it/s]\u001b[A\n",
      "Validate (4224 / 10 Steps):  50%|██████████████████████████████████████████████████████████                                                          | 4/8 [00:00<00:00,  7.29it/s]\u001b[A\n",
      "Validate (4224 / 10 Steps):  62%|████████████████████████████████████████████████████████████████████████▌                                           | 5/8 [00:00<00:00,  7.90it/s]\u001b[A\n",
      "Validate (4224 / 10 Steps):  62%|████████████████████████████████████████████████████████████████████████▌                                           | 5/8 [00:00<00:00,  7.90it/s]\u001b[A\n",
      "Validate (4224 / 10 Steps):  62%|████████████████████████████████████████████████████████████████████████▌                                           | 5/8 [00:00<00:00,  7.90it/s]\u001b[A\n",
      "Validate (4224 / 10 Steps):  88%|█████████████████████████████████████████████████████████████████████████████████████████████████████▌              | 7/8 [00:00<00:00,  9.27it/s]\u001b[A\n",
      "Validate (4224 / 10 Steps):  88%|█████████████████████████████████████████████████████████████████████████████████████████████████████▌              | 7/8 [00:01<00:00,  9.27it/s]\u001b[A\n",
      "Validate (4224 / 10 Steps): 100%|████████████████████████████████████████████████████████████████████████████████████████████████████████████████████| 8/8 [00:01<00:00,  7.53it/s]\u001b[A\n",
      "Training (4251 / 10000 Steps) (loss=0.91717):  88%|████████████████████████████████████████████████████████████████████████████████████            | 28/32 [00:07<00:02,  1.40it/s]"
     ]
    },
    {
     "name": "stdout",
     "output_type": "stream",
     "text": [
      "Model Was Saved ! Current Best Avg. Dice: 0.8549948930740356 Current Avg. Dice: 0.8549948930740356\n"
     ]
    },
    {
     "name": "stderr",
     "output_type": "stream",
     "text": [
      "Training (4255 / 10000 Steps) (loss=0.92520): 100%|████████████████████████████████████████████████████████████████████████████████████████████████| 32/32 [00:08<00:00,  3.96it/s]\n",
      "Training (4287 / 10000 Steps) (loss=0.91536): 100%|████████████████████████████████████████████████████████████████████████████████████████████████| 32/32 [00:05<00:00,  5.62it/s]\n",
      "Training (4319 / 10000 Steps) (loss=0.92228): 100%|████████████████████████████████████████████████████████████████████████████████████████████████| 32/32 [00:05<00:00,  5.86it/s]\n",
      "Training (4351 / 10000 Steps) (loss=0.91160): 100%|████████████████████████████████████████████████████████████████████████████████████████████████| 32/32 [00:05<00:00,  5.92it/s]\n",
      "Training (4383 / 10000 Steps) (loss=0.91393): 100%|████████████████████████████████████████████████████████████████████████████████████████████████| 32/32 [00:05<00:00,  5.67it/s]\n",
      "Training (4415 / 10000 Steps) (loss=0.91914): 100%|████████████████████████████████████████████████████████████████████████████████████████████████| 32/32 [00:05<00:00,  6.11it/s]\n",
      "Training (4447 / 10000 Steps) (loss=0.91547): 100%|████████████████████████████████████████████████████████████████████████████████████████████████| 32/32 [00:06<00:00,  5.28it/s]\n",
      "Training (4479 / 10000 Steps) (loss=0.91738): 100%|████████████████████████████████████████████████████████████████████████████████████████████████| 32/32 [00:05<00:00,  5.80it/s]\n",
      "Training (4500 / 10000 Steps) (loss=0.91331):  62%|████████████████████████████████████████████████████████████                                    | 20/32 [00:03<00:02,  5.78it/s]\n",
      "Validate (X / X Steps) (dice=X.X):   0%|                                                                                                                     | 0/8 [00:00<?, ?it/s]\u001b[A\n",
      "Validate (4480 / 10 Steps):   0%|                                                                                                                            | 0/8 [00:00<?, ?it/s]\u001b[A\n",
      "Validate (4480 / 10 Steps):  12%|██████████████▌                                                                                                     | 1/8 [00:00<00:01,  4.02it/s]\u001b[A\n",
      "Validate (4480 / 10 Steps):  12%|██████████████▌                                                                                                     | 1/8 [00:00<00:01,  4.02it/s]\u001b[A\n",
      "Validate (4480 / 10 Steps):  25%|█████████████████████████████                                                                                       | 2/8 [00:00<00:00,  6.11it/s]\u001b[A\n",
      "Validate (4480 / 10 Steps):  25%|█████████████████████████████                                                                                       | 2/8 [00:00<00:00,  6.11it/s]\u001b[A\n",
      "Validate (4480 / 10 Steps):  25%|█████████████████████████████                                                                                       | 2/8 [00:00<00:00,  6.11it/s]\u001b[A\n",
      "Validate (4480 / 10 Steps):  50%|██████████████████████████████████████████████████████████                                                          | 4/8 [00:00<00:00,  8.61it/s]\u001b[A\n",
      "Validate (4480 / 10 Steps):  50%|██████████████████████████████████████████████████████████                                                          | 4/8 [00:00<00:00,  8.61it/s]\u001b[A\n",
      "Validate (4480 / 10 Steps):  62%|████████████████████████████████████████████████████████████████████████▌                                           | 5/8 [00:00<00:00,  8.91it/s]\u001b[A\n",
      "Validate (4480 / 10 Steps):  62%|████████████████████████████████████████████████████████████████████████▌                                           | 5/8 [00:00<00:00,  8.91it/s]\u001b[A\n",
      "Validate (4480 / 10 Steps):  62%|████████████████████████████████████████████████████████████████████████▌                                           | 5/8 [00:00<00:00,  8.91it/s]\u001b[A\n",
      "Validate (4480 / 10 Steps):  88%|█████████████████████████████████████████████████████████████████████████████████████████████████████▌              | 7/8 [00:00<00:00,  9.98it/s]\u001b[A\n",
      "Validate (4480 / 10 Steps): 100%|████████████████████████████████████████████████████████████████████████████████████████████████████████████████████| 8/8 [00:00<00:00,  8.29it/s]\u001b[A\n",
      "Training (4501 / 10000 Steps) (loss=0.91345):  69%|██████████████████████████████████████████████████████████████████                              | 22/32 [00:04<00:03,  2.76it/s]"
     ]
    },
    {
     "name": "stdout",
     "output_type": "stream",
     "text": [
      "Model Was Not Saved ! Current Best Avg. Dice: 0.8549948930740356 Current Avg. Dice: 0.8522905707359314\n"
     ]
    },
    {
     "name": "stderr",
     "output_type": "stream",
     "text": [
      "Training (4511 / 10000 Steps) (loss=0.90373): 100%|████████████████████████████████████████████████████████████████████████████████████████████████| 32/32 [00:06<00:00,  4.81it/s]\n",
      "Training (4543 / 10000 Steps) (loss=0.92139): 100%|████████████████████████████████████████████████████████████████████████████████████████████████| 32/32 [00:05<00:00,  5.62it/s]\n",
      "Training (4575 / 10000 Steps) (loss=0.90940): 100%|████████████████████████████████████████████████████████████████████████████████████████████████| 32/32 [00:05<00:00,  5.81it/s]\n",
      "Training (4607 / 10000 Steps) (loss=0.91037): 100%|████████████████████████████████████████████████████████████████████████████████████████████████| 32/32 [00:05<00:00,  6.23it/s]\n",
      "Training (4639 / 10000 Steps) (loss=0.90530): 100%|████████████████████████████████████████████████████████████████████████████████████████████████| 32/32 [00:05<00:00,  6.31it/s]\n",
      "Training (4671 / 10000 Steps) (loss=0.90594): 100%|████████████████████████████████████████████████████████████████████████████████████████████████| 32/32 [00:05<00:00,  6.33it/s]\n",
      "Training (4703 / 10000 Steps) (loss=0.90527): 100%|████████████████████████████████████████████████████████████████████████████████████████████████| 32/32 [00:05<00:00,  5.73it/s]\n",
      "Training (4735 / 10000 Steps) (loss=0.90754): 100%|████████████████████████████████████████████████████████████████████████████████████████████████| 32/32 [00:05<00:00,  5.64it/s]\n",
      "Training (4750 / 10000 Steps) (loss=0.90865):  44%|██████████████████████████████████████████                                                      | 14/32 [00:02<00:03,  5.89it/s]\n",
      "Validate (X / X Steps) (dice=X.X):   0%|                                                                                                                     | 0/8 [00:00<?, ?it/s]\u001b[A\n",
      "Validate (4736 / 10 Steps):   0%|                                                                                                                            | 0/8 [00:00<?, ?it/s]\u001b[A\n",
      "Validate (4736 / 10 Steps):  12%|██████████████▌                                                                                                     | 1/8 [00:00<00:01,  4.01it/s]\u001b[A\n",
      "Validate (4736 / 10 Steps):  12%|██████████████▌                                                                                                     | 1/8 [00:00<00:01,  4.01it/s]\u001b[A\n",
      "Validate (4736 / 10 Steps):  25%|█████████████████████████████                                                                                       | 2/8 [00:00<00:00,  6.11it/s]\u001b[A\n",
      "Validate (4736 / 10 Steps):  25%|█████████████████████████████                                                                                       | 2/8 [00:00<00:00,  6.11it/s]\u001b[A\n",
      "Validate (4736 / 10 Steps):  25%|█████████████████████████████                                                                                       | 2/8 [00:00<00:00,  6.11it/s]\u001b[A\n",
      "Validate (4736 / 10 Steps):  50%|██████████████████████████████████████████████████████████                                                          | 4/8 [00:00<00:00,  8.65it/s]\u001b[A\n",
      "Validate (4736 / 10 Steps):  50%|██████████████████████████████████████████████████████████                                                          | 4/8 [00:00<00:00,  8.65it/s]\u001b[A\n",
      "Validate (4736 / 10 Steps):  62%|████████████████████████████████████████████████████████████████████████▌                                           | 5/8 [00:00<00:00,  8.96it/s]\u001b[A\n",
      "Validate (4736 / 10 Steps):  62%|████████████████████████████████████████████████████████████████████████▌                                           | 5/8 [00:00<00:00,  8.96it/s]\u001b[A\n",
      "Validate (4736 / 10 Steps):  62%|████████████████████████████████████████████████████████████████████████▌                                           | 5/8 [00:00<00:00,  8.96it/s]\u001b[A\n",
      "Validate (4736 / 10 Steps):  88%|█████████████████████████████████████████████████████████████████████████████████████████████████████▌              | 7/8 [00:00<00:00, 10.01it/s]\u001b[A\n",
      "Validate (4736 / 10 Steps): 100%|████████████████████████████████████████████████████████████████████████████████████████████████████████████████████| 8/8 [00:00<00:00,  8.07it/s]\u001b[A\n",
      "Training (4751 / 10000 Steps) (loss=0.90028):  50%|████████████████████████████████████████████████                                                | 16/32 [00:05<00:11,  1.40it/s]"
     ]
    },
    {
     "name": "stdout",
     "output_type": "stream",
     "text": [
      "Model Was Saved ! Current Best Avg. Dice: 0.8640553951263428 Current Avg. Dice: 0.8640553951263428\n"
     ]
    },
    {
     "name": "stderr",
     "output_type": "stream",
     "text": [
      "Training (4767 / 10000 Steps) (loss=0.90209): 100%|████████████████████████████████████████████████████████████████████████████████████████████████| 32/32 [00:08<00:00,  3.75it/s]\n",
      "Training (4799 / 10000 Steps) (loss=0.89650): 100%|████████████████████████████████████████████████████████████████████████████████████████████████| 32/32 [00:05<00:00,  5.59it/s]\n",
      "Training (4831 / 10000 Steps) (loss=0.91135): 100%|████████████████████████████████████████████████████████████████████████████████████████████████| 32/32 [00:05<00:00,  5.82it/s]\n",
      "Training (4863 / 10000 Steps) (loss=0.89987): 100%|████████████████████████████████████████████████████████████████████████████████████████████████| 32/32 [00:05<00:00,  5.54it/s]\n",
      "Training (4895 / 10000 Steps) (loss=0.89930): 100%|████████████████████████████████████████████████████████████████████████████████████████████████| 32/32 [00:05<00:00,  5.85it/s]\n",
      "Training (4927 / 10000 Steps) (loss=0.90626): 100%|████████████████████████████████████████████████████████████████████████████████████████████████| 32/32 [00:05<00:00,  5.46it/s]\n",
      "Training (4959 / 10000 Steps) (loss=0.90059): 100%|████████████████████████████████████████████████████████████████████████████████████████████████| 32/32 [00:05<00:00,  5.61it/s]\n",
      "Training (4991 / 10000 Steps) (loss=0.89369): 100%|████████████████████████████████████████████████████████████████████████████████████████████████| 32/32 [00:05<00:00,  5.86it/s]\n",
      "Training (5000 / 10000 Steps) (loss=0.89379):  25%|████████████████████████▎                                                                        | 8/32 [00:01<00:03,  6.37it/s]\n",
      "Validate (X / X Steps) (dice=X.X):   0%|                                                                                                                     | 0/8 [00:00<?, ?it/s]\u001b[A\n",
      "Validate (4992 / 10 Steps):   0%|                                                                                                                            | 0/8 [00:00<?, ?it/s]\u001b[A\n",
      "Validate (4992 / 10 Steps):  12%|██████████████▌                                                                                                     | 1/8 [00:00<00:02,  2.96it/s]\u001b[A\n",
      "Validate (4992 / 10 Steps):  12%|██████████████▌                                                                                                     | 1/8 [00:00<00:02,  2.96it/s]\u001b[A\n",
      "Validate (4992 / 10 Steps):  25%|█████████████████████████████                                                                                       | 2/8 [00:00<00:01,  3.53it/s]\u001b[A\n",
      "Validate (4992 / 10 Steps):  25%|█████████████████████████████                                                                                       | 2/8 [00:00<00:01,  3.53it/s]\u001b[A\n",
      "Validate (4992 / 10 Steps):  38%|███████████████████████████████████████████▌                                                                        | 3/8 [00:00<00:01,  4.58it/s]\u001b[A\n",
      "Validate (4992 / 10 Steps):  38%|███████████████████████████████████████████▌                                                                        | 3/8 [00:00<00:01,  4.58it/s]\u001b[A\n",
      "Validate (4992 / 10 Steps):  50%|██████████████████████████████████████████████████████████                                                          | 4/8 [00:00<00:00,  5.76it/s]\u001b[A\n",
      "Validate (4992 / 10 Steps):  50%|██████████████████████████████████████████████████████████                                                          | 4/8 [00:00<00:00,  5.76it/s]\u001b[A\n",
      "Validate (4992 / 10 Steps):  62%|████████████████████████████████████████████████████████████████████████▌                                           | 5/8 [00:00<00:00,  6.75it/s]\u001b[A\n",
      "Validate (4992 / 10 Steps):  62%|████████████████████████████████████████████████████████████████████████▌                                           | 5/8 [00:01<00:00,  6.75it/s]\u001b[A\n",
      "Validate (4992 / 10 Steps):  62%|████████████████████████████████████████████████████████████████████████▌                                           | 5/8 [00:01<00:00,  6.75it/s]\u001b[A\n",
      "Validate (4992 / 10 Steps):  88%|█████████████████████████████████████████████████████████████████████████████████████████████████████▌              | 7/8 [00:01<00:00,  8.54it/s]\u001b[A\n",
      "Validate (4992 / 10 Steps):  88%|█████████████████████████████████████████████████████████████████████████████████████████████████████▌              | 7/8 [00:01<00:00,  8.54it/s]\u001b[A\n",
      "Validate (4992 / 10 Steps): 100%|████████████████████████████████████████████████████████████████████████████████████████████████████████████████████| 8/8 [00:01<00:00,  6.26it/s]\u001b[A\n",
      "Training (5000 / 10000 Steps) (loss=0.89379):  28%|███████████████████████████▎                                                                     | 9/32 [00:04<00:24,  1.07s/it]"
     ]
    },
    {
     "name": "stdout",
     "output_type": "stream",
     "text": [
      "Model Was Saved ! Current Best Avg. Dice: 0.8676565289497375 Current Avg. Dice: 0.8676565289497375\n"
     ]
    },
    {
     "name": "stderr",
     "output_type": "stream",
     "text": [
      "Training (5023 / 10000 Steps) (loss=0.89469): 100%|████████████████████████████████████████████████████████████████████████████████████████████████| 32/32 [00:08<00:00,  3.84it/s]\n",
      "Training (5055 / 10000 Steps) (loss=0.89450): 100%|████████████████████████████████████████████████████████████████████████████████████████████████| 32/32 [00:05<00:00,  6.01it/s]\n",
      "Training (5087 / 10000 Steps) (loss=0.89594): 100%|████████████████████████████████████████████████████████████████████████████████████████████████| 32/32 [00:05<00:00,  5.59it/s]\n",
      "Training (5119 / 10000 Steps) (loss=0.90358): 100%|████████████████████████████████████████████████████████████████████████████████████████████████| 32/32 [00:05<00:00,  5.83it/s]\n",
      "Training (5151 / 10000 Steps) (loss=0.89690): 100%|████████████████████████████████████████████████████████████████████████████████████████████████| 32/32 [00:05<00:00,  5.91it/s]\n",
      "Training (5183 / 10000 Steps) (loss=0.89516): 100%|████████████████████████████████████████████████████████████████████████████████████████████████| 32/32 [00:05<00:00,  5.72it/s]\n",
      "Training (5215 / 10000 Steps) (loss=0.88968): 100%|████████████████████████████████████████████████████████████████████████████████████████████████| 32/32 [00:05<00:00,  6.02it/s]\n",
      "Training (5247 / 10000 Steps) (loss=0.88945): 100%|████████████████████████████████████████████████████████████████████████████████████████████████| 32/32 [00:05<00:00,  5.37it/s]\n",
      "Training (5250 / 10000 Steps) (loss=0.88978):   6%|██████                                                                                           | 2/32 [00:00<00:09,  3.21it/s]\n",
      "Validate (X / X Steps) (dice=X.X):   0%|                                                                                                                     | 0/8 [00:00<?, ?it/s]\u001b[A\n",
      "Validate (5248 / 10 Steps):   0%|                                                                                                                            | 0/8 [00:00<?, ?it/s]\u001b[A\n",
      "Validate (5248 / 10 Steps):  12%|██████████████▌                                                                                                     | 1/8 [00:00<00:02,  3.02it/s]\u001b[A\n",
      "Validate (5248 / 10 Steps):  12%|██████████████▌                                                                                                     | 1/8 [00:00<00:02,  3.02it/s]\u001b[A\n",
      "Validate (5248 / 10 Steps):  25%|█████████████████████████████                                                                                       | 2/8 [00:00<00:01,  5.07it/s]\u001b[A\n",
      "Validate (5248 / 10 Steps):  25%|█████████████████████████████                                                                                       | 2/8 [00:00<00:01,  5.07it/s]\u001b[A\n",
      "Validate (5248 / 10 Steps):  25%|█████████████████████████████                                                                                       | 2/8 [00:00<00:01,  5.07it/s]\u001b[A\n",
      "Validate (5248 / 10 Steps):  50%|██████████████████████████████████████████████████████████                                                          | 4/8 [00:00<00:00,  7.77it/s]\u001b[A\n",
      "Validate (5248 / 10 Steps):  50%|██████████████████████████████████████████████████████████                                                          | 4/8 [00:00<00:00,  7.77it/s]\u001b[A\n",
      "Validate (5248 / 10 Steps):  62%|████████████████████████████████████████████████████████████████████████▌                                           | 5/8 [00:00<00:00,  8.27it/s]\u001b[A\n",
      "Validate (5248 / 10 Steps):  62%|████████████████████████████████████████████████████████████████████████▌                                           | 5/8 [00:00<00:00,  8.27it/s]\u001b[A\n",
      "Validate (5248 / 10 Steps):  62%|████████████████████████████████████████████████████████████████████████▌                                           | 5/8 [00:00<00:00,  8.27it/s]\u001b[A\n",
      "Validate (5248 / 10 Steps):  88%|█████████████████████████████████████████████████████████████████████████████████████████████████████▌              | 7/8 [00:00<00:00,  9.53it/s]\u001b[A\n",
      "Validate (5248 / 10 Steps): 100%|████████████████████████████████████████████████████████████████████████████████████████████████████████████████████| 8/8 [00:01<00:00,  7.19it/s]\u001b[A\n",
      "Training (5251 / 10000 Steps) (loss=0.88352):  12%|████████████▏                                                                                    | 4/32 [00:02<00:14,  1.94it/s]"
     ]
    },
    {
     "name": "stdout",
     "output_type": "stream",
     "text": [
      "Model Was Not Saved ! Current Best Avg. Dice: 0.8676565289497375 Current Avg. Dice: 0.8629140853881836\n"
     ]
    },
    {
     "name": "stderr",
     "output_type": "stream",
     "text": [
      "Training (5279 / 10000 Steps) (loss=0.89187): 100%|████████████████████████████████████████████████████████████████████████████████████████████████| 32/32 [00:06<00:00,  5.04it/s]\n",
      "Training (5311 / 10000 Steps) (loss=0.89254): 100%|████████████████████████████████████████████████████████████████████████████████████████████████| 32/32 [00:05<00:00,  5.53it/s]\n",
      "Training (5343 / 10000 Steps) (loss=0.88783): 100%|████████████████████████████████████████████████████████████████████████████████████████████████| 32/32 [00:05<00:00,  5.69it/s]\n",
      "Training (5375 / 10000 Steps) (loss=0.88321): 100%|████████████████████████████████████████████████████████████████████████████████████████████████| 32/32 [00:05<00:00,  5.78it/s]\n",
      "Training (5407 / 10000 Steps) (loss=0.88949): 100%|████████████████████████████████████████████████████████████████████████████████████████████████| 32/32 [00:05<00:00,  5.47it/s]\n",
      "Training (5439 / 10000 Steps) (loss=0.89272): 100%|████████████████████████████████████████████████████████████████████████████████████████████████| 32/32 [00:05<00:00,  6.00it/s]\n",
      "Training (5471 / 10000 Steps) (loss=0.88852): 100%|████████████████████████████████████████████████████████████████████████████████████████████████| 32/32 [00:05<00:00,  5.55it/s]\n",
      "Training (5500 / 10000 Steps) (loss=0.89650):  88%|████████████████████████████████████████████████████████████████████████████████████            | 28/32 [00:05<00:00,  6.71it/s]\n",
      "Validate (X / X Steps) (dice=X.X):   0%|                                                                                                                     | 0/8 [00:00<?, ?it/s]\u001b[A\n",
      "Validate (5472 / 10 Steps):   0%|                                                                                                                            | 0/8 [00:00<?, ?it/s]\u001b[A\n",
      "Validate (5472 / 10 Steps):  12%|██████████████▌                                                                                                     | 1/8 [00:00<00:02,  3.47it/s]\u001b[A\n",
      "Validate (5472 / 10 Steps):  12%|██████████████▌                                                                                                     | 1/8 [00:00<00:02,  3.47it/s]\u001b[A\n",
      "Validate (5472 / 10 Steps):  25%|█████████████████████████████                                                                                       | 2/8 [00:00<00:01,  5.55it/s]\u001b[A\n",
      "Validate (5472 / 10 Steps):  25%|█████████████████████████████                                                                                       | 2/8 [00:00<00:01,  5.55it/s]\u001b[A\n",
      "Validate (5472 / 10 Steps):  25%|█████████████████████████████                                                                                       | 2/8 [00:00<00:01,  5.55it/s]\u001b[A\n",
      "Validate (5472 / 10 Steps):  50%|██████████████████████████████████████████████████████████                                                          | 4/8 [00:00<00:00,  8.20it/s]\u001b[A\n",
      "Validate (5472 / 10 Steps):  50%|██████████████████████████████████████████████████████████                                                          | 4/8 [00:00<00:00,  8.20it/s]\u001b[A\n",
      "Validate (5472 / 10 Steps):  62%|████████████████████████████████████████████████████████████████████████▌                                           | 5/8 [00:00<00:00,  8.63it/s]\u001b[A\n",
      "Validate (5472 / 10 Steps):  62%|████████████████████████████████████████████████████████████████████████▌                                           | 5/8 [00:00<00:00,  8.63it/s]\u001b[A\n",
      "Validate (5472 / 10 Steps):  62%|████████████████████████████████████████████████████████████████████████▌                                           | 5/8 [00:00<00:00,  8.63it/s]\u001b[A\n",
      "Validate (5472 / 10 Steps):  88%|█████████████████████████████████████████████████████████████████████████████████████████████████████▌              | 7/8 [00:00<00:00,  9.81it/s]\u001b[A\n",
      "Validate (5472 / 10 Steps): 100%|████████████████████████████████████████████████████████████████████████████████████████████████████████████████████| 8/8 [00:01<00:00,  7.90it/s]\u001b[A\n",
      "Training (5501 / 10000 Steps) (loss=0.89085):  94%|██████████████████████████████████████████████████████████████████████████████████████████      | 30/32 [00:07<00:01,  1.41it/s]"
     ]
    },
    {
     "name": "stdout",
     "output_type": "stream",
     "text": [
      "Model Was Saved ! Current Best Avg. Dice: 0.8859876394271851 Current Avg. Dice: 0.8859876394271851\n"
     ]
    },
    {
     "name": "stderr",
     "output_type": "stream",
     "text": [
      "Training (5503 / 10000 Steps) (loss=0.88845): 100%|████████████████████████████████████████████████████████████████████████████████████████████████| 32/32 [00:08<00:00,  3.84it/s]\n",
      "Training (5535 / 10000 Steps) (loss=0.88395): 100%|████████████████████████████████████████████████████████████████████████████████████████████████| 32/32 [00:05<00:00,  5.56it/s]\n",
      "Training (5567 / 10000 Steps) (loss=0.89263): 100%|████████████████████████████████████████████████████████████████████████████████████████████████| 32/32 [00:05<00:00,  5.71it/s]\n",
      "Training (5599 / 10000 Steps) (loss=0.88714): 100%|████████████████████████████████████████████████████████████████████████████████████████████████| 32/32 [00:05<00:00,  5.76it/s]\n",
      "Training (5631 / 10000 Steps) (loss=0.88720): 100%|████████████████████████████████████████████████████████████████████████████████████████████████| 32/32 [00:05<00:00,  5.45it/s]\n",
      "Training (5663 / 10000 Steps) (loss=0.89169): 100%|████████████████████████████████████████████████████████████████████████████████████████████████| 32/32 [00:05<00:00,  6.14it/s]\n",
      "Training (5695 / 10000 Steps) (loss=0.88404): 100%|████████████████████████████████████████████████████████████████████████████████████████████████| 32/32 [00:05<00:00,  5.42it/s]\n",
      "Training (5727 / 10000 Steps) (loss=0.88909): 100%|████████████████████████████████████████████████████████████████████████████████████████████████| 32/32 [00:05<00:00,  5.90it/s]\n",
      "Training (5750 / 10000 Steps) (loss=0.88553):  69%|██████████████████████████████████████████████████████████████████                              | 22/32 [00:04<00:02,  4.52it/s]\n",
      "Validate (X / X Steps) (dice=X.X):   0%|                                                                                                                     | 0/8 [00:00<?, ?it/s]\u001b[A\n",
      "Validate (5728 / 10 Steps):   0%|                                                                                                                            | 0/8 [00:00<?, ?it/s]\u001b[A\n",
      "Validate (5728 / 10 Steps):  12%|██████████████▌                                                                                                     | 1/8 [00:00<00:01,  3.90it/s]\u001b[A\n",
      "Validate (5728 / 10 Steps):  12%|██████████████▌                                                                                                     | 1/8 [00:00<00:01,  3.90it/s]\u001b[A\n",
      "Validate (5728 / 10 Steps):  25%|█████████████████████████████                                                                                       | 2/8 [00:00<00:00,  6.01it/s]\u001b[A\n",
      "Validate (5728 / 10 Steps):  25%|█████████████████████████████                                                                                       | 2/8 [00:00<00:00,  6.01it/s]\u001b[A\n",
      "Validate (5728 / 10 Steps):  25%|█████████████████████████████                                                                                       | 2/8 [00:00<00:00,  6.01it/s]\u001b[A\n",
      "Validate (5728 / 10 Steps):  50%|██████████████████████████████████████████████████████████                                                          | 4/8 [00:00<00:00,  8.53it/s]\u001b[A\n",
      "Validate (5728 / 10 Steps):  50%|██████████████████████████████████████████████████████████                                                          | 4/8 [00:00<00:00,  8.53it/s]\u001b[A\n",
      "Validate (5728 / 10 Steps):  62%|████████████████████████████████████████████████████████████████████████▌                                           | 5/8 [00:00<00:00,  8.86it/s]\u001b[A\n",
      "Validate (5728 / 10 Steps):  62%|████████████████████████████████████████████████████████████████████████▌                                           | 5/8 [00:00<00:00,  8.86it/s]\u001b[A\n",
      "Validate (5728 / 10 Steps):  62%|████████████████████████████████████████████████████████████████████████▌                                           | 5/8 [00:00<00:00,  8.86it/s]\u001b[A\n",
      "Validate (5728 / 10 Steps):  88%|█████████████████████████████████████████████████████████████████████████████████████████████████████▌              | 7/8 [00:00<00:00,  9.94it/s]\u001b[A\n",
      "Validate (5728 / 10 Steps): 100%|████████████████████████████████████████████████████████████████████████████████████████████████████████████████████| 8/8 [00:00<00:00,  8.05it/s]\u001b[A\n",
      "Training (5751 / 10000 Steps) (loss=0.88348):  75%|████████████████████████████████████████████████████████████████████████                        | 24/32 [00:05<00:03,  2.54it/s]"
     ]
    },
    {
     "name": "stdout",
     "output_type": "stream",
     "text": [
      "Model Was Not Saved ! Current Best Avg. Dice: 0.8859876394271851 Current Avg. Dice: 0.8817406892776489\n"
     ]
    },
    {
     "name": "stderr",
     "output_type": "stream",
     "text": [
      "Training (5759 / 10000 Steps) (loss=0.88368): 100%|████████████████████████████████████████████████████████████████████████████████████████████████| 32/32 [00:06<00:00,  4.84it/s]\n",
      "Training (5791 / 10000 Steps) (loss=0.87954): 100%|████████████████████████████████████████████████████████████████████████████████████████████████| 32/32 [00:05<00:00,  5.63it/s]\n",
      "Training (5823 / 10000 Steps) (loss=0.88362): 100%|████████████████████████████████████████████████████████████████████████████████████████████████| 32/32 [00:05<00:00,  5.80it/s]\n",
      "Training (5855 / 10000 Steps) (loss=0.88198): 100%|████████████████████████████████████████████████████████████████████████████████████████████████| 32/32 [00:05<00:00,  5.56it/s]\n",
      "Training (5887 / 10000 Steps) (loss=0.87791): 100%|████████████████████████████████████████████████████████████████████████████████████████████████| 32/32 [00:05<00:00,  5.88it/s]\n",
      "Training (5919 / 10000 Steps) (loss=0.88279): 100%|████████████████████████████████████████████████████████████████████████████████████████████████| 32/32 [00:05<00:00,  5.58it/s]\n",
      "Training (5951 / 10000 Steps) (loss=0.88180): 100%|████████████████████████████████████████████████████████████████████████████████████████████████| 32/32 [00:05<00:00,  5.64it/s]\n",
      "Training (5983 / 10000 Steps) (loss=0.88796): 100%|████████████████████████████████████████████████████████████████████████████████████████████████| 32/32 [00:05<00:00,  6.06it/s]\n",
      "Training (6000 / 10000 Steps) (loss=0.88474):  50%|████████████████████████████████████████████████                                                | 16/32 [00:03<00:03,  4.52it/s]\n",
      "Validate (X / X Steps) (dice=X.X):   0%|                                                                                                                     | 0/8 [00:00<?, ?it/s]\u001b[A\n",
      "Validate (5984 / 10 Steps):   0%|                                                                                                                            | 0/8 [00:00<?, ?it/s]\u001b[A\n",
      "Validate (5984 / 10 Steps):  12%|██████████████▌                                                                                                     | 1/8 [00:00<00:01,  3.55it/s]\u001b[A\n",
      "Validate (5984 / 10 Steps):  12%|██████████████▌                                                                                                     | 1/8 [00:00<00:01,  3.55it/s]\u001b[A\n",
      "Validate (5984 / 10 Steps):  25%|█████████████████████████████                                                                                       | 2/8 [00:00<00:01,  5.63it/s]\u001b[A\n",
      "Validate (5984 / 10 Steps):  25%|█████████████████████████████                                                                                       | 2/8 [00:00<00:01,  5.63it/s]\u001b[A\n",
      "Validate (5984 / 10 Steps):  25%|█████████████████████████████                                                                                       | 2/8 [00:00<00:01,  5.63it/s]\u001b[A\n",
      "Validate (5984 / 10 Steps):  50%|██████████████████████████████████████████████████████████                                                          | 4/8 [00:00<00:00,  8.22it/s]\u001b[A\n",
      "Validate (5984 / 10 Steps):  50%|██████████████████████████████████████████████████████████                                                          | 4/8 [00:00<00:00,  8.22it/s]\u001b[A\n",
      "Validate (5984 / 10 Steps):  62%|████████████████████████████████████████████████████████████████████████▌                                           | 5/8 [00:00<00:00,  8.62it/s]\u001b[A\n",
      "Validate (5984 / 10 Steps):  62%|████████████████████████████████████████████████████████████████████████▌                                           | 5/8 [00:00<00:00,  8.62it/s]\u001b[A\n",
      "Validate (5984 / 10 Steps):  62%|████████████████████████████████████████████████████████████████████████▌                                           | 5/8 [00:00<00:00,  8.62it/s]\u001b[A\n",
      "Validate (5984 / 10 Steps):  88%|█████████████████████████████████████████████████████████████████████████████████████████████████████▌              | 7/8 [00:00<00:00,  9.77it/s]\u001b[A\n",
      "Validate (5984 / 10 Steps): 100%|████████████████████████████████████████████████████████████████████████████████████████████████████████████████████| 8/8 [00:01<00:00,  7.85it/s]\u001b[A\n",
      "Training (6001 / 10000 Steps) (loss=0.88408):  56%|██████████████████████████████████████████████████████                                          | 18/32 [00:04<00:05,  2.51it/s]"
     ]
    },
    {
     "name": "stdout",
     "output_type": "stream",
     "text": [
      "Model Was Not Saved ! Current Best Avg. Dice: 0.8859876394271851 Current Avg. Dice: 0.8562471866607666\n"
     ]
    },
    {
     "name": "stderr",
     "output_type": "stream",
     "text": [
      "Training (6015 / 10000 Steps) (loss=0.87998): 100%|████████████████████████████████████████████████████████████████████████████████████████████████| 32/32 [00:06<00:00,  4.75it/s]\n",
      "Training (6047 / 10000 Steps) (loss=0.88589): 100%|████████████████████████████████████████████████████████████████████████████████████████████████| 32/32 [00:05<00:00,  5.88it/s]\n",
      "Training (6079 / 10000 Steps) (loss=0.87670): 100%|████████████████████████████████████████████████████████████████████████████████████████████████| 32/32 [00:05<00:00,  5.57it/s]\n",
      "Training (6111 / 10000 Steps) (loss=0.88078): 100%|████████████████████████████████████████████████████████████████████████████████████████████████| 32/32 [00:05<00:00,  5.70it/s]\n",
      "Training (6143 / 10000 Steps) (loss=0.88276): 100%|████████████████████████████████████████████████████████████████████████████████████████████████| 32/32 [00:05<00:00,  5.72it/s]\n",
      "Training (6175 / 10000 Steps) (loss=0.88518): 100%|████████████████████████████████████████████████████████████████████████████████████████████████| 32/32 [00:05<00:00,  5.55it/s]\n",
      "Training (6207 / 10000 Steps) (loss=0.88304): 100%|████████████████████████████████████████████████████████████████████████████████████████████████| 32/32 [00:05<00:00,  5.85it/s]\n",
      "Training (6239 / 10000 Steps) (loss=0.87973): 100%|████████████████████████████████████████████████████████████████████████████████████████████████| 32/32 [00:05<00:00,  5.55it/s]\n",
      "Training (6250 / 10000 Steps) (loss=0.88078):  31%|██████████████████████████████                                                                  | 10/32 [00:02<00:04,  5.26it/s]\n",
      "Validate (X / X Steps) (dice=X.X):   0%|                                                                                                                     | 0/8 [00:00<?, ?it/s]\u001b[A\n",
      "Validate (6240 / 10 Steps):   0%|                                                                                                                            | 0/8 [00:00<?, ?it/s]\u001b[A\n",
      "Validate (6240 / 10 Steps):  12%|██████████████▌                                                                                                     | 1/8 [00:00<00:01,  3.93it/s]\u001b[A\n",
      "Validate (6240 / 10 Steps):  12%|██████████████▌                                                                                                     | 1/8 [00:00<00:01,  3.93it/s]\u001b[A\n",
      "Validate (6240 / 10 Steps):  25%|█████████████████████████████                                                                                       | 2/8 [00:00<00:00,  6.02it/s]\u001b[A\n",
      "Validate (6240 / 10 Steps):  25%|█████████████████████████████                                                                                       | 2/8 [00:00<00:00,  6.02it/s]\u001b[A\n",
      "Validate (6240 / 10 Steps):  25%|█████████████████████████████                                                                                       | 2/8 [00:00<00:00,  6.02it/s]\u001b[A\n",
      "Validate (6240 / 10 Steps):  50%|██████████████████████████████████████████████████████████                                                          | 4/8 [00:00<00:00,  8.56it/s]\u001b[A\n",
      "Validate (6240 / 10 Steps):  50%|██████████████████████████████████████████████████████████                                                          | 4/8 [00:00<00:00,  8.56it/s]\u001b[A\n",
      "Validate (6240 / 10 Steps):  62%|████████████████████████████████████████████████████████████████████████▌                                           | 5/8 [00:00<00:00,  8.89it/s]\u001b[A\n",
      "Validate (6240 / 10 Steps):  62%|████████████████████████████████████████████████████████████████████████▌                                           | 5/8 [00:00<00:00,  8.89it/s]\u001b[A\n",
      "Validate (6240 / 10 Steps):  75%|███████████████████████████████████████████████████████████████████████████████████████                             | 6/8 [00:00<00:00,  8.23it/s]\u001b[A\n",
      "Validate (6240 / 10 Steps):  75%|███████████████████████████████████████████████████████████████████████████████████████                             | 6/8 [00:00<00:00,  8.23it/s]\u001b[A\n",
      "Validate (6240 / 10 Steps):  88%|█████████████████████████████████████████████████████████████████████████████████████████████████████▌              | 7/8 [00:00<00:00,  8.63it/s]\u001b[A\n",
      "Validate (6240 / 10 Steps):  88%|█████████████████████████████████████████████████████████████████████████████████████████████████████▌              | 7/8 [00:00<00:00,  8.63it/s]\u001b[A\n",
      "Validate (6240 / 10 Steps): 100%|████████████████████████████████████████████████████████████████████████████████████████████████████████████████████| 8/8 [00:01<00:00,  7.50it/s]\u001b[A\n",
      "Training (6251 / 10000 Steps) (loss=0.88164):  38%|████████████████████████████████████                                                            | 12/32 [00:03<00:07,  2.53it/s]"
     ]
    },
    {
     "name": "stdout",
     "output_type": "stream",
     "text": [
      "Model Was Not Saved ! Current Best Avg. Dice: 0.8859876394271851 Current Avg. Dice: 0.8811722993850708\n"
     ]
    },
    {
     "name": "stderr",
     "output_type": "stream",
     "text": [
      "Training (6271 / 10000 Steps) (loss=0.88045): 100%|████████████████████████████████████████████████████████████████████████████████████████████████| 32/32 [00:06<00:00,  4.83it/s]\n",
      "Training (6303 / 10000 Steps) (loss=0.87620): 100%|████████████████████████████████████████████████████████████████████████████████████████████████| 32/32 [00:05<00:00,  5.58it/s]\n",
      "Training (6335 / 10000 Steps) (loss=0.87627): 100%|████████████████████████████████████████████████████████████████████████████████████████████████| 32/32 [00:05<00:00,  5.67it/s]\n",
      "Training (6367 / 10000 Steps) (loss=0.87570): 100%|████████████████████████████████████████████████████████████████████████████████████████████████| 32/32 [00:05<00:00,  6.12it/s]\n",
      "Training (6399 / 10000 Steps) (loss=0.87987): 100%|████████████████████████████████████████████████████████████████████████████████████████████████| 32/32 [00:05<00:00,  5.35it/s]\n",
      "Training (6431 / 10000 Steps) (loss=0.87512): 100%|████████████████████████████████████████████████████████████████████████████████████████████████| 32/32 [00:05<00:00,  5.84it/s]\n",
      "Training (6463 / 10000 Steps) (loss=0.87881): 100%|████████████████████████████████████████████████████████████████████████████████████████████████| 32/32 [00:05<00:00,  5.61it/s]\n",
      "Training (6495 / 10000 Steps) (loss=0.87415): 100%|████████████████████████████████████████████████████████████████████████████████████████████████| 32/32 [00:05<00:00,  5.61it/s]\n",
      "Training (6500 / 10000 Steps) (loss=0.87811):  12%|████████████▏                                                                                    | 4/32 [00:01<00:05,  5.24it/s]\n",
      "Validate (X / X Steps) (dice=X.X):   0%|                                                                                                                     | 0/8 [00:00<?, ?it/s]\u001b[A\n",
      "Validate (6496 / 10 Steps):   0%|                                                                                                                            | 0/8 [00:00<?, ?it/s]\u001b[A\n",
      "Validate (6496 / 10 Steps):  12%|██████████████▌                                                                                                     | 1/8 [00:00<00:01,  3.98it/s]\u001b[A\n",
      "Validate (6496 / 10 Steps):  12%|██████████████▌                                                                                                     | 1/8 [00:00<00:01,  3.98it/s]\u001b[A\n",
      "Validate (6496 / 10 Steps):  25%|█████████████████████████████                                                                                       | 2/8 [00:00<00:00,  6.05it/s]\u001b[A\n",
      "Validate (6496 / 10 Steps):  25%|█████████████████████████████                                                                                       | 2/8 [00:00<00:00,  6.05it/s]\u001b[A\n",
      "Validate (6496 / 10 Steps):  25%|█████████████████████████████                                                                                       | 2/8 [00:00<00:00,  6.05it/s]\u001b[A\n",
      "Validate (6496 / 10 Steps):  50%|██████████████████████████████████████████████████████████                                                          | 4/8 [00:00<00:00,  8.50it/s]\u001b[A\n",
      "Validate (6496 / 10 Steps):  50%|██████████████████████████████████████████████████████████                                                          | 4/8 [00:00<00:00,  8.50it/s]\u001b[A\n",
      "Validate (6496 / 10 Steps):  62%|████████████████████████████████████████████████████████████████████████▌                                           | 5/8 [00:00<00:00,  8.84it/s]\u001b[A\n",
      "Validate (6496 / 10 Steps):  62%|████████████████████████████████████████████████████████████████████████▌                                           | 5/8 [00:00<00:00,  8.84it/s]\u001b[A\n",
      "Validate (6496 / 10 Steps):  75%|███████████████████████████████████████████████████████████████████████████████████████                             | 6/8 [00:00<00:00,  8.52it/s]\u001b[A\n",
      "Validate (6496 / 10 Steps):  75%|███████████████████████████████████████████████████████████████████████████████████████                             | 6/8 [00:00<00:00,  8.52it/s]\u001b[A\n",
      "Validate (6496 / 10 Steps):  88%|█████████████████████████████████████████████████████████████████████████████████████████████████████▌              | 7/8 [00:00<00:00,  8.49it/s]\u001b[A\n",
      "Validate (6496 / 10 Steps):  88%|█████████████████████████████████████████████████████████████████████████████████████████████████████▌              | 7/8 [00:00<00:00,  8.49it/s]\u001b[A\n",
      "Validate (6496 / 10 Steps): 100%|████████████████████████████████████████████████████████████████████████████████████████████████████████████████████| 8/8 [00:01<00:00,  7.55it/s]\u001b[A\n",
      "Training (6501 / 10000 Steps) (loss=0.87263):  19%|██████████████████▏                                                                              | 6/32 [00:02<00:10,  2.39it/s]"
     ]
    },
    {
     "name": "stdout",
     "output_type": "stream",
     "text": [
      "Model Was Not Saved ! Current Best Avg. Dice: 0.8859876394271851 Current Avg. Dice: 0.8778350353240967\n"
     ]
    },
    {
     "name": "stderr",
     "output_type": "stream",
     "text": [
      "Training (6527 / 10000 Steps) (loss=0.87783): 100%|████████████████████████████████████████████████████████████████████████████████████████████████| 32/32 [00:06<00:00,  4.97it/s]\n",
      "Training (6559 / 10000 Steps) (loss=0.87943): 100%|████████████████████████████████████████████████████████████████████████████████████████████████| 32/32 [00:05<00:00,  5.59it/s]\n",
      "Training (6591 / 10000 Steps) (loss=0.87513): 100%|████████████████████████████████████████████████████████████████████████████████████████████████| 32/32 [00:05<00:00,  5.90it/s]\n",
      "Training (6623 / 10000 Steps) (loss=0.87334): 100%|████████████████████████████████████████████████████████████████████████████████████████████████| 32/32 [00:05<00:00,  5.60it/s]\n",
      "Training (6655 / 10000 Steps) (loss=0.87480): 100%|████████████████████████████████████████████████████████████████████████████████████████████████| 32/32 [00:05<00:00,  5.68it/s]\n",
      "Training (6687 / 10000 Steps) (loss=0.87445): 100%|████████████████████████████████████████████████████████████████████████████████████████████████| 32/32 [00:05<00:00,  5.79it/s]\n",
      "Training (6719 / 10000 Steps) (loss=0.87682): 100%|████████████████████████████████████████████████████████████████████████████████████████████████| 32/32 [00:05<00:00,  5.54it/s]\n",
      "Training (6750 / 10000 Steps) (loss=0.87923):  94%|██████████████████████████████████████████████████████████████████████████████████████████      | 30/32 [00:05<00:00,  6.74it/s]\n",
      "Validate (X / X Steps) (dice=X.X):   0%|                                                                                                                     | 0/8 [00:00<?, ?it/s]\u001b[A\n",
      "Validate (6720 / 10 Steps):   0%|                                                                                                                            | 0/8 [00:00<?, ?it/s]\u001b[A\n",
      "Validate (6720 / 10 Steps):  12%|██████████████▌                                                                                                     | 1/8 [00:00<00:01,  3.94it/s]\u001b[A\n",
      "Validate (6720 / 10 Steps):  12%|██████████████▌                                                                                                     | 1/8 [00:00<00:01,  3.94it/s]\u001b[A\n",
      "Validate (6720 / 10 Steps):  25%|█████████████████████████████                                                                                       | 2/8 [00:00<00:00,  6.03it/s]\u001b[A\n",
      "Validate (6720 / 10 Steps):  25%|█████████████████████████████                                                                                       | 2/8 [00:00<00:00,  6.03it/s]\u001b[A\n",
      "Validate (6720 / 10 Steps):  25%|█████████████████████████████                                                                                       | 2/8 [00:00<00:00,  6.03it/s]\u001b[A\n",
      "Validate (6720 / 10 Steps):  50%|██████████████████████████████████████████████████████████                                                          | 4/8 [00:00<00:00,  8.56it/s]\u001b[A\n",
      "Validate (6720 / 10 Steps):  50%|██████████████████████████████████████████████████████████                                                          | 4/8 [00:00<00:00,  8.56it/s]\u001b[A\n",
      "Validate (6720 / 10 Steps):  62%|████████████████████████████████████████████████████████████████████████▌                                           | 5/8 [00:00<00:00,  8.89it/s]\u001b[A\n",
      "Validate (6720 / 10 Steps):  62%|████████████████████████████████████████████████████████████████████████▌                                           | 5/8 [00:00<00:00,  8.89it/s]\u001b[A\n",
      "Validate (6720 / 10 Steps):  62%|████████████████████████████████████████████████████████████████████████▌                                           | 5/8 [00:00<00:00,  8.89it/s]\u001b[A\n",
      "Validate (6720 / 10 Steps):  88%|█████████████████████████████████████████████████████████████████████████████████████████████████████▌              | 7/8 [00:00<00:00,  9.98it/s]\u001b[A\n",
      "Validate (6720 / 10 Steps): 100%|████████████████████████████████████████████████████████████████████████████████████████████████████████████████████| 8/8 [00:00<00:00,  8.35it/s]\u001b[A\n",
      "Training (6751 / 10000 Steps) (loss=0.87458): 100%|████████████████████████████████████████████████████████████████████████████████████████████████| 32/32 [00:07<00:00,  1.44it/s]"
     ]
    },
    {
     "name": "stdout",
     "output_type": "stream",
     "text": [
      "Model Was Saved ! Current Best Avg. Dice: 0.8960341215133667 Current Avg. Dice: 0.8960341215133667\n"
     ]
    },
    {
     "name": "stderr",
     "output_type": "stream",
     "text": [
      "Training (6751 / 10000 Steps) (loss=0.87458): 100%|████████████████████████████████████████████████████████████████████████████████████████████████| 32/32 [00:08<00:00,  3.97it/s]\n",
      "Training (6783 / 10000 Steps) (loss=0.87908): 100%|████████████████████████████████████████████████████████████████████████████████████████████████| 32/32 [00:05<00:00,  5.50it/s]\n",
      "Training (6815 / 10000 Steps) (loss=0.87478): 100%|████████████████████████████████████████████████████████████████████████████████████████████████| 32/32 [00:05<00:00,  5.92it/s]\n",
      "Training (6847 / 10000 Steps) (loss=0.87485): 100%|████████████████████████████████████████████████████████████████████████████████████████████████| 32/32 [00:05<00:00,  5.56it/s]\n",
      "Training (6879 / 10000 Steps) (loss=0.87594): 100%|████████████████████████████████████████████████████████████████████████████████████████████████| 32/32 [00:05<00:00,  5.66it/s]\n",
      "Training (6911 / 10000 Steps) (loss=0.87357): 100%|████████████████████████████████████████████████████████████████████████████████████████████████| 32/32 [00:05<00:00,  5.71it/s]\n",
      "Training (6943 / 10000 Steps) (loss=0.87477): 100%|████████████████████████████████████████████████████████████████████████████████████████████████| 32/32 [00:05<00:00,  5.57it/s]\n",
      "Training (6975 / 10000 Steps) (loss=0.87362): 100%|████████████████████████████████████████████████████████████████████████████████████████████████| 32/32 [00:05<00:00,  5.93it/s]\n",
      "Training (7000 / 10000 Steps) (loss=0.87614):  75%|████████████████████████████████████████████████████████████████████████                        | 24/32 [00:04<00:01,  6.73it/s]\n",
      "Validate (X / X Steps) (dice=X.X):   0%|                                                                                                                     | 0/8 [00:00<?, ?it/s]\u001b[A\n",
      "Validate (6976 / 10 Steps):   0%|                                                                                                                            | 0/8 [00:00<?, ?it/s]\u001b[A\n",
      "Validate (6976 / 10 Steps):  12%|██████████████▌                                                                                                     | 1/8 [00:00<00:02,  2.53it/s]\u001b[A\n",
      "Validate (6976 / 10 Steps):  12%|██████████████▌                                                                                                     | 1/8 [00:00<00:02,  2.53it/s]\u001b[A\n",
      "Validate (6976 / 10 Steps):  25%|█████████████████████████████                                                                                       | 2/8 [00:00<00:01,  4.46it/s]\u001b[A\n",
      "Validate (6976 / 10 Steps):  25%|█████████████████████████████                                                                                       | 2/8 [00:00<00:01,  4.46it/s]\u001b[A\n",
      "Validate (6976 / 10 Steps):  25%|█████████████████████████████                                                                                       | 2/8 [00:00<00:01,  4.46it/s]\u001b[A\n",
      "Validate (6976 / 10 Steps):  50%|██████████████████████████████████████████████████████████                                                          | 4/8 [00:00<00:00,  7.21it/s]\u001b[A\n",
      "Validate (6976 / 10 Steps):  50%|██████████████████████████████████████████████████████████                                                          | 4/8 [00:00<00:00,  7.21it/s]\u001b[A\n",
      "Validate (6976 / 10 Steps):  62%|████████████████████████████████████████████████████████████████████████▌                                           | 5/8 [00:00<00:00,  7.83it/s]\u001b[A\n",
      "Validate (6976 / 10 Steps):  62%|████████████████████████████████████████████████████████████████████████▌                                           | 5/8 [00:00<00:00,  7.83it/s]\u001b[A\n",
      "Validate (6976 / 10 Steps):  62%|████████████████████████████████████████████████████████████████████████▌                                           | 5/8 [00:00<00:00,  7.83it/s]\u001b[A\n",
      "Validate (6976 / 10 Steps):  88%|█████████████████████████████████████████████████████████████████████████████████████████████████████▌              | 7/8 [00:00<00:00,  9.22it/s]\u001b[A\n",
      "Validate (6976 / 10 Steps): 100%|████████████████████████████████████████████████████████████████████████████████████████████████████████████████████| 8/8 [00:01<00:00,  7.14it/s]\u001b[A\n",
      "Training (7001 / 10000 Steps) (loss=0.87661):  81%|██████████████████████████████████████████████████████████████████████████████                  | 26/32 [00:05<00:02,  2.61it/s]"
     ]
    },
    {
     "name": "stdout",
     "output_type": "stream",
     "text": [
      "Model Was Not Saved ! Current Best Avg. Dice: 0.8960341215133667 Current Avg. Dice: 0.8828586339950562\n"
     ]
    },
    {
     "name": "stderr",
     "output_type": "stream",
     "text": [
      "Training (7007 / 10000 Steps) (loss=0.87489): 100%|████████████████████████████████████████████████████████████████████████████████████████████████| 32/32 [00:06<00:00,  4.85it/s]\n",
      "Training (7039 / 10000 Steps) (loss=0.87865): 100%|████████████████████████████████████████████████████████████████████████████████████████████████| 32/32 [00:05<00:00,  5.74it/s]\n",
      "Training (7071 / 10000 Steps) (loss=0.88176): 100%|████████████████████████████████████████████████████████████████████████████████████████████████| 32/32 [00:05<00:00,  5.79it/s]\n",
      "Training (7103 / 10000 Steps) (loss=0.88162): 100%|████████████████████████████████████████████████████████████████████████████████████████████████| 32/32 [00:05<00:00,  5.43it/s]\n",
      "Training (7135 / 10000 Steps) (loss=0.87911): 100%|████████████████████████████████████████████████████████████████████████████████████████████████| 32/32 [00:05<00:00,  6.20it/s]\n",
      "Training (7167 / 10000 Steps) (loss=0.87201): 100%|████████████████████████████████████████████████████████████████████████████████████████████████| 32/32 [00:05<00:00,  5.50it/s]\n",
      "Training (7199 / 10000 Steps) (loss=0.87656): 100%|████████████████████████████████████████████████████████████████████████████████████████████████| 32/32 [00:05<00:00,  5.97it/s]\n",
      "Training (7231 / 10000 Steps) (loss=0.87820): 100%|████████████████████████████████████████████████████████████████████████████████████████████████| 32/32 [00:05<00:00,  5.85it/s]\n",
      "Training (7250 / 10000 Steps) (loss=0.87295):  56%|██████████████████████████████████████████████████████                                          | 18/32 [00:03<00:02,  4.77it/s]\n",
      "Validate (X / X Steps) (dice=X.X):   0%|                                                                                                                     | 0/8 [00:00<?, ?it/s]\u001b[A\n",
      "Validate (7232 / 10 Steps):   0%|                                                                                                                            | 0/8 [00:00<?, ?it/s]\u001b[A\n",
      "Validate (7232 / 10 Steps):  12%|██████████████▌                                                                                                     | 1/8 [00:00<00:01,  4.06it/s]\u001b[A\n",
      "Validate (7232 / 10 Steps):  12%|██████████████▌                                                                                                     | 1/8 [00:00<00:01,  4.06it/s]\u001b[A\n",
      "Validate (7232 / 10 Steps):  25%|█████████████████████████████                                                                                       | 2/8 [00:00<00:00,  6.15it/s]\u001b[A\n",
      "Validate (7232 / 10 Steps):  25%|█████████████████████████████                                                                                       | 2/8 [00:00<00:00,  6.15it/s]\u001b[A\n",
      "Validate (7232 / 10 Steps):  25%|█████████████████████████████                                                                                       | 2/8 [00:00<00:00,  6.15it/s]\u001b[A\n",
      "Validate (7232 / 10 Steps):  50%|██████████████████████████████████████████████████████████                                                          | 4/8 [00:00<00:00,  8.65it/s]\u001b[A\n",
      "Validate (7232 / 10 Steps):  50%|██████████████████████████████████████████████████████████                                                          | 4/8 [00:00<00:00,  8.65it/s]\u001b[A\n",
      "Validate (7232 / 10 Steps):  62%|████████████████████████████████████████████████████████████████████████▌                                           | 5/8 [00:00<00:00,  8.96it/s]\u001b[A\n",
      "Validate (7232 / 10 Steps):  62%|████████████████████████████████████████████████████████████████████████▌                                           | 5/8 [00:00<00:00,  8.96it/s]\u001b[A\n",
      "Validate (7232 / 10 Steps):  62%|████████████████████████████████████████████████████████████████████████▌                                           | 5/8 [00:00<00:00,  8.96it/s]\u001b[A\n",
      "Validate (7232 / 10 Steps):  88%|█████████████████████████████████████████████████████████████████████████████████████████████████████▌              | 7/8 [00:00<00:00, 10.02it/s]\u001b[A\n",
      "Validate (7232 / 10 Steps): 100%|████████████████████████████████████████████████████████████████████████████████████████████████████████████████████| 8/8 [00:00<00:00,  8.26it/s]\u001b[A\n",
      "Training (7251 / 10000 Steps) (loss=0.87208):  62%|████████████████████████████████████████████████████████████                                    | 20/32 [00:04<00:04,  2.62it/s]"
     ]
    },
    {
     "name": "stdout",
     "output_type": "stream",
     "text": [
      "Model Was Not Saved ! Current Best Avg. Dice: 0.8960341215133667 Current Avg. Dice: 0.8870745301246643\n"
     ]
    },
    {
     "name": "stderr",
     "output_type": "stream",
     "text": [
      "Training (7263 / 10000 Steps) (loss=0.87392): 100%|████████████████████████████████████████████████████████████████████████████████████████████████| 32/32 [00:06<00:00,  4.67it/s]\n",
      "Training (7295 / 10000 Steps) (loss=0.87241): 100%|████████████████████████████████████████████████████████████████████████████████████████████████| 32/32 [00:05<00:00,  5.99it/s]\n",
      "Training (7327 / 10000 Steps) (loss=0.87469): 100%|████████████████████████████████████████████████████████████████████████████████████████████████| 32/32 [00:05<00:00,  5.50it/s]\n",
      "Training (7359 / 10000 Steps) (loss=0.87264): 100%|████████████████████████████████████████████████████████████████████████████████████████████████| 32/32 [00:05<00:00,  5.88it/s]\n",
      "Training (7391 / 10000 Steps) (loss=0.87339): 100%|████████████████████████████████████████████████████████████████████████████████████████████████| 32/32 [00:05<00:00,  5.51it/s]\n",
      "Training (7423 / 10000 Steps) (loss=0.87636): 100%|████████████████████████████████████████████████████████████████████████████████████████████████| 32/32 [00:05<00:00,  5.64it/s]\n",
      "Training (7455 / 10000 Steps) (loss=0.87360): 100%|████████████████████████████████████████████████████████████████████████████████████████████████| 32/32 [00:05<00:00,  5.75it/s]\n",
      "Training (7487 / 10000 Steps) (loss=0.88033): 100%|████████████████████████████████████████████████████████████████████████████████████████████████| 32/32 [00:05<00:00,  5.53it/s]\n",
      "Training (7500 / 10000 Steps) (loss=0.87742):  38%|████████████████████████████████████                                                            | 12/32 [00:02<00:03,  6.57it/s]\n",
      "Validate (X / X Steps) (dice=X.X):   0%|                                                                                                                     | 0/8 [00:00<?, ?it/s]\u001b[A\n",
      "Validate (7488 / 10 Steps):   0%|                                                                                                                            | 0/8 [00:00<?, ?it/s]\u001b[A\n",
      "Validate (7488 / 10 Steps):  12%|██████████████▌                                                                                                     | 1/8 [00:00<00:01,  4.40it/s]\u001b[A\n",
      "Validate (7488 / 10 Steps):  12%|██████████████▌                                                                                                     | 1/8 [00:00<00:01,  4.40it/s]\u001b[A\n",
      "Validate (7488 / 10 Steps):  25%|█████████████████████████████                                                                                       | 2/8 [00:00<00:00,  6.43it/s]\u001b[A\n",
      "Validate (7488 / 10 Steps):  25%|█████████████████████████████                                                                                       | 2/8 [00:00<00:00,  6.43it/s]\u001b[A\n",
      "Validate (7488 / 10 Steps):  25%|█████████████████████████████                                                                                       | 2/8 [00:00<00:00,  6.43it/s]\u001b[A\n",
      "Validate (7488 / 10 Steps):  50%|██████████████████████████████████████████████████████████                                                          | 4/8 [00:00<00:00,  8.81it/s]\u001b[A\n",
      "Validate (7488 / 10 Steps):  50%|██████████████████████████████████████████████████████████                                                          | 4/8 [00:00<00:00,  8.81it/s]\u001b[A\n",
      "Validate (7488 / 10 Steps):  62%|████████████████████████████████████████████████████████████████████████▌                                           | 5/8 [00:00<00:00,  9.06it/s]\u001b[A\n",
      "Validate (7488 / 10 Steps):  62%|████████████████████████████████████████████████████████████████████████▌                                           | 5/8 [00:00<00:00,  9.06it/s]\u001b[A\n",
      "Validate (7488 / 10 Steps):  62%|████████████████████████████████████████████████████████████████████████▌                                           | 5/8 [00:00<00:00,  9.06it/s]\u001b[A\n",
      "Validate (7488 / 10 Steps):  88%|█████████████████████████████████████████████████████████████████████████████████████████████████████▌              | 7/8 [00:00<00:00, 10.05it/s]\u001b[A\n",
      "Validate (7488 / 10 Steps): 100%|████████████████████████████████████████████████████████████████████████████████████████████████████████████████████| 8/8 [00:00<00:00,  8.26it/s]\u001b[A\n",
      "Training (7501 / 10000 Steps) (loss=0.87136):  44%|██████████████████████████████████████████                                                      | 14/32 [00:03<00:06,  2.82it/s]"
     ]
    },
    {
     "name": "stdout",
     "output_type": "stream",
     "text": [
      "Model Was Not Saved ! Current Best Avg. Dice: 0.8960341215133667 Current Avg. Dice: 0.8871469497680664\n"
     ]
    },
    {
     "name": "stderr",
     "output_type": "stream",
     "text": [
      "Training (7519 / 10000 Steps) (loss=0.87286): 100%|████████████████████████████████████████████████████████████████████████████████████████████████| 32/32 [00:06<00:00,  4.96it/s]\n",
      "Training (7551 / 10000 Steps) (loss=0.87596): 100%|████████████████████████████████████████████████████████████████████████████████████████████████| 32/32 [00:05<00:00,  5.54it/s]\n",
      "Training (7583 / 10000 Steps) (loss=0.87377): 100%|████████████████████████████████████████████████████████████████████████████████████████████████| 32/32 [00:05<00:00,  5.96it/s]\n",
      "Training (7615 / 10000 Steps) (loss=0.87326): 100%|████████████████████████████████████████████████████████████████████████████████████████████████| 32/32 [00:05<00:00,  5.92it/s]\n",
      "Training (7647 / 10000 Steps) (loss=0.87907): 100%|████████████████████████████████████████████████████████████████████████████████████████████████| 32/32 [00:05<00:00,  5.59it/s]\n",
      "Training (7679 / 10000 Steps) (loss=0.87048): 100%|████████████████████████████████████████████████████████████████████████████████████████████████| 32/32 [00:05<00:00,  6.14it/s]\n",
      "Training (7711 / 10000 Steps) (loss=0.87618): 100%|████████████████████████████████████████████████████████████████████████████████████████████████| 32/32 [00:05<00:00,  5.44it/s]\n",
      "Training (7743 / 10000 Steps) (loss=0.87424): 100%|████████████████████████████████████████████████████████████████████████████████████████████████| 32/32 [00:05<00:00,  6.01it/s]\n",
      "Training (7750 / 10000 Steps) (loss=0.87177):  19%|██████████████████▏                                                                              | 6/32 [00:01<00:04,  5.96it/s]\n",
      "Validate (X / X Steps) (dice=X.X):   0%|                                                                                                                     | 0/8 [00:00<?, ?it/s]\u001b[A\n",
      "Validate (7744 / 10 Steps):   0%|                                                                                                                            | 0/8 [00:00<?, ?it/s]\u001b[A\n",
      "Validate (7744 / 10 Steps):  12%|██████████████▌                                                                                                     | 1/8 [00:00<00:01,  3.79it/s]\u001b[A\n",
      "Validate (7744 / 10 Steps):  12%|██████████████▌                                                                                                     | 1/8 [00:00<00:01,  3.79it/s]\u001b[A\n",
      "Validate (7744 / 10 Steps):  25%|█████████████████████████████                                                                                       | 2/8 [00:00<00:01,  5.88it/s]\u001b[A\n",
      "Validate (7744 / 10 Steps):  25%|█████████████████████████████                                                                                       | 2/8 [00:00<00:01,  5.88it/s]\u001b[A\n",
      "Validate (7744 / 10 Steps):  25%|█████████████████████████████                                                                                       | 2/8 [00:00<00:01,  5.88it/s]\u001b[A\n",
      "Validate (7744 / 10 Steps):  50%|██████████████████████████████████████████████████████████                                                          | 4/8 [00:00<00:00,  8.44it/s]\u001b[A\n",
      "Validate (7744 / 10 Steps):  50%|██████████████████████████████████████████████████████████                                                          | 4/8 [00:00<00:00,  8.44it/s]\u001b[A\n",
      "Validate (7744 / 10 Steps):  62%|████████████████████████████████████████████████████████████████████████▌                                           | 5/8 [00:00<00:00,  8.81it/s]\u001b[A\n",
      "Validate (7744 / 10 Steps):  62%|████████████████████████████████████████████████████████████████████████▌                                           | 5/8 [00:00<00:00,  8.81it/s]\u001b[A\n",
      "Validate (7744 / 10 Steps):  62%|████████████████████████████████████████████████████████████████████████▌                                           | 5/8 [00:00<00:00,  8.81it/s]\u001b[A\n",
      "Validate (7744 / 10 Steps):  88%|█████████████████████████████████████████████████████████████████████████████████████████████████████▌              | 7/8 [00:00<00:00,  9.93it/s]\u001b[A\n",
      "Validate (7744 / 10 Steps): 100%|████████████████████████████████████████████████████████████████████████████████████████████████████████████████████| 8/8 [00:01<00:00,  7.93it/s]\u001b[A\n",
      "Training (7751 / 10000 Steps) (loss=0.87745):  25%|████████████████████████▎                                                                        | 8/32 [00:02<00:09,  2.62it/s]"
     ]
    },
    {
     "name": "stdout",
     "output_type": "stream",
     "text": [
      "Model Was Not Saved ! Current Best Avg. Dice: 0.8960341215133667 Current Avg. Dice: 0.8760639429092407\n"
     ]
    },
    {
     "name": "stderr",
     "output_type": "stream",
     "text": [
      "Training (7775 / 10000 Steps) (loss=0.87399): 100%|████████████████████████████████████████████████████████████████████████████████████████████████| 32/32 [00:06<00:00,  4.77it/s]\n",
      "Training (7807 / 10000 Steps) (loss=0.86952): 100%|████████████████████████████████████████████████████████████████████████████████████████████████| 32/32 [00:05<00:00,  5.59it/s]\n",
      "Training (7839 / 10000 Steps) (loss=0.87294): 100%|████████████████████████████████████████████████████████████████████████████████████████████████| 32/32 [00:05<00:00,  5.78it/s]\n",
      "Training (7871 / 10000 Steps) (loss=0.87231): 100%|████████████████████████████████████████████████████████████████████████████████████████████████| 32/32 [00:05<00:00,  5.52it/s]\n",
      "Training (7903 / 10000 Steps) (loss=0.87758): 100%|████████████████████████████████████████████████████████████████████████████████████████████████| 32/32 [00:05<00:00,  6.02it/s]\n",
      "Training (7935 / 10000 Steps) (loss=0.87101): 100%|████████████████████████████████████████████████████████████████████████████████████████████████| 32/32 [00:05<00:00,  5.49it/s]\n",
      "Training (7967 / 10000 Steps) (loss=0.87614): 100%|████████████████████████████████████████████████████████████████████████████████████████████████| 32/32 [00:05<00:00,  5.61it/s]\n",
      "Training (7999 / 10000 Steps) (loss=0.87376): 100%|████████████████████████████████████████████████████████████████████████████████████████████████| 32/32 [00:05<00:00,  5.91it/s]\n",
      "Training (8000 / 10000 Steps) (loss=0.87766):   0%|                                                                                                         | 0/32 [00:00<?, ?it/s]\n",
      "Validate (X / X Steps) (dice=X.X):   0%|                                                                                                                     | 0/8 [00:00<?, ?it/s]\u001b[A\n",
      "Validate (8000 / 10 Steps):   0%|                                                                                                                            | 0/8 [00:00<?, ?it/s]\u001b[A\n",
      "Validate (8000 / 10 Steps):  12%|██████████████▌                                                                                                     | 1/8 [00:00<00:01,  4.03it/s]\u001b[A\n",
      "Validate (8000 / 10 Steps):  12%|██████████████▌                                                                                                     | 1/8 [00:00<00:01,  4.03it/s]\u001b[A\n",
      "Validate (8000 / 10 Steps):  25%|█████████████████████████████                                                                                       | 2/8 [00:00<00:00,  6.09it/s]\u001b[A\n",
      "Validate (8000 / 10 Steps):  25%|█████████████████████████████                                                                                       | 2/8 [00:00<00:00,  6.09it/s]\u001b[A\n",
      "Validate (8000 / 10 Steps):  25%|█████████████████████████████                                                                                       | 2/8 [00:00<00:00,  6.09it/s]\u001b[A\n",
      "Validate (8000 / 10 Steps):  50%|██████████████████████████████████████████████████████████                                                          | 4/8 [00:00<00:00,  8.59it/s]\u001b[A\n",
      "Validate (8000 / 10 Steps):  50%|██████████████████████████████████████████████████████████                                                          | 4/8 [00:00<00:00,  8.59it/s]\u001b[A\n",
      "Validate (8000 / 10 Steps):  62%|████████████████████████████████████████████████████████████████████████▌                                           | 5/8 [00:00<00:00,  8.89it/s]\u001b[A\n",
      "Validate (8000 / 10 Steps):  62%|████████████████████████████████████████████████████████████████████████▌                                           | 5/8 [00:00<00:00,  8.89it/s]\u001b[A\n",
      "Validate (8000 / 10 Steps):  62%|████████████████████████████████████████████████████████████████████████▌                                           | 5/8 [00:00<00:00,  8.89it/s]\u001b[A\n",
      "Validate (8000 / 10 Steps):  88%|█████████████████████████████████████████████████████████████████████████████████████████████████████▌              | 7/8 [00:00<00:00,  9.97it/s]\u001b[A\n",
      "Validate (8000 / 10 Steps): 100%|████████████████████████████████████████████████████████████████████████████████████████████████████████████████████| 8/8 [00:00<00:00,  8.16it/s]\u001b[A\n",
      "Training (8001 / 10000 Steps) (loss=0.87325):   6%|██████                                                                                           | 2/32 [00:01<00:22,  1.36it/s]"
     ]
    },
    {
     "name": "stdout",
     "output_type": "stream",
     "text": [
      "Model Was Not Saved ! Current Best Avg. Dice: 0.8960341215133667 Current Avg. Dice: 0.8834996223449707\n"
     ]
    },
    {
     "name": "stderr",
     "output_type": "stream",
     "text": [
      "Training (8031 / 10000 Steps) (loss=0.87068): 100%|████████████████████████████████████████████████████████████████████████████████████████████████| 32/32 [00:06<00:00,  4.74it/s]\n",
      "Training (8063 / 10000 Steps) (loss=0.87230): 100%|████████████████████████████████████████████████████████████████████████████████████████████████| 32/32 [00:05<00:00,  5.92it/s]\n",
      "Training (8095 / 10000 Steps) (loss=0.87035): 100%|████████████████████████████████████████████████████████████████████████████████████████████████| 32/32 [00:05<00:00,  5.52it/s]\n",
      "Training (8127 / 10000 Steps) (loss=0.86980): 100%|████████████████████████████████████████████████████████████████████████████████████████████████| 32/32 [00:05<00:00,  5.72it/s]\n",
      "Training (8159 / 10000 Steps) (loss=0.87419): 100%|████████████████████████████████████████████████████████████████████████████████████████████████| 32/32 [00:05<00:00,  5.73it/s]\n",
      "Training (8191 / 10000 Steps) (loss=0.87181): 100%|████████████████████████████████████████████████████████████████████████████████████████████████| 32/32 [00:05<00:00,  5.58it/s]\n",
      "Training (8223 / 10000 Steps) (loss=0.87466): 100%|████████████████████████████████████████████████████████████████████████████████████████████████| 32/32 [00:05<00:00,  6.15it/s]\n",
      "Training (8250 / 10000 Steps) (loss=0.87509):  81%|██████████████████████████████████████████████████████████████████████████████                  | 26/32 [00:05<00:00,  6.40it/s]\n",
      "Validate (X / X Steps) (dice=X.X):   0%|                                                                                                                     | 0/8 [00:00<?, ?it/s]\u001b[A\n",
      "Validate (8224 / 10 Steps):   0%|                                                                                                                            | 0/8 [00:00<?, ?it/s]\u001b[A\n",
      "Validate (8224 / 10 Steps):  12%|██████████████▌                                                                                                     | 1/8 [00:00<00:01,  3.81it/s]\u001b[A\n",
      "Validate (8224 / 10 Steps):  12%|██████████████▌                                                                                                     | 1/8 [00:00<00:01,  3.81it/s]\u001b[A\n",
      "Validate (8224 / 10 Steps):  25%|█████████████████████████████                                                                                       | 2/8 [00:00<00:01,  5.91it/s]\u001b[A\n",
      "Validate (8224 / 10 Steps):  25%|█████████████████████████████                                                                                       | 2/8 [00:00<00:01,  5.91it/s]\u001b[A\n",
      "Validate (8224 / 10 Steps):  25%|█████████████████████████████                                                                                       | 2/8 [00:00<00:01,  5.91it/s]\u001b[A\n",
      "Validate (8224 / 10 Steps):  50%|██████████████████████████████████████████████████████████                                                          | 4/8 [00:00<00:00,  8.46it/s]\u001b[A\n",
      "Validate (8224 / 10 Steps):  50%|██████████████████████████████████████████████████████████                                                          | 4/8 [00:00<00:00,  8.46it/s]\u001b[A\n",
      "Validate (8224 / 10 Steps):  62%|████████████████████████████████████████████████████████████████████████▌                                           | 5/8 [00:00<00:00,  8.80it/s]\u001b[A\n",
      "Validate (8224 / 10 Steps):  62%|████████████████████████████████████████████████████████████████████████▌                                           | 5/8 [00:00<00:00,  8.80it/s]\u001b[A\n",
      "Validate (8224 / 10 Steps):  62%|████████████████████████████████████████████████████████████████████████▌                                           | 5/8 [00:00<00:00,  8.80it/s]\u001b[A\n",
      "Validate (8224 / 10 Steps):  88%|█████████████████████████████████████████████████████████████████████████████████████████████████████▌              | 7/8 [00:00<00:00,  9.88it/s]\u001b[A\n",
      "Validate (8224 / 10 Steps): 100%|████████████████████████████████████████████████████████████████████████████████████████████████████████████████████| 8/8 [00:01<00:00,  7.50it/s]\u001b[A\n",
      "Training (8251 / 10000 Steps) (loss=0.86921):  88%|████████████████████████████████████████████████████████████████████████████████████            | 28/32 [00:06<00:01,  2.48it/s]"
     ]
    },
    {
     "name": "stdout",
     "output_type": "stream",
     "text": [
      "Model Was Not Saved ! Current Best Avg. Dice: 0.8960341215133667 Current Avg. Dice: 0.8936347961425781\n"
     ]
    },
    {
     "name": "stderr",
     "output_type": "stream",
     "text": [
      "Training (8255 / 10000 Steps) (loss=0.87268): 100%|████████████████████████████████████████████████████████████████████████████████████████████████| 32/32 [00:07<00:00,  4.54it/s]\n",
      "Training (8287 / 10000 Steps) (loss=0.87348): 100%|████████████████████████████████████████████████████████████████████████████████████████████████| 32/32 [00:05<00:00,  5.90it/s]\n",
      "Training (8319 / 10000 Steps) (loss=0.87188): 100%|████████████████████████████████████████████████████████████████████████████████████████████████| 32/32 [00:05<00:00,  5.49it/s]\n",
      "Training (8351 / 10000 Steps) (loss=0.87166): 100%|████████████████████████████████████████████████████████████████████████████████████████████████| 32/32 [00:05<00:00,  5.63it/s]\n",
      "Training (8383 / 10000 Steps) (loss=0.86948): 100%|████████████████████████████████████████████████████████████████████████████████████████████████| 32/32 [00:05<00:00,  5.78it/s]\n",
      "Training (8415 / 10000 Steps) (loss=0.87385): 100%|████████████████████████████████████████████████████████████████████████████████████████████████| 32/32 [00:05<00:00,  5.55it/s]\n",
      "Training (8447 / 10000 Steps) (loss=0.86895): 100%|████████████████████████████████████████████████████████████████████████████████████████████████| 32/32 [00:05<00:00,  5.96it/s]\n",
      "Training (8479 / 10000 Steps) (loss=0.86786): 100%|████████████████████████████████████████████████████████████████████████████████████████████████| 32/32 [00:05<00:00,  5.54it/s]\n",
      "Training (8500 / 10000 Steps) (loss=0.87229):  62%|████████████████████████████████████████████████████████████                                    | 20/32 [00:03<00:01,  6.77it/s]\n",
      "Validate (X / X Steps) (dice=X.X):   0%|                                                                                                                     | 0/8 [00:00<?, ?it/s]\u001b[A\n",
      "Validate (8480 / 10 Steps):   0%|                                                                                                                            | 0/8 [00:00<?, ?it/s]\u001b[A\n",
      "Validate (8480 / 10 Steps):  12%|██████████████▌                                                                                                     | 1/8 [00:00<00:01,  4.38it/s]\u001b[A\n",
      "Validate (8480 / 10 Steps):  12%|██████████████▌                                                                                                     | 1/8 [00:00<00:01,  4.38it/s]\u001b[A\n",
      "Validate (8480 / 10 Steps):  25%|█████████████████████████████                                                                                       | 2/8 [00:00<00:00,  6.44it/s]\u001b[A\n",
      "Validate (8480 / 10 Steps):  25%|█████████████████████████████                                                                                       | 2/8 [00:00<00:00,  6.44it/s]\u001b[A\n",
      "Validate (8480 / 10 Steps):  25%|█████████████████████████████                                                                                       | 2/8 [00:00<00:00,  6.44it/s]\u001b[A\n",
      "Validate (8480 / 10 Steps):  50%|██████████████████████████████████████████████████████████                                                          | 4/8 [00:00<00:00,  8.88it/s]\u001b[A\n",
      "Validate (8480 / 10 Steps):  50%|██████████████████████████████████████████████████████████                                                          | 4/8 [00:00<00:00,  8.88it/s]\u001b[A\n",
      "Validate (8480 / 10 Steps):  62%|████████████████████████████████████████████████████████████████████████▌                                           | 5/8 [00:00<00:00,  9.14it/s]\u001b[A\n",
      "Validate (8480 / 10 Steps):  62%|████████████████████████████████████████████████████████████████████████▌                                           | 5/8 [00:00<00:00,  9.14it/s]\u001b[A\n",
      "Validate (8480 / 10 Steps):  62%|████████████████████████████████████████████████████████████████████████▌                                           | 5/8 [00:00<00:00,  9.14it/s]\u001b[A\n",
      "Validate (8480 / 10 Steps):  88%|█████████████████████████████████████████████████████████████████████████████████████████████████████▌              | 7/8 [00:00<00:00, 10.14it/s]\u001b[A\n",
      "Validate (8480 / 10 Steps): 100%|████████████████████████████████████████████████████████████████████████████████████████████████████████████████████| 8/8 [00:00<00:00,  8.17it/s]\u001b[A\n",
      "Training (8501 / 10000 Steps) (loss=0.86918):  69%|██████████████████████████████████████████████████████████████████                              | 22/32 [00:04<00:03,  2.67it/s]"
     ]
    },
    {
     "name": "stdout",
     "output_type": "stream",
     "text": [
      "Model Was Not Saved ! Current Best Avg. Dice: 0.8960341215133667 Current Avg. Dice: 0.8911536335945129\n"
     ]
    },
    {
     "name": "stderr",
     "output_type": "stream",
     "text": [
      "Training (8511 / 10000 Steps) (loss=0.87216): 100%|████████████████████████████████████████████████████████████████████████████████████████████████| 32/32 [00:06<00:00,  4.91it/s]\n",
      "Training (8543 / 10000 Steps) (loss=0.87796): 100%|████████████████████████████████████████████████████████████████████████████████████████████████| 32/32 [00:05<00:00,  5.85it/s]\n",
      "Training (8575 / 10000 Steps) (loss=0.86963): 100%|████████████████████████████████████████████████████████████████████████████████████████████████| 32/32 [00:06<00:00,  5.30it/s]\n",
      "Training (8607 / 10000 Steps) (loss=0.87711): 100%|████████████████████████████████████████████████████████████████████████████████████████████████| 32/32 [00:05<00:00,  6.20it/s]\n",
      "Training (8639 / 10000 Steps) (loss=0.86823): 100%|████████████████████████████████████████████████████████████████████████████████████████████████| 32/32 [00:05<00:00,  5.43it/s]\n",
      "Training (8671 / 10000 Steps) (loss=0.87495): 100%|████████████████████████████████████████████████████████████████████████████████████████████████| 32/32 [00:05<00:00,  5.97it/s]\n",
      "Training (8703 / 10000 Steps) (loss=0.86993): 100%|████████████████████████████████████████████████████████████████████████████████████████████████| 32/32 [00:05<00:00,  5.84it/s]\n",
      "Training (8735 / 10000 Steps) (loss=0.86991): 100%|████████████████████████████████████████████████████████████████████████████████████████████████| 32/32 [00:05<00:00,  5.62it/s]\n",
      "Training (8750 / 10000 Steps) (loss=0.86836):  44%|██████████████████████████████████████████                                                      | 14/32 [00:02<00:02,  6.03it/s]\n",
      "Validate (X / X Steps) (dice=X.X):   0%|                                                                                                                     | 0/8 [00:00<?, ?it/s]\u001b[A\n",
      "Validate (8736 / 10 Steps):   0%|                                                                                                                            | 0/8 [00:00<?, ?it/s]\u001b[A\n",
      "Validate (8736 / 10 Steps):  12%|██████████████▌                                                                                                     | 1/8 [00:00<00:01,  4.19it/s]\u001b[A\n",
      "Validate (8736 / 10 Steps):  12%|██████████████▌                                                                                                     | 1/8 [00:00<00:01,  4.19it/s]\u001b[A\n",
      "Validate (8736 / 10 Steps):  25%|█████████████████████████████                                                                                       | 2/8 [00:00<00:00,  6.25it/s]\u001b[A\n",
      "Validate (8736 / 10 Steps):  25%|█████████████████████████████                                                                                       | 2/8 [00:00<00:00,  6.25it/s]\u001b[A\n",
      "Validate (8736 / 10 Steps):  25%|█████████████████████████████                                                                                       | 2/8 [00:00<00:00,  6.25it/s]\u001b[A\n",
      "Validate (8736 / 10 Steps):  50%|██████████████████████████████████████████████████████████                                                          | 4/8 [00:00<00:00,  8.72it/s]\u001b[A\n",
      "Validate (8736 / 10 Steps):  50%|██████████████████████████████████████████████████████████                                                          | 4/8 [00:00<00:00,  8.72it/s]\u001b[A\n",
      "Validate (8736 / 10 Steps):  62%|████████████████████████████████████████████████████████████████████████▌                                           | 5/8 [00:00<00:00,  8.99it/s]\u001b[A\n",
      "Validate (8736 / 10 Steps):  62%|████████████████████████████████████████████████████████████████████████▌                                           | 5/8 [00:00<00:00,  8.99it/s]\u001b[A\n",
      "Validate (8736 / 10 Steps):  62%|████████████████████████████████████████████████████████████████████████▌                                           | 5/8 [00:00<00:00,  8.99it/s]\u001b[A\n",
      "Validate (8736 / 10 Steps):  88%|█████████████████████████████████████████████████████████████████████████████████████████████████████▌              | 7/8 [00:00<00:00, 10.02it/s]\u001b[A\n",
      "Validate (8736 / 10 Steps): 100%|████████████████████████████████████████████████████████████████████████████████████████████████████████████████████| 8/8 [00:00<00:00,  8.24it/s]\u001b[A\n",
      "Training (8751 / 10000 Steps) (loss=0.87156):  50%|████████████████████████████████████████████████                                                | 16/32 [00:04<00:05,  2.77it/s]"
     ]
    },
    {
     "name": "stdout",
     "output_type": "stream",
     "text": [
      "Model Was Not Saved ! Current Best Avg. Dice: 0.8960341215133667 Current Avg. Dice: 0.8892982006072998\n"
     ]
    },
    {
     "name": "stderr",
     "output_type": "stream",
     "text": [
      "Training (8767 / 10000 Steps) (loss=0.86901): 100%|████████████████████████████████████████████████████████████████████████████████████████████████| 32/32 [00:06<00:00,  4.72it/s]\n",
      "Training (8799 / 10000 Steps) (loss=0.87147): 100%|████████████████████████████████████████████████████████████████████████████████████████████████| 32/32 [00:05<00:00,  5.50it/s]\n",
      "Training (8831 / 10000 Steps) (loss=0.87418): 100%|████████████████████████████████████████████████████████████████████████████████████████████████| 32/32 [00:05<00:00,  5.94it/s]\n",
      "Training (8863 / 10000 Steps) (loss=0.86983): 100%|████████████████████████████████████████████████████████████████████████████████████████████████| 32/32 [00:05<00:00,  5.57it/s]\n",
      "Training (8895 / 10000 Steps) (loss=0.86959): 100%|████████████████████████████████████████████████████████████████████████████████████████████████| 32/32 [00:05<00:00,  5.63it/s]\n",
      "Training (8927 / 10000 Steps) (loss=0.87488): 100%|████████████████████████████████████████████████████████████████████████████████████████████████| 32/32 [00:05<00:00,  5.74it/s]\n",
      "Training (8959 / 10000 Steps) (loss=0.87096): 100%|████████████████████████████████████████████████████████████████████████████████████████████████| 32/32 [00:05<00:00,  5.57it/s]\n",
      "Training (8991 / 10000 Steps) (loss=0.87287): 100%|████████████████████████████████████████████████████████████████████████████████████████████████| 32/32 [00:05<00:00,  6.14it/s]\n",
      "Training (9000 / 10000 Steps) (loss=0.87046):  25%|████████████████████████▎                                                                        | 8/32 [00:01<00:04,  4.92it/s]\n",
      "Validate (X / X Steps) (dice=X.X):   0%|                                                                                                                     | 0/8 [00:00<?, ?it/s]\u001b[A\n",
      "Validate (8992 / 10 Steps):   0%|                                                                                                                            | 0/8 [00:00<?, ?it/s]\u001b[A\n",
      "Validate (8992 / 10 Steps):  12%|██████████████▌                                                                                                     | 1/8 [00:00<00:01,  3.97it/s]\u001b[A\n",
      "Validate (8992 / 10 Steps):  12%|██████████████▌                                                                                                     | 1/8 [00:00<00:01,  3.97it/s]\u001b[A\n",
      "Validate (8992 / 10 Steps):  25%|█████████████████████████████                                                                                       | 2/8 [00:00<00:00,  6.05it/s]\u001b[A\n",
      "Validate (8992 / 10 Steps):  25%|█████████████████████████████                                                                                       | 2/8 [00:00<00:00,  6.05it/s]\u001b[A\n",
      "Validate (8992 / 10 Steps):  25%|█████████████████████████████                                                                                       | 2/8 [00:00<00:00,  6.05it/s]\u001b[A\n",
      "Validate (8992 / 10 Steps):  50%|██████████████████████████████████████████████████████████                                                          | 4/8 [00:00<00:00,  8.56it/s]\u001b[A\n",
      "Validate (8992 / 10 Steps):  50%|██████████████████████████████████████████████████████████                                                          | 4/8 [00:00<00:00,  8.56it/s]\u001b[A\n",
      "Validate (8992 / 10 Steps):  62%|████████████████████████████████████████████████████████████████████████▌                                           | 5/8 [00:00<00:00,  8.89it/s]\u001b[A\n",
      "Validate (8992 / 10 Steps):  62%|████████████████████████████████████████████████████████████████████████▌                                           | 5/8 [00:00<00:00,  8.89it/s]\u001b[A\n",
      "Validate (8992 / 10 Steps):  62%|████████████████████████████████████████████████████████████████████████▌                                           | 5/8 [00:00<00:00,  8.89it/s]\u001b[A\n",
      "Validate (8992 / 10 Steps):  88%|█████████████████████████████████████████████████████████████████████████████████████████████████████▌              | 7/8 [00:00<00:00,  9.99it/s]\u001b[A\n",
      "Validate (8992 / 10 Steps): 100%|████████████████████████████████████████████████████████████████████████████████████████████████████████████████████| 8/8 [00:01<00:00,  7.50it/s]\u001b[A\n",
      "Training (9001 / 10000 Steps) (loss=0.86849):  31%|██████████████████████████████                                                                  | 10/32 [00:03<00:08,  2.47it/s]"
     ]
    },
    {
     "name": "stdout",
     "output_type": "stream",
     "text": [
      "Model Was Not Saved ! Current Best Avg. Dice: 0.8960341215133667 Current Avg. Dice: 0.8930918574333191\n"
     ]
    },
    {
     "name": "stderr",
     "output_type": "stream",
     "text": [
      "Training (9023 / 10000 Steps) (loss=0.86938): 100%|████████████████████████████████████████████████████████████████████████████████████████████████| 32/32 [00:06<00:00,  4.73it/s]\n",
      "Training (9055 / 10000 Steps) (loss=0.87127): 100%|████████████████████████████████████████████████████████████████████████████████████████████████| 32/32 [00:05<00:00,  5.85it/s]\n",
      "Training (9087 / 10000 Steps) (loss=0.86961): 100%|████████████████████████████████████████████████████████████████████████████████████████████████| 32/32 [00:05<00:00,  5.89it/s]\n",
      "Training (9119 / 10000 Steps) (loss=0.87057): 100%|████████████████████████████████████████████████████████████████████████████████████████████████| 32/32 [00:05<00:00,  5.71it/s]\n",
      "Training (9151 / 10000 Steps) (loss=0.86763): 100%|████████████████████████████████████████████████████████████████████████████████████████████████| 32/32 [00:05<00:00,  6.20it/s]\n",
      "Training (9183 / 10000 Steps) (loss=0.86986): 100%|████████████████████████████████████████████████████████████████████████████████████████████████| 32/32 [00:06<00:00,  5.30it/s]\n",
      "Training (9215 / 10000 Steps) (loss=0.87341): 100%|████████████████████████████████████████████████████████████████████████████████████████████████| 32/32 [00:05<00:00,  5.83it/s]\n",
      "Training (9247 / 10000 Steps) (loss=0.86918): 100%|████████████████████████████████████████████████████████████████████████████████████████████████| 32/32 [00:05<00:00,  5.90it/s]\n",
      "Training (9250 / 10000 Steps) (loss=0.87128):   6%|██████                                                                                           | 2/32 [00:00<00:09,  3.24it/s]\n",
      "Validate (X / X Steps) (dice=X.X):   0%|                                                                                                                     | 0/8 [00:00<?, ?it/s]\u001b[A\n",
      "Validate (9248 / 10 Steps):   0%|                                                                                                                            | 0/8 [00:00<?, ?it/s]\u001b[A\n",
      "Validate (9248 / 10 Steps):  12%|██████████████▌                                                                                                     | 1/8 [00:00<00:01,  3.88it/s]\u001b[A\n",
      "Validate (9248 / 10 Steps):  12%|██████████████▌                                                                                                     | 1/8 [00:00<00:01,  3.88it/s]\u001b[A\n",
      "Validate (9248 / 10 Steps):  25%|█████████████████████████████                                                                                       | 2/8 [00:00<00:01,  5.97it/s]\u001b[A\n",
      "Validate (9248 / 10 Steps):  25%|█████████████████████████████                                                                                       | 2/8 [00:00<00:01,  5.97it/s]\u001b[A\n",
      "Validate (9248 / 10 Steps):  25%|█████████████████████████████                                                                                       | 2/8 [00:00<00:01,  5.97it/s]\u001b[A\n",
      "Validate (9248 / 10 Steps):  50%|██████████████████████████████████████████████████████████                                                          | 4/8 [00:00<00:00,  8.49it/s]\u001b[A\n",
      "Validate (9248 / 10 Steps):  50%|██████████████████████████████████████████████████████████                                                          | 4/8 [00:00<00:00,  8.49it/s]\u001b[A\n",
      "Validate (9248 / 10 Steps):  62%|████████████████████████████████████████████████████████████████████████▌                                           | 5/8 [00:00<00:00,  8.82it/s]\u001b[A\n",
      "Validate (9248 / 10 Steps):  62%|████████████████████████████████████████████████████████████████████████▌                                           | 5/8 [00:00<00:00,  8.82it/s]\u001b[A\n",
      "Validate (9248 / 10 Steps):  62%|████████████████████████████████████████████████████████████████████████▌                                           | 5/8 [00:00<00:00,  8.82it/s]\u001b[A\n",
      "Validate (9248 / 10 Steps):  88%|█████████████████████████████████████████████████████████████████████████████████████████████████████▌              | 7/8 [00:00<00:00,  9.89it/s]\u001b[A\n",
      "Validate (9248 / 10 Steps): 100%|████████████████████████████████████████████████████████████████████████████████████████████████████████████████████| 8/8 [00:01<00:00,  7.97it/s]\u001b[A\n",
      "Training (9251 / 10000 Steps) (loss=0.87383):  12%|████████████▏                                                                                    | 4/32 [00:01<00:13,  2.09it/s]"
     ]
    },
    {
     "name": "stdout",
     "output_type": "stream",
     "text": [
      "Model Was Not Saved ! Current Best Avg. Dice: 0.8960341215133667 Current Avg. Dice: 0.8749870657920837\n"
     ]
    },
    {
     "name": "stderr",
     "output_type": "stream",
     "text": [
      "Training (9279 / 10000 Steps) (loss=0.87194): 100%|████████████████████████████████████████████████████████████████████████████████████████████████| 32/32 [00:06<00:00,  4.81it/s]\n",
      "Training (9311 / 10000 Steps) (loss=0.88078): 100%|████████████████████████████████████████████████████████████████████████████████████████████████| 32/32 [00:05<00:00,  5.78it/s]\n",
      "Training (9343 / 10000 Steps) (loss=0.87290): 100%|████████████████████████████████████████████████████████████████████████████████████████████████| 32/32 [00:05<00:00,  5.61it/s]\n",
      "Training (9375 / 10000 Steps) (loss=0.87174): 100%|████████████████████████████████████████████████████████████████████████████████████████████████| 32/32 [00:05<00:00,  5.85it/s]\n",
      "Training (9407 / 10000 Steps) (loss=0.87066): 100%|████████████████████████████████████████████████████████████████████████████████████████████████| 32/32 [00:05<00:00,  5.53it/s]\n",
      "Training (9439 / 10000 Steps) (loss=0.87082): 100%|████████████████████████████████████████████████████████████████████████████████████████████████| 32/32 [00:05<00:00,  5.68it/s]\n",
      "Training (9471 / 10000 Steps) (loss=0.87355): 100%|████████████████████████████████████████████████████████████████████████████████████████████████| 32/32 [00:05<00:00,  5.82it/s]\n",
      "Training (9500 / 10000 Steps) (loss=0.87296):  88%|████████████████████████████████████████████████████████████████████████████████████            | 28/32 [00:05<00:00,  5.49it/s]\n",
      "Validate (X / X Steps) (dice=X.X):   0%|                                                                                                                     | 0/8 [00:00<?, ?it/s]\u001b[A\n",
      "Validate (9472 / 10 Steps):   0%|                                                                                                                            | 0/8 [00:00<?, ?it/s]\u001b[A\n",
      "Validate (9472 / 10 Steps):  12%|██████████████▌                                                                                                     | 1/8 [00:00<00:01,  3.88it/s]\u001b[A\n",
      "Validate (9472 / 10 Steps):  12%|██████████████▌                                                                                                     | 1/8 [00:00<00:01,  3.88it/s]\u001b[A\n",
      "Validate (9472 / 10 Steps):  25%|█████████████████████████████                                                                                       | 2/8 [00:00<00:01,  5.96it/s]\u001b[A\n",
      "Validate (9472 / 10 Steps):  25%|█████████████████████████████                                                                                       | 2/8 [00:00<00:01,  5.96it/s]\u001b[A\n",
      "Validate (9472 / 10 Steps):  25%|█████████████████████████████                                                                                       | 2/8 [00:00<00:01,  5.96it/s]\u001b[A\n",
      "Validate (9472 / 10 Steps):  50%|██████████████████████████████████████████████████████████                                                          | 4/8 [00:00<00:00,  8.51it/s]\u001b[A\n",
      "Validate (9472 / 10 Steps):  50%|██████████████████████████████████████████████████████████                                                          | 4/8 [00:00<00:00,  8.51it/s]\u001b[A\n",
      "Validate (9472 / 10 Steps):  62%|████████████████████████████████████████████████████████████████████████▌                                           | 5/8 [00:00<00:00,  8.85it/s]\u001b[A\n",
      "Validate (9472 / 10 Steps):  62%|████████████████████████████████████████████████████████████████████████▌                                           | 5/8 [00:00<00:00,  8.85it/s]\u001b[A\n",
      "Validate (9472 / 10 Steps):  62%|████████████████████████████████████████████████████████████████████████▌                                           | 5/8 [00:00<00:00,  8.85it/s]\u001b[A\n",
      "Validate (9472 / 10 Steps):  88%|█████████████████████████████████████████████████████████████████████████████████████████████████████▌              | 7/8 [00:00<00:00,  9.94it/s]\u001b[A\n",
      "Validate (9472 / 10 Steps): 100%|████████████████████████████████████████████████████████████████████████████████████████████████████████████████████| 8/8 [00:01<00:00,  7.70it/s]\u001b[A\n",
      "Training (9501 / 10000 Steps) (loss=0.87386):  94%|██████████████████████████████████████████████████████████████████████████████████████████      | 30/32 [00:06<00:00,  2.62it/s]"
     ]
    },
    {
     "name": "stdout",
     "output_type": "stream",
     "text": [
      "Model Was Not Saved ! Current Best Avg. Dice: 0.8960341215133667 Current Avg. Dice: 0.8795427083969116\n"
     ]
    },
    {
     "name": "stderr",
     "output_type": "stream",
     "text": [
      "Training (9503 / 10000 Steps) (loss=0.87028): 100%|████████████████████████████████████████████████████████████████████████████████████████████████| 32/32 [00:06<00:00,  4.76it/s]\n",
      "Training (9535 / 10000 Steps) (loss=0.87040): 100%|████████████████████████████████████████████████████████████████████████████████████████████████| 32/32 [00:05<00:00,  6.10it/s]\n",
      "Training (9567 / 10000 Steps) (loss=0.86806): 100%|████████████████████████████████████████████████████████████████████████████████████████████████| 32/32 [00:05<00:00,  5.57it/s]\n",
      "Training (9599 / 10000 Steps) (loss=0.87122): 100%|████████████████████████████████████████████████████████████████████████████████████████████████| 32/32 [00:05<00:00,  5.79it/s]\n",
      "Training (9631 / 10000 Steps) (loss=0.87193): 100%|████████████████████████████████████████████████████████████████████████████████████████████████| 32/32 [00:05<00:00,  5.88it/s]\n",
      "Training (9663 / 10000 Steps) (loss=0.86725): 100%|████████████████████████████████████████████████████████████████████████████████████████████████| 32/32 [00:05<00:00,  5.35it/s]\n",
      "Training (9695 / 10000 Steps) (loss=0.86892): 100%|████████████████████████████████████████████████████████████████████████████████████████████████| 32/32 [00:05<00:00,  6.16it/s]\n",
      "Training (9727 / 10000 Steps) (loss=0.86595): 100%|████████████████████████████████████████████████████████████████████████████████████████████████| 32/32 [00:05<00:00,  5.54it/s]\n",
      "Training (9750 / 10000 Steps) (loss=0.86867):  69%|██████████████████████████████████████████████████████████████████                              | 22/32 [00:04<00:01,  6.50it/s]\n",
      "Validate (X / X Steps) (dice=X.X):   0%|                                                                                                                     | 0/8 [00:00<?, ?it/s]\u001b[A\n",
      "Validate (9728 / 10 Steps):   0%|                                                                                                                            | 0/8 [00:00<?, ?it/s]\u001b[A\n",
      "Validate (9728 / 10 Steps):  12%|██████████████▌                                                                                                     | 1/8 [00:00<00:01,  3.95it/s]\u001b[A\n",
      "Validate (9728 / 10 Steps):  12%|██████████████▌                                                                                                     | 1/8 [00:00<00:01,  3.95it/s]\u001b[A\n",
      "Validate (9728 / 10 Steps):  25%|█████████████████████████████                                                                                       | 2/8 [00:00<00:00,  6.04it/s]\u001b[A\n",
      "Validate (9728 / 10 Steps):  25%|█████████████████████████████                                                                                       | 2/8 [00:00<00:00,  6.04it/s]\u001b[A\n",
      "Validate (9728 / 10 Steps):  25%|█████████████████████████████                                                                                       | 2/8 [00:00<00:00,  6.04it/s]\u001b[A\n",
      "Validate (9728 / 10 Steps):  50%|██████████████████████████████████████████████████████████                                                          | 4/8 [00:00<00:00,  8.55it/s]\u001b[A\n",
      "Validate (9728 / 10 Steps):  50%|██████████████████████████████████████████████████████████                                                          | 4/8 [00:00<00:00,  8.55it/s]\u001b[A\n",
      "Validate (9728 / 10 Steps):  62%|████████████████████████████████████████████████████████████████████████▌                                           | 5/8 [00:00<00:00,  8.86it/s]\u001b[A\n",
      "Validate (9728 / 10 Steps):  62%|████████████████████████████████████████████████████████████████████████▌                                           | 5/8 [00:00<00:00,  8.86it/s]\u001b[A\n",
      "Validate (9728 / 10 Steps):  62%|████████████████████████████████████████████████████████████████████████▌                                           | 5/8 [00:00<00:00,  8.86it/s]\u001b[A\n",
      "Validate (9728 / 10 Steps):  88%|█████████████████████████████████████████████████████████████████████████████████████████████████████▌              | 7/8 [00:00<00:00,  9.92it/s]\u001b[A\n",
      "Validate (9728 / 10 Steps): 100%|████████████████████████████████████████████████████████████████████████████████████████████████████████████████████| 8/8 [00:00<00:00,  8.04it/s]\u001b[A\n",
      "Training (9751 / 10000 Steps) (loss=0.86923):  75%|████████████████████████████████████████████████████████████████████████                        | 24/32 [00:05<00:02,  2.78it/s]"
     ]
    },
    {
     "name": "stdout",
     "output_type": "stream",
     "text": [
      "Model Was Not Saved ! Current Best Avg. Dice: 0.8960341215133667 Current Avg. Dice: 0.8893673419952393\n"
     ]
    },
    {
     "name": "stderr",
     "output_type": "stream",
     "text": [
      "Training (9759 / 10000 Steps) (loss=0.86964): 100%|████████████████████████████████████████████████████████████████████████████████████████████████| 32/32 [00:06<00:00,  4.95it/s]\n",
      "Training (9791 / 10000 Steps) (loss=0.86849): 100%|████████████████████████████████████████████████████████████████████████████████████████████████| 32/32 [00:05<00:00,  5.71it/s]\n",
      "Training (9823 / 10000 Steps) (loss=0.86832): 100%|████████████████████████████████████████████████████████████████████████████████████████████████| 32/32 [00:05<00:00,  5.57it/s]\n",
      "Training (9855 / 10000 Steps) (loss=0.86671): 100%|████████████████████████████████████████████████████████████████████████████████████████████████| 32/32 [00:05<00:00,  6.01it/s]\n",
      "Training (9887 / 10000 Steps) (loss=0.86886): 100%|████████████████████████████████████████████████████████████████████████████████████████████████| 32/32 [00:05<00:00,  5.47it/s]\n",
      "Training (9919 / 10000 Steps) (loss=0.86965): 100%|████████████████████████████████████████████████████████████████████████████████████████████████| 32/32 [00:05<00:00,  5.87it/s]\n",
      "Training (9951 / 10000 Steps) (loss=0.86781): 100%|████████████████████████████████████████████████████████████████████████████████████████████████| 32/32 [00:05<00:00,  5.84it/s]\n",
      "Training (9983 / 10000 Steps) (loss=0.86728): 100%|████████████████████████████████████████████████████████████████████████████████████████████████| 32/32 [00:05<00:00,  5.58it/s]\n",
      "Training (10000 / 10000 Steps) (loss=0.86806):  50%|███████████████████████████████████████████████▌                                               | 16/32 [00:03<00:02,  6.31it/s]\n",
      "Validate (X / X Steps) (dice=X.X):   0%|                                                                                                                     | 0/8 [00:00<?, ?it/s]\u001b[A\n",
      "Validate (9984 / 10 Steps):   0%|                                                                                                                            | 0/8 [00:00<?, ?it/s]\u001b[A\n",
      "Validate (9984 / 10 Steps):  12%|██████████████▌                                                                                                     | 1/8 [00:00<00:01,  4.29it/s]\u001b[A\n",
      "Validate (9984 / 10 Steps):  12%|██████████████▌                                                                                                     | 1/8 [00:00<00:01,  4.29it/s]\u001b[A\n",
      "Validate (9984 / 10 Steps):  25%|█████████████████████████████                                                                                       | 2/8 [00:00<00:00,  6.34it/s]\u001b[A\n",
      "Validate (9984 / 10 Steps):  25%|█████████████████████████████                                                                                       | 2/8 [00:00<00:00,  6.34it/s]\u001b[A\n",
      "Validate (9984 / 10 Steps):  25%|█████████████████████████████                                                                                       | 2/8 [00:00<00:00,  6.34it/s]\u001b[A\n",
      "Validate (9984 / 10 Steps):  50%|██████████████████████████████████████████████████████████                                                          | 4/8 [00:00<00:00,  8.77it/s]\u001b[A\n",
      "Validate (9984 / 10 Steps):  50%|██████████████████████████████████████████████████████████                                                          | 4/8 [00:00<00:00,  8.77it/s]\u001b[A\n",
      "Validate (9984 / 10 Steps):  62%|████████████████████████████████████████████████████████████████████████▌                                           | 5/8 [00:00<00:00,  9.04it/s]\u001b[A\n",
      "Validate (9984 / 10 Steps):  62%|████████████████████████████████████████████████████████████████████████▌                                           | 5/8 [00:00<00:00,  9.04it/s]\u001b[A\n",
      "Validate (9984 / 10 Steps):  62%|████████████████████████████████████████████████████████████████████████▌                                           | 5/8 [00:00<00:00,  9.04it/s]\u001b[A\n",
      "Validate (9984 / 10 Steps):  88%|█████████████████████████████████████████████████████████████████████████████████████████████████████▌              | 7/8 [00:00<00:00, 10.05it/s]\u001b[A\n",
      "Validate (9984 / 10 Steps): 100%|████████████████████████████████████████████████████████████████████████████████████████████████████████████████████| 8/8 [00:00<00:00,  8.34it/s]\u001b[A\n",
      "Training (10001 / 10000 Steps) (loss=0.87145):  56%|█████████████████████████████████████████████████████▍                                         | 18/32 [00:04<00:04,  2.82it/s]"
     ]
    },
    {
     "name": "stdout",
     "output_type": "stream",
     "text": [
      "Model Was Not Saved ! Current Best Avg. Dice: 0.8960341215133667 Current Avg. Dice: 0.8806915283203125\n"
     ]
    },
    {
     "name": "stderr",
     "output_type": "stream",
     "text": [
      "Training (10015 / 10000 Steps) (loss=0.86758): 100%|███████████████████████████████████████████████████████████████████████████████████████████████| 32/32 [00:06<00:00,  4.88it/s]\n"
     ]
    },
    {
     "ename": "FileNotFoundError",
     "evalue": "[Errno 2] No such file or directory: '/home/katan/SegResNet.pth'",
     "output_type": "error",
     "traceback": [
      "\u001b[0;31m---------------------------------------------------------------------------\u001b[0m",
      "\u001b[0;31mFileNotFoundError\u001b[0m                         Traceback (most recent call last)",
      "Cell \u001b[0;32mIn[15], line 13\u001b[0m\n\u001b[1;32m     11\u001b[0m \u001b[38;5;28;01mwhile\u001b[39;00m global_step \u001b[38;5;241m<\u001b[39m max_iterations:\n\u001b[1;32m     12\u001b[0m     global_step, dice_val_best, global_step_best \u001b[38;5;241m=\u001b[39m train(global_step, train_loader, dice_val_best, global_step_best)\n\u001b[0;32m---> 13\u001b[0m model\u001b[38;5;241m.\u001b[39mload_state_dict(\u001b[43mtorch\u001b[49m\u001b[38;5;241;43m.\u001b[39;49m\u001b[43mload\u001b[49m\u001b[43m(\u001b[49m\u001b[43mos\u001b[49m\u001b[38;5;241;43m.\u001b[39;49m\u001b[43mpath\u001b[49m\u001b[38;5;241;43m.\u001b[39;49m\u001b[43mjoin\u001b[49m\u001b[43m(\u001b[49m\u001b[43mroot_dir\u001b[49m\u001b[43m,\u001b[49m\u001b[43m \u001b[49m\u001b[38;5;124;43m\"\u001b[39;49m\u001b[38;5;124;43mSegResNet.pth\u001b[39;49m\u001b[38;5;124;43m\"\u001b[39;49m\u001b[43m)\u001b[49m\u001b[43m)\u001b[49m)\n",
      "File \u001b[0;32m/usr/local/lib/python3.10/dist-packages/torch/serialization.py:997\u001b[0m, in \u001b[0;36mload\u001b[0;34m(f, map_location, pickle_module, weights_only, mmap, **pickle_load_args)\u001b[0m\n\u001b[1;32m    994\u001b[0m \u001b[38;5;28;01mif\u001b[39;00m \u001b[38;5;124m'\u001b[39m\u001b[38;5;124mencoding\u001b[39m\u001b[38;5;124m'\u001b[39m \u001b[38;5;129;01mnot\u001b[39;00m \u001b[38;5;129;01min\u001b[39;00m pickle_load_args\u001b[38;5;241m.\u001b[39mkeys():\n\u001b[1;32m    995\u001b[0m     pickle_load_args[\u001b[38;5;124m'\u001b[39m\u001b[38;5;124mencoding\u001b[39m\u001b[38;5;124m'\u001b[39m] \u001b[38;5;241m=\u001b[39m \u001b[38;5;124m'\u001b[39m\u001b[38;5;124mutf-8\u001b[39m\u001b[38;5;124m'\u001b[39m\n\u001b[0;32m--> 997\u001b[0m \u001b[38;5;28;01mwith\u001b[39;00m \u001b[43m_open_file_like\u001b[49m\u001b[43m(\u001b[49m\u001b[43mf\u001b[49m\u001b[43m,\u001b[49m\u001b[43m \u001b[49m\u001b[38;5;124;43m'\u001b[39;49m\u001b[38;5;124;43mrb\u001b[39;49m\u001b[38;5;124;43m'\u001b[39;49m\u001b[43m)\u001b[49m \u001b[38;5;28;01mas\u001b[39;00m opened_file:\n\u001b[1;32m    998\u001b[0m     \u001b[38;5;28;01mif\u001b[39;00m _is_zipfile(opened_file):\n\u001b[1;32m    999\u001b[0m         \u001b[38;5;66;03m# The zipfile reader is going to advance the current file position.\u001b[39;00m\n\u001b[1;32m   1000\u001b[0m         \u001b[38;5;66;03m# If we want to actually tail call to torch.jit.load, we need to\u001b[39;00m\n\u001b[1;32m   1001\u001b[0m         \u001b[38;5;66;03m# reset back to the original position.\u001b[39;00m\n\u001b[1;32m   1002\u001b[0m         orig_position \u001b[38;5;241m=\u001b[39m opened_file\u001b[38;5;241m.\u001b[39mtell()\n",
      "File \u001b[0;32m/usr/local/lib/python3.10/dist-packages/torch/serialization.py:444\u001b[0m, in \u001b[0;36m_open_file_like\u001b[0;34m(name_or_buffer, mode)\u001b[0m\n\u001b[1;32m    442\u001b[0m \u001b[38;5;28;01mdef\u001b[39;00m \u001b[38;5;21m_open_file_like\u001b[39m(name_or_buffer, mode):\n\u001b[1;32m    443\u001b[0m     \u001b[38;5;28;01mif\u001b[39;00m _is_path(name_or_buffer):\n\u001b[0;32m--> 444\u001b[0m         \u001b[38;5;28;01mreturn\u001b[39;00m \u001b[43m_open_file\u001b[49m\u001b[43m(\u001b[49m\u001b[43mname_or_buffer\u001b[49m\u001b[43m,\u001b[49m\u001b[43m \u001b[49m\u001b[43mmode\u001b[49m\u001b[43m)\u001b[49m\n\u001b[1;32m    445\u001b[0m     \u001b[38;5;28;01melse\u001b[39;00m:\n\u001b[1;32m    446\u001b[0m         \u001b[38;5;28;01mif\u001b[39;00m \u001b[38;5;124m'\u001b[39m\u001b[38;5;124mw\u001b[39m\u001b[38;5;124m'\u001b[39m \u001b[38;5;129;01min\u001b[39;00m mode:\n",
      "File \u001b[0;32m/usr/local/lib/python3.10/dist-packages/torch/serialization.py:425\u001b[0m, in \u001b[0;36m_open_file.__init__\u001b[0;34m(self, name, mode)\u001b[0m\n\u001b[1;32m    424\u001b[0m \u001b[38;5;28;01mdef\u001b[39;00m \u001b[38;5;21m__init__\u001b[39m(\u001b[38;5;28mself\u001b[39m, name, mode):\n\u001b[0;32m--> 425\u001b[0m     \u001b[38;5;28msuper\u001b[39m()\u001b[38;5;241m.\u001b[39m\u001b[38;5;21m__init__\u001b[39m(\u001b[38;5;28;43mopen\u001b[39;49m\u001b[43m(\u001b[49m\u001b[43mname\u001b[49m\u001b[43m,\u001b[49m\u001b[43m \u001b[49m\u001b[43mmode\u001b[49m\u001b[43m)\u001b[49m)\n",
      "\u001b[0;31mFileNotFoundError\u001b[0m: [Errno 2] No such file or directory: '/home/katan/SegResNet.pth'"
     ]
    }
   ],
   "source": [
    "\n",
    "\n",
    "max_iterations = 10000 #change this accordingly\n",
    "eval_num = 250 #change this accordingly\n",
    "post_label = AsDiscrete(to_onehot=14)\n",
    "post_pred = AsDiscrete(argmax=True, to_onehot=14)\n",
    "dice_metric = DiceMetric(include_background=True, reduction=\"mean\", get_not_nans=False)\n",
    "global_step = 0\n",
    "dice_val_best = 0.0\n",
    "global_step_best = 0\n",
    "epoch_loss_values = []\n",
    "metric_values = []\n",
    "while global_step < max_iterations:\n",
    "    global_step, dice_val_best, global_step_best = train(global_step, train_loader, dice_val_best, global_step_best)\n",
    "model.load_state_dict(torch.load(os.path.join(root_dir, \"SegResNet.pth\")))"
   ]
  },
  {
   "cell_type": "code",
   "execution_count": 16,
   "id": "3f16c0f0-785a-4c1d-977b-eaeea9db45b6",
   "metadata": {},
   "outputs": [
    {
     "name": "stdout",
     "output_type": "stream",
     "text": [
      "train completed, best_metric: 0.8960 at iteration: 6750\n"
     ]
    }
   ],
   "source": [
    "print(f\"train completed, best_metric: {dice_val_best:.4f} \" f\"at iteration: {global_step_best}\")\n"
   ]
  },
  {
   "cell_type": "markdown",
   "id": "e01eeda8-40df-4283-8ca9-04a4938bc0e7",
   "metadata": {},
   "source": [
    "# Plot the loss and metric\n"
   ]
  },
  {
   "cell_type": "code",
   "execution_count": 17,
   "id": "29c776d8-f77d-4a7e-8bf2-35a25b2ee7ec",
   "metadata": {},
   "outputs": [
    {
     "data": {
      "image/png": "[encoded data removed]",
      "text/plain": [
       "<Figure size 1200x600 with 2 Axes>"
      ]
     },
     "metadata": {},
     "output_type": "display_data"
    }
   ],
   "source": [
    "plt.figure(\"train\", (12, 6))\n",
    "plt.subplot(1, 2, 1)\n",
    "plt.title(\"Iteration Average Loss\")\n",
    "x = [eval_num * (i + 1) for i in range(len(epoch_loss_values))]\n",
    "y = epoch_loss_values\n",
    "plt.xlabel(\"Iteration\")\n",
    "plt.plot(x, y)\n",
    "plt.subplot(1, 2, 2)\n",
    "plt.title(\"Val Mean Dice\")\n",
    "x = [eval_num * (i + 1) for i in range(len(metric_values))]\n",
    "y = metric_values\n",
    "plt.xlabel(\"Iteration\")\n",
    "plt.plot(x, y)\n",
    "\n",
    "# Adjust layout to prevent overlapping titles\n",
    "plt.tight_layout()\n",
    "\n",
    "# Save the plot\n",
    "plt.savefig('plot_25k.png') \n",
    "\n",
    "plt.show()"
   ]
  },
  {
   "cell_type": "markdown",
   "id": "4b201c0f-3cb0-4d50-bb16-0190072519b5",
   "metadata": {},
   "source": [
    "# Check best model output with the input image and label\n"
   ]
  },
  {
   "cell_type": "code",
   "execution_count": 18,
   "id": "34ca5f7c-7d50-4586-96b2-708926626327",
   "metadata": {},
   "outputs": [
    {
     "data": {
      "image/png": "[encoded data removed]",
      "text/plain": [
       "<Figure size 1800x600 with 3 Axes>"
      ]
     },
     "metadata": {},
     "output_type": "display_data"
    }
   ],
   "source": [
    "case_num = 0\n",
    "model.load_state_dict(torch.load(os.path.join(root_dir, \"SegResNet.pth\")))\n",
    "model.eval()\n",
    "with torch.no_grad():\n",
    "    img_name = os.path.split(val_ds[case_num][\"image\"].meta[\"filename_or_obj\"])[1]\n",
    "    img = val_ds[case_num][\"image\"]\n",
    "    label = val_ds[case_num][\"label\"]\n",
    "    val_inputs = torch.unsqueeze(img, 1).cuda()\n",
    "    val_labels = torch.unsqueeze(label, 1).cuda()\n",
    "    val_outputs = sliding_window_inference(val_inputs, (96, 96, 96), 4, model, overlap=0.8)\n",
    "    plt.figure(\"check\", (18, 6))\n",
    "    plt.subplot(1, 3, 1)\n",
    "    plt.title(\"image\")\n",
    "    plt.imshow(val_inputs.cpu().numpy()[0, 0, :, :, slice_map[img_name]], cmap=\"gray\")\n",
    "    plt.subplot(1, 3, 2)\n",
    "    plt.title(\"label\")\n",
    "    plt.imshow(val_labels.cpu().numpy()[0, 0, :, :, slice_map[img_name]])\n",
    "    plt.subplot(1, 3, 3)\n",
    "    plt.title(\"output\")\n",
    "    plt.imshow(torch.argmax(val_outputs, dim=1).detach().cpu()[0, :, :, slice_map[img_name]])\n",
    "    # Adjust layout to prevent overlapping titles\n",
    "    plt.tight_layout()\n",
    "\n",
    "    # Save the plot\n",
    "    plt.savefig('plot2_25k.png')  \n",
    "\n",
    "    plt.show()"
   ]
  },
  {
   "cell_type": "code",
   "execution_count": 19,
   "id": "a94f0e92-ac0d-4407-b31b-ae01de28a74a",
   "metadata": {},
   "outputs": [
    {
     "data": {
      "image/png": "[encoded data removed]",
      "text/plain": [
       "<Figure size 640x480 with 2 Axes>"
      ]
     },
     "metadata": {},
     "output_type": "display_data"
    }
   ],
   "source": [
    "\n",
    "case_num = 0\n",
    "model.load_state_dict(torch.load(os.path.join(root_dir, \"best_metric_model.pth\")))\n",
    "model.eval()\n",
    "with torch.no_grad():\n",
    "    img_name = os.path.split(val_ds[case_num][\"image\"].meta[\"filename_or_obj\"])[1]\n",
    "    img = val_ds[case_num][\"image\"]\n",
    "    label = val_ds[case_num][\"label\"]\n",
    "    val_inputs = torch.unsqueeze(img, 1).cuda()\n",
    "    val_labels = torch.unsqueeze(label, 1).cuda()\n",
    "    val_outputs = sliding_window_inference(val_inputs, (96, 96, 96), 4, model, overlap=0.8)\n",
    "\n",
    "    # Stack slices along the specified dimension\n",
    "    output_volume = torch.argmax(val_outputs, dim=1).detach().cpu()\n",
    "\n",
    "    # Save the 3D volume as an image\n",
    "    output_volume_np = output_volume.numpy()\n",
    "    output_volume_np = np.moveaxis(output_volume_np, 0, -1)  # Move channel dimension to the last\n",
    "    output_volume_np = np.squeeze(output_volume_np)  # Remove singleton channel dimension if present\n",
    "\n",
    "    # Save the 3D volume as an image file\n",
    "    output_volume_img = sitk.GetImageFromArray(output_volume_np)\n",
    "    sitk.WriteImage(output_volume_img, 'output_volume_25k.nii')\n",
    "\n",
    "    # Plot the first slice for visualization\n",
    "    plt.imshow(output_volume_np[:, :, slice_map[img_name]])\n",
    "    plt.title(\"Output Volume\")\n",
    "    plt.colorbar()\n",
    "    plt.show()\n"
   ]
  },
  {
   "cell_type": "code",
   "execution_count": null,
   "id": "8a7eacc3-d5a8-4076-9625-ddc1a4181ae5",
   "metadata": {},
   "outputs": [],
   "source": []
  }
 ],
 "metadata": {
  "kernelspec": {
   "display_name": "Python 3 (ipykernel)",
   "language": "python",
   "name": "python3"
  },
  "language_info": {
   "codemirror_mode": {
    "name": "ipython",
    "version": 3
   },
   "file_extension": ".py",
   "mimetype": "text/x-python",
   "name": "python",
   "nbconvert_exporter": "python",
   "pygments_lexer": "ipython3",
   "version": "3.10.12"
  }
 },
 "nbformat": 4,
 "nbformat_minor": 5
}
